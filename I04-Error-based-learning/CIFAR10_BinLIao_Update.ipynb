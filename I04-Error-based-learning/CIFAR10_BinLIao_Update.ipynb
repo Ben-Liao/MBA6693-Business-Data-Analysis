{
  "cells": [
    {
      "cell_type": "code",
      "execution_count": 1,
      "metadata": {
        "id": "UkN9Sf08216s"
      },
      "outputs": [],
      "source": [
        "# For tips on running notebooks in Google Colab, see\n",
        "# https://pytorch.org/tutorials/beginner/colab\n",
        "%matplotlib inline"
      ]
    },
    {
      "cell_type": "code",
      "execution_count": 2,
      "metadata": {
        "colab": {
          "base_uri": "https://localhost:8080/",
          "height": 35
        },
        "id": "ynume_Pv8Gzm",
        "outputId": "bbac386d-74ba-4a9d-f580-decf7ed2c3a1"
      },
      "outputs": [
        {
          "data": {
            "text/plain": [
              "'2.0.0'"
            ]
          },
          "execution_count": 2,
          "metadata": {},
          "output_type": "execute_result"
        }
      ],
      "source": [
        "import torch\n",
        "torch.__version__"
      ]
    },
    {
      "cell_type": "code",
      "execution_count": 34,
      "metadata": {
        "colab": {
          "base_uri": "https://localhost:8080/"
        },
        "id": "Jm-kiWgPh-Ot",
        "outputId": "30323f21-b580-4252-ae67-371320ee80c7"
      },
      "outputs": [
        {
          "name": "stdout",
          "output_type": "stream",
          "text": [
            "Cuda Device Count:  0\n",
            "Cuda Device Available :  False\n"
          ]
        }
      ],
      "source": [
        "# print(\"Cuda Current Device: \", torch.cuda.current_device()) \n",
        "print(\"Cuda Device Count: \", torch.cuda.device_count()) \n",
        "# print(\"Cuda Device Name: \", torch.cuda.get_device_name(0)) \n",
        "print(\"Cuda Device Available : \", torch.cuda.is_available()) "
      ]
    },
    {
      "cell_type": "markdown",
      "metadata": {
        "id": "A-hWoX3H216t"
      },
      "source": [
        "\n",
        "# Training a Classifier\n",
        "\n",
        "Assumption: You know how to define neural networks, compute loss and make updates to the weights of the network.\n",
        "\n",
        "## Data\n",
        "\n",
        "Generally, when you deal with image, text, audio or video data, you can use standard python packages that load data into a numpy array. Then you can convert this array into a ``torch.*Tensor``.\n",
        "\n",
        "-  For images, packages such as Pillow, OpenCV are useful\n",
        "-  For audio, packages such as scipy and librosa\n",
        "-  For text, either raw Python or Cython based loading, or NLTK and\n",
        "   SpaCy are useful\n",
        "\n",
        "Specifically for vision, we have a package called ``torchvision``, that has data loaders for common datasets such as ImageNet, CIFAR10, MNIST, etc. and data transformers for images, viz. ``torchvision.datasets`` and ``torch.utils.data.DataLoader``.\n",
        "\n",
        "This makes it convenient to get data and avoid writing boilerplate code.\n",
        "\n",
        "We will use the CIFAR10 dataset. It has the classes: ‘airplane’, ‘automobile’, ‘bird’, ‘cat’, ‘deer’, ‘dog’, ‘frog’, ‘horse’, ‘ship’, ‘truck’. The images in CIFAR-10 are of size 3x32x32, i.e. 3-channel color images of 32x32 pixels in size.\n",
        "\n",
        "\n",
        "## Training an image classifier\n",
        "\n",
        "We will do the following steps in order:\n",
        "\n",
        "1. Load and normalize the CIFAR10 training and test datasets using\n",
        "   ``torchvision``\n",
        "2. Define a Convolutional Neural Network\n",
        "3. Define a loss function\n",
        "4. Train the network on the training data\n",
        "5. Test the network on the test data\n",
        "\n",
        "### 1. Load and normalize CIFAR10\n",
        "\n",
        "Using ``torchvision``, it’s extremely easy to load CIFAR10.\n"
      ]
    },
    {
      "cell_type": "code",
      "execution_count": 4,
      "metadata": {
        "id": "19km-kL8216v"
      },
      "outputs": [],
      "source": [
        "import torch\n",
        "import torchvision\n",
        "import torchvision.transforms as transforms"
      ]
    },
    {
      "cell_type": "markdown",
      "metadata": {
        "id": "Js3Q-CWO216v"
      },
      "source": [
        "The output of torchvision datasets are PILImage images of range [0, 1].\n",
        "We transform them to Tensors of normalized range [-1, 1].\n",
        "\n"
      ]
    },
    {
      "cell_type": "markdown",
      "metadata": {
        "id": "cKKMEl2b216w"
      },
      "source": [
        "<div class=\"alert alert-info\"><h4>Note</h4><p>If running on Windows and you get a BrokenPipeError, try setting\n",
        "    the num_worker of torch.utils.data.DataLoader() to 0.</p></div>\n",
        "\n"
      ]
    },
    {
      "cell_type": "code",
      "execution_count": 5,
      "metadata": {
        "colab": {
          "base_uri": "https://localhost:8080/"
        },
        "id": "hGpvqQ9M216w",
        "outputId": "78ee2ae0-a5be-4e66-996d-504965c50b96"
      },
      "outputs": [
        {
          "name": "stdout",
          "output_type": "stream",
          "text": [
            "Downloading https://www.cs.toronto.edu/~kriz/cifar-10-python.tar.gz to ./data\\cifar-10-python.tar.gz\n"
          ]
        },
        {
          "name": "stderr",
          "output_type": "stream",
          "text": [
            "100%|██████████| 170498071/170498071 [00:07<00:00, 23621051.41it/s]\n"
          ]
        },
        {
          "name": "stdout",
          "output_type": "stream",
          "text": [
            "Extracting ./data\\cifar-10-python.tar.gz to ./data\n",
            "Files already downloaded and verified\n"
          ]
        }
      ],
      "source": [
        "transform = transforms.Compose(\n",
        "    [transforms.ToTensor(),\n",
        "     transforms.Normalize((0.5, 0.5, 0.5), (0.5, 0.5, 0.5))])\n",
        "\n",
        "batch_size = 4\n",
        "\n",
        "trainset = torchvision.datasets.CIFAR10(root='./data', train=True,\n",
        "                                        download=True, transform=transform)\n",
        "trainloader = torch.utils.data.DataLoader(trainset, batch_size=batch_size,\n",
        "                                          shuffle=True, num_workers=2)\n",
        "\n",
        "testset = torchvision.datasets.CIFAR10(root='./data', train=False,\n",
        "                                       download=True, transform=transform)\n",
        "testloader = torch.utils.data.DataLoader(testset, batch_size=batch_size,\n",
        "                                         shuffle=False, num_workers=2)\n",
        "\n",
        "classes = ('plane', 'car', 'bird', 'cat',\n",
        "           'deer', 'dog', 'frog', 'horse', 'ship', 'truck')"
      ]
    },
    {
      "cell_type": "markdown",
      "metadata": {
        "id": "qRx7eaIj216x"
      },
      "source": [
        "Let us view some of the training images\n",
        "\n"
      ]
    },
    {
      "cell_type": "code",
      "execution_count": 7,
      "metadata": {
        "colab": {
          "base_uri": "https://localhost:8080/",
          "height": 211
        },
        "id": "6whuBsJ2216x",
        "outputId": "4ee7b7a7-67d1-4ca1-da9f-dc0d2ed03d33"
      },
      "outputs": [
        {
          "data": {
            "image/png": "[encoded data removed]",
            "text/plain": [
              "<Figure size 640x480 with 1 Axes>"
            ]
          },
          "metadata": {},
          "output_type": "display_data"
        },
        {
          "name": "stdout",
          "output_type": "stream",
          "text": [
            "plane plane bird  ship \n"
          ]
        }
      ],
      "source": [
        "import matplotlib.pyplot as plt\n",
        "import numpy as np\n",
        "\n",
        "# functions to show an image\n",
        "\n",
        "\n",
        "def imshow(img):\n",
        "    img = img * 0.5 + 0.5     # unnormalize\n",
        "    npimg = img.numpy()\n",
        "    plt.imshow(np.transpose(npimg, (1, 2, 0)))\n",
        "    plt.show()\n",
        "\n",
        "\n",
        "# get some random training images\n",
        "dataiter = iter(trainloader)\n",
        "images, labels = next(dataiter)\n",
        "\n",
        "# show images\n",
        "imshow(torchvision.utils.make_grid(images))\n",
        "# print labels\n",
        "print(' '.join(f'{classes[labels[j]]:5s}' for j in range(batch_size)))"
      ]
    },
    {
      "cell_type": "markdown",
      "metadata": {
        "id": "CCHoHIx3216y"
      },
      "source": [
        "### 2. Define a Convolutional Neural Network\n",
        "Create a neural network to take 3-channel images.\n",
        "\n"
      ]
    },
    {
      "cell_type": "code",
      "execution_count": 8,
      "metadata": {
        "id": "tgmKSzXx216y"
      },
      "outputs": [],
      "source": [
        "import torch.nn as nn\n",
        "import torch.nn.functional as F\n",
        "\n",
        "\n",
        "class Net(nn.Module):\n",
        "    def __init__(self):\n",
        "        super().__init__()\n",
        "        kernel_size = 5\n",
        "        self.conv1 = nn.Conv2d(3, 6, kernel_size) #(Input Channel, Output Channel, Kernel)\n",
        "        self.pool = nn.MaxPool2d(2, 2) # (kernel, stride)\n",
        "        self.conv2 = nn.Conv2d(6, 16, kernel_size)\n",
        "        self.fc1 = nn.Linear(16 * kernel_size * kernel_size, 120) # Flatten the image\n",
        "        self.fc2 = nn.Linear(120, 84)\n",
        "        self.fc3 = nn.Linear(84, 10)\n",
        "\n",
        "    def forward(self, x):\n",
        "        x = self.pool(F.relu(self.conv1(x)))\n",
        "        x = self.pool(F.relu(self.conv2(x)))\n",
        "        x = torch.flatten(x, 1) # flatten all dimensions except batch\n",
        "        x = F.relu(self.fc1(x))\n",
        "        x = F.relu(self.fc2(x))\n",
        "        x = self.fc3(x)\n",
        "        return x\n",
        "\n",
        "\n",
        "net = Net()"
      ]
    },
    {
      "cell_type": "code",
      "execution_count": 9,
      "metadata": {
        "colab": {
          "base_uri": "https://localhost:8080/"
        },
        "id": "H4JdaeWKSPtf",
        "outputId": "9dca548b-97d1-454c-b768-447e42fd7f64"
      },
      "outputs": [
        {
          "data": {
            "text/plain": [
              "(28.0, 14.0, 10.0, 5.0)"
            ]
          },
          "execution_count": 9,
          "metadata": {},
          "output_type": "execute_result"
        }
      ],
      "source": [
        "# Explanation of layers calculations\n",
        "O_conv1 = (32 - 5 + 0) /  1 + 1 # (Image_dimension -  Kernel + Padding) / Stride + 1\n",
        "O_pool1 = O_conv1 // 2 # Pool halfs the dimension\n",
        "O_conv2 = (O_pool1 - 5 + 0) /  1 + 1 # (Image_dimension -  Kernel + Padding) / Stride + 1\n",
        "O_fcl1 = O_conv2 // 2\n",
        "O_conv1, O_pool1, O_conv2, O_fcl1\n"
      ]
    },
    {
      "cell_type": "markdown",
      "metadata": {
        "id": "86pUQgK4216z"
      },
      "source": [
        "### 3. Choose a Loss function and optimizer\n",
        "Let us use classification cross - entropy loss and Stochastic Gradient Descent (SGD) with momentum.\n",
        "\n"
      ]
    },
    {
      "cell_type": "code",
      "execution_count": 10,
      "metadata": {
        "id": "F68liFwF216z"
      },
      "outputs": [],
      "source": [
        "import torch.optim as optim\n",
        "\n",
        "criterion = nn.CrossEntropyLoss()\n",
        "optimizer = optim.SGD(net.parameters(), lr=0.001, momentum=0.9)"
      ]
    },
    {
      "cell_type": "markdown",
      "metadata": {
        "id": "uEMyMtih216z"
      },
      "source": [
        "### 4. Train the network\n",
        "\n",
        "This is when things start to get interesting.\n",
        "We simply have to loop over our data iterator, and feed the inputs to the\n",
        "network and optimize.\n",
        "\n"
      ]
    },
    {
      "cell_type": "code",
      "execution_count": 11,
      "metadata": {
        "colab": {
          "base_uri": "https://localhost:8080/"
        },
        "id": "fDTolwxa2160",
        "outputId": "4c60eb2d-a7b9-4b6b-b1c6-c5f3f58448a4"
      },
      "outputs": [
        {
          "name": "stdout",
          "output_type": "stream",
          "text": [
            "[1,  2000] loss: 2.178\n",
            "[1,  4000] loss: 1.840\n",
            "[1,  6000] loss: 1.664\n",
            "[1,  8000] loss: 1.589\n",
            "[1, 10000] loss: 1.502\n",
            "[1, 12000] loss: 1.490\n",
            "[2,  2000] loss: 1.418\n",
            "[2,  4000] loss: 1.383\n",
            "[2,  6000] loss: 1.364\n",
            "[2,  8000] loss: 1.340\n",
            "[2, 10000] loss: 1.333\n",
            "[2, 12000] loss: 1.311\n",
            "Finished Training\n"
          ]
        }
      ],
      "source": [
        "for epoch in range(2):  # loop over the dataset multiple times\n",
        "\n",
        "    running_loss = 0.0\n",
        "    for i, data in enumerate(trainloader, 0):\n",
        "        # get the inputs; data is a list of [inputs, labels]\n",
        "        inputs, labels = data\n",
        "\n",
        "        # set the parameter gradients to zero\n",
        "        optimizer.zero_grad()\n",
        "\n",
        "        # forward + backward + optimize\n",
        "        outputs = net(inputs)\n",
        "        loss = criterion(outputs, labels)\n",
        "        loss.backward()\n",
        "        optimizer.step()\n",
        "\n",
        "        # print statistics\n",
        "        running_loss += loss.item()\n",
        "        if i % 2000 == 1999:    # print every 2000 mini-batches\n",
        "            print(f'[{epoch + 1}, {i + 1:5d}] loss: {running_loss / 2000:.3f}')\n",
        "            running_loss = 0.0\n",
        "\n",
        "print('Finished Training')"
      ]
    },
    {
      "cell_type": "markdown",
      "metadata": {
        "id": "DPm9NUat2160"
      },
      "source": [
        "## Save the trained model\n",
        "Let's save our trained model:\n",
        "\n"
      ]
    },
    {
      "cell_type": "code",
      "execution_count": 12,
      "metadata": {
        "id": "XgfzBHBG2160"
      },
      "outputs": [],
      "source": [
        "PATH = './cifar_net.pth'\n",
        "torch.save(net.state_dict(), PATH)"
      ]
    },
    {
      "cell_type": "markdown",
      "metadata": {
        "id": "TlpyETiz2160"
      },
      "source": [
        "See [here](https://pytorch.org/docs/stable/notes/serialization.html)\n",
        "for more details on saving PyTorch models.\n",
        "\n",
        "### 5. Test the network on the test data\n",
        "\n",
        "We have trained the network for two passes over the training dataset. We need to check what the network has learnt.\n",
        "\n",
        "We will check this by predicting the class label that the neural network outputs, and check it against the test data set. If the prediction is correct, we add the sample to the list of correct predictions.\n",
        "\n",
        "Let us display an image from the test set to get familiar.\n",
        "\n"
      ]
    },
    {
      "cell_type": "code",
      "execution_count": 13,
      "metadata": {
        "colab": {
          "base_uri": "https://localhost:8080/",
          "height": 211
        },
        "id": "gBd5hzoL2161",
        "outputId": "00ebe919-9807-45b3-8ea6-f940b9df0ae3"
      },
      "outputs": [
        {
          "data": {
            "image/png": "[encoded data removed]",
            "text/plain": [
              "<Figure size 640x480 with 1 Axes>"
            ]
          },
          "metadata": {},
          "output_type": "display_data"
        },
        {
          "name": "stdout",
          "output_type": "stream",
          "text": [
            "Test Labels:  cat   ship  ship  plane\n"
          ]
        }
      ],
      "source": [
        "dataiter = iter(testloader)\n",
        "images, labels = next(dataiter)\n",
        "\n",
        "# print images\n",
        "imshow(torchvision.utils.make_grid(images))\n",
        "print('Test Labels: ', ' '.join(f'{classes[labels[j]]:5s}' for j in range(4)))"
      ]
    },
    {
      "cell_type": "markdown",
      "metadata": {
        "id": "YPjg5yaj2161"
      },
      "source": [
        "Next, let us learn how to load our saved model\n",
        "Note: saving and loading the model isn't necessary, we only did it to illustrate how to do so.\n",
        "\n"
      ]
    },
    {
      "cell_type": "code",
      "execution_count": 14,
      "metadata": {
        "colab": {
          "base_uri": "https://localhost:8080/"
        },
        "id": "O2fQbZXM2161",
        "outputId": "7002c3e7-b55e-4d78-9662-c0576ba4a2cc"
      },
      "outputs": [
        {
          "data": {
            "text/plain": [
              "<All keys matched successfully>"
            ]
          },
          "execution_count": 14,
          "metadata": {},
          "output_type": "execute_result"
        }
      ],
      "source": [
        "net = Net()\n",
        "net.load_state_dict(torch.load(PATH))"
      ]
    },
    {
      "cell_type": "markdown",
      "metadata": {
        "id": "nWTLVfs72161"
      },
      "source": [
        "Okay, now let us see what the neural network thinks these examples above are:\n",
        "\n"
      ]
    },
    {
      "cell_type": "code",
      "execution_count": 15,
      "metadata": {
        "id": "t89RisXU2161"
      },
      "outputs": [],
      "source": [
        "outputs = net(images)"
      ]
    },
    {
      "cell_type": "markdown",
      "metadata": {
        "id": "DkW_vHyv2161"
      },
      "source": [
        "The outputs are the energies for the 10 classes. The higher the energy for a class, the more the network thinks that the image is of the particular class. So, let's get the index of the highest energy.\n",
        "\n"
      ]
    },
    {
      "cell_type": "code",
      "execution_count": 16,
      "metadata": {
        "colab": {
          "base_uri": "https://localhost:8080/"
        },
        "id": "Z0O33G2y2162",
        "outputId": "a09ffbb1-a656-44bb-e3ce-6ab7a3b08070"
      },
      "outputs": [
        {
          "name": "stdout",
          "output_type": "stream",
          "text": [
            "Predicted:  cat   car   car   ship \n"
          ]
        }
      ],
      "source": [
        "_, predicted = torch.max(outputs, 1)\n",
        "\n",
        "print('Predicted: ', ' '.join(f'{classes[predicted[j]]:5s}'\n",
        "                              for j in range(4)))"
      ]
    },
    {
      "cell_type": "markdown",
      "metadata": {
        "id": "F3R4V2ul2162"
      },
      "source": [
        "The results are much better than the random guess (10%).\n",
        "\n",
        "Let us look at how the network performs on the whole dataset.\n",
        "\n"
      ]
    },
    {
      "cell_type": "code",
      "execution_count": 17,
      "metadata": {
        "colab": {
          "base_uri": "https://localhost:8080/"
        },
        "id": "_QRTs3FV2162",
        "outputId": "eebd8c05-ad3c-46e6-cea7-8b2a78c08ff1"
      },
      "outputs": [
        {
          "name": "stdout",
          "output_type": "stream",
          "text": [
            "Accuracy of the network on the 10000 test images: 54 %\n"
          ]
        }
      ],
      "source": [
        "correct = 0\n",
        "total = 0\n",
        "# since we're not training, we don't need to calculate the gradients for our outputs\n",
        "with torch.no_grad():\n",
        "    for data in testloader:\n",
        "        images, labels = data\n",
        "        # calculate outputs by running images through the network\n",
        "        outputs = net(images)\n",
        "        # the class with the highest energy is what we choose as prediction\n",
        "        _, predicted = torch.max(outputs.data, 1)\n",
        "        total += labels.size(0)\n",
        "        correct += (predicted == labels).sum().item()\n",
        "\n",
        "print(f'Accuracy of the network on the 10000 test images: {100 * correct // total} %')"
      ]
    },
    {
      "cell_type": "markdown",
      "metadata": {
        "id": "vq3QVNuA2162"
      },
      "source": [
        "This is way better than chance, which is 10% accuracy (randomly picking a class out of 10 classes). Seems like the neural network learnt something.\n",
        "\n",
        "Let us check what classes performed well, and what classes did not perform well.\n",
        "\n"
      ]
    },
    {
      "cell_type": "code",
      "execution_count": 18,
      "metadata": {
        "colab": {
          "base_uri": "https://localhost:8080/"
        },
        "id": "PfN5vqEe2162",
        "outputId": "14018bd4-91c0-4361-e9a0-9e1b9effb50d"
      },
      "outputs": [
        {
          "name": "stdout",
          "output_type": "stream",
          "text": [
            "Accuracy for class: plane is 53.0 %\n",
            "Accuracy for class: car   is 68.1 %\n",
            "Accuracy for class: bird  is 28.6 %\n",
            "Accuracy for class: cat   is 21.6 %\n",
            "Accuracy for class: deer  is 42.2 %\n",
            "Accuracy for class: dog   is 59.0 %\n",
            "Accuracy for class: frog  is 73.8 %\n",
            "Accuracy for class: horse is 66.3 %\n",
            "Accuracy for class: ship  is 74.9 %\n",
            "Accuracy for class: truck is 58.6 %\n"
          ]
        }
      ],
      "source": [
        "# prepare to count predictions for each class\n",
        "correct_pred = {classname: 0 for classname in classes}\n",
        "total_pred = {classname: 0 for classname in classes}\n",
        "\n",
        "# again no gradients needed\n",
        "with torch.no_grad():\n",
        "    for data in testloader:\n",
        "        images, labels = data\n",
        "        outputs = net(images)\n",
        "        _, predictions = torch.max(outputs, 1)\n",
        "        # collect the correct predictions for each class\n",
        "        for label, prediction in zip(labels, predictions):\n",
        "            if label == prediction:\n",
        "                correct_pred[classes[label]] += 1\n",
        "            total_pred[classes[label]] += 1\n",
        "\n",
        "\n",
        "# print accuracy for each class\n",
        "for classname, correct_count in correct_pred.items():\n",
        "    accuracy = 100 * float(correct_count) / total_pred[classname]\n",
        "    print(f'Accuracy for class: {classname:5s} is {accuracy:.1f} %')"
      ]
    },
    {
      "cell_type": "markdown",
      "metadata": {
        "id": "XP81oaTA2162"
      },
      "source": [
        "Okay, so what next?\n",
        "\n",
        "How do we run these neural networks on the GPU?\n",
        "\n",
        "## Training on GPU\n",
        "Just like how you transfer a Tensor onto the GPU, you transfer the neural net onto the GPU.\n",
        "\n",
        "Let's first define our device as the first visible cuda device if we have CUDA available.\n",
        "\n"
      ]
    },
    {
      "cell_type": "code",
      "execution_count": 19,
      "metadata": {
        "colab": {
          "base_uri": "https://localhost:8080/"
        },
        "id": "nM15qiuP2162",
        "outputId": "19f94af8-eb31-4f41-cfb7-c422ce42a52d"
      },
      "outputs": [
        {
          "name": "stdout",
          "output_type": "stream",
          "text": [
            "cpu\n"
          ]
        }
      ],
      "source": [
        "device = torch.device('cuda:0' if torch.cuda.is_available() else 'cpu')\n",
        "\n",
        "# Assuming that we are on a CUDA machine, this should print a CUDA device:\n",
        "\n",
        "print(device)"
      ]
    },
    {
      "cell_type": "markdown",
      "metadata": {
        "id": "3tfpu9-W2162"
      },
      "source": [
        "The rest of this section assumes that ``device`` is a CUDA device.\n",
        "\n",
        "Then these methods will recursively go over all modules and convert their\n",
        "parameters and buffers to CUDA tensors:\n",
        "\n",
        ".. code:: python\n",
        "\n",
        "    net.to(device)\n",
        "\n",
        "\n",
        "Remember that you will have to send the inputs and targets at every step\n",
        "to the GPU too:\n",
        "\n",
        ".. code:: python\n",
        "\n",
        "        inputs, labels = data[0].to(device), data[1].to(device)\n",
        "\n",
        "Why don't I notice MASSIVE speedup compared to CPU? Because your network\n",
        "is really small.\n",
        "\n",
        "**Exercise:** Try increasing the width of your network (argument 2 of the first ``nn.Conv2d``, and argument 1 of the second ``nn.Conv2d`` – they need to be the same number), see what kind of speedup you can get.\n",
        "\n",
        "**Goals achieved**:\n",
        "\n",
        "- Understanding PyTorch's Tensor library and neural networks at a high level.\n",
        "- Train a small neural network to classify images\n",
        "\n",
        "## Training on multiple GPUs\n",
        "If you want to see even more MASSIVE speedup using all of your GPUs, please check out :doc:`data_parallel_tutorial`.\n",
        "\n",
        "## Where do we go next?\n",
        "\n",
        "-  `Train a state-of-the-art ResNet network`_\n",
        "-  `Train a state-of-the-art VGG`_\n",
        "-  `Train a state-of-the-art MobileNet`_\n",
        "-  `Train a state-of-the-art ResNet network on imagenet`_\n",
        "-  `More examples`_\n",
        "-  `More tutorials`_\n",
        "-  `Discuss PyTorch on the Forums`_\n",
        "\n"
      ]
    },
    {
      "cell_type": "markdown",
      "metadata": {
        "id": "L9q6j5f0cbPW"
      },
      "source": [
        "\n",
        "# OPTIMIZE, Traning with a new CNN model\n",
        "Based on the given notbook,  I will import a pre-trained CNN architecture (**ResNet18**) and compare its performance with the simple architecture implemented in the notebook. I will also experiment with different parameters such as the number of hidden layers, number of nodes, epochs, batch sizes, and activation functions.\n"
      ]
    },
    {
      "cell_type": "markdown",
      "metadata": {
        "id": "U4rcnIdfUdg5"
      },
      "source": [
        "## Define a ResNet18 model.\n",
        "First, let's import a pre-trained CNN model. In this case, I will use the ResNet18 model available in the torchvision library."
      ]
    },
    {
      "cell_type": "code",
      "execution_count": 20,
      "metadata": {
        "id": "zRp0846dd6P4"
      },
      "outputs": [
        {
          "name": "stderr",
          "output_type": "stream",
          "text": [
            "Downloading: \"https://download.pytorch.org/models/resnet18-f37072fd.pth\" to C:\\Users\\benso/.cache\\torch\\hub\\checkpoints\\resnet18-f37072fd.pth\n",
            "100%|██████████| 44.7M/44.7M [00:01<00:00, 27.6MB/s]\n"
          ]
        }
      ],
      "source": [
        "import torch.nn as nn\n",
        "import torchvision.models as models\n",
        "import torch.optim as optim\n",
        "import torchvision\n",
        "import torchvision.transforms as transforms\n",
        "import torch.nn.functional as F\n",
        "from torchvision.models.resnet import ResNet18_Weights\n",
        "\n",
        "# Load pre-trained ResNet18 model\n",
        "resnet18 = models.resnet18(weights=ResNet18_Weights.IMAGENET1K_V1)\n",
        "\n",
        "# Modify the last layer to match the number of classes in CIFAR-10 dataset (10 classes)\n",
        "num_classes = 10\n",
        "resnet18.fc = nn.Linear(resnet18.fc.in_features, num_classes)\n"
      ]
    },
    {
      "cell_type": "markdown",
      "metadata": {
        "id": "O7OG0mIQezl9"
      },
      "source": [
        "## Define the number of nodes in the layers\n",
        "To modify the number of nodes in the ResNet18 model, we can change the number of output channels in the inital convolutional layer:"
      ]
    },
    {
      "cell_type": "code",
      "execution_count": 21,
      "metadata": {
        "id": "prVnFFTKfL7q"
      },
      "outputs": [],
      "source": [
        "resnet18.conv1 = nn.Conv2d(3, 64, kernel_size=7, stride=2, padding=3, bias=False)\n"
      ]
    },
    {
      "cell_type": "code",
      "execution_count": 22,
      "metadata": {
        "id": "vOgcBsDSj6Fa"
      },
      "outputs": [],
      "source": [
        "def train_model(model, trainloader, num_epochs, learning_rate):\n",
        "    device = torch.device(\"cuda:0\" if torch.cuda.is_available() else \"cpu\")\n",
        "    model.to(device)\n",
        "\n",
        "    criterion = nn.CrossEntropyLoss()\n",
        "    optimizer = optim.SGD(model.parameters(), lr=learning_rate, momentum=0.9, weight_decay=5e-4)\n",
        "\n",
        "    for epoch in range(num_epochs):\n",
        "        running_loss = 0.0\n",
        "        for i, data in enumerate(trainloader, 0):\n",
        "            inputs, labels = data\n",
        "            inputs, labels = inputs.to(device), labels.to(device)\n",
        "\n",
        "            optimizer.zero_grad()\n",
        "\n",
        "            outputs = model(inputs)\n",
        "            loss = criterion(outputs, labels)\n",
        "            loss.backward()\n",
        "            optimizer.step()\n",
        "\n",
        "            running_loss += loss.item()\n",
        "\n",
        "        print(f'Epoch {epoch + 1}/{num_epochs}, Loss: {running_loss / (i + 1):.4f}')\n",
        "\n",
        "    print('Finished training')\n",
        "    \n",
        "# Train the simple model (CIFAR-10 classification) with a different number of epochs\n",
        "# simple_model_epochs = 5\n",
        "# simple_model = Net();\n",
        "# print(f'Training simple model for {simple_model_epochs} epochs')\n",
        "# train_model(simple_model, trainloader, simple_model_epochs, learning_rate=0.001)\n",
        "\n",
        "# Train the ResNet18 model with a different number of epochs\n",
        "# resnet18_epochs = 10\n",
        "# print(f'\\nTraining ResNet18 model for {resnet18_epochs} epochs')\n",
        "# train_model(resnet18, trainloader, resnet18_epochs, learning_rate=0.1)\n"
      ]
    },
    {
      "cell_type": "markdown",
      "metadata": {
        "id": "XemUtC0Bjmge"
      },
      "source": [
        "## Train the net work with different parameters.\n",
        "We could train the modle with different epochs, activation function and so on.\n",
        "\n",
        "### Different number of epochs for the trainning function.\n",
        "We could train previous CIFAR10 the ResNet18 model with different numbers of epochs, for example 5, 10 and 20. And compare their performances.\n",
        "\n",
        "Notes: bigger number of epochs will take longer training time.\n",
        "\n",
        "Frist, let's define a train_model trainning function that accept different model, trainloader, num of epochs, and learning_rate."
      ]
    },
    {
      "cell_type": "markdown",
      "metadata": {
        "id": "Gyf0iaBH3NCs"
      },
      "source": [
        "### Diffenet activation function.\n",
        "\n",
        "For the `CNN` model that we defined before, it could simple to define different activation function such as **'relu',** **'sigmoid'** or **'tanh'** with the following code. Then we could pass the desired activation function as \n",
        "\n",
        "\n",
        "```\n",
        "simple_model_relu = SimpleModel(activation_function='relu')\n",
        "simple_model_sigmoid = SimpleModel(activation_function='sigmoid')\n",
        "simple_model_tanh = SimpleModel(activation_function='tanh')\n",
        "```\n",
        "\n"
      ]
    },
    {
      "cell_type": "code",
      "execution_count": 23,
      "metadata": {
        "id": "MVxKSSpIoLsd"
      },
      "outputs": [],
      "source": [
        "class SimpleModel(nn.Module):\n",
        "    def __init__(self, activation_function='relu', num_classes=10):\n",
        "        super(SimpleModel, self).__init__()\n",
        "        self.conv1 = nn.Conv2d(3, 6, 5)\n",
        "        self.pool = nn.MaxPool2d(2, 2)\n",
        "        self.conv2 = nn.Conv2d(6, 16, 5)\n",
        "        self.fc1 = nn.Linear(16 * 5 * 5, 120)\n",
        "        self.fc2 = nn.Linear(120, 84)\n",
        "        self.fc3 = nn.Linear(84, num_classes)\n",
        "        \n",
        "        if activation_function == 'relu':\n",
        "            self.activation = nn.ReLU()\n",
        "        elif activation_function == 'sigmoid':\n",
        "            self.activation = nn.Sigmoid()\n",
        "        elif activation_function == 'tanh':\n",
        "            self.activation = nn.Tanh()\n",
        "        else:\n",
        "            raise ValueError(\"Invalid activation function. Supported options: 'relu', 'sigmoid', 'tanh'\")\n",
        "\n",
        "    def forward(self, x):\n",
        "        x = self.pool(self.activation(self.conv1(x)))\n",
        "        x = self.pool(self.activation(self.conv2(x)))\n",
        "        x = x.view(-1, 16 * 5 * 5)\n",
        "        x = self.activation(self.fc1(x))\n",
        "        x = self.activation(self.fc2(x))\n",
        "        x = self.fc3(x)\n",
        "        return x"
      ]
    },
    {
      "cell_type": "markdown",
      "metadata": {
        "id": "tLOy1oJy6KfW"
      },
      "source": [
        "For the `ResNet18`, it uses only one activation function throughout the architecture, which is the **ReLU** activation function.  \n",
        "\n",
        "Then let's train the new SimpleMode with 'sigmod' activation function with 5 epchos, and Res18Net model with default relu' activation function and 10 epchos."
      ]
    },
    {
      "cell_type": "code",
      "execution_count": 24,
      "metadata": {
        "colab": {
          "base_uri": "https://localhost:8080/"
        },
        "id": "g2DsDChm75CQ",
        "outputId": "d6190d75-d225-40d2-c937-05ad7df90b18"
      },
      "outputs": [
        {
          "name": "stdout",
          "output_type": "stream",
          "text": [
            "Training simple model for 5 epochs\n",
            "Epoch 1/5, Loss: 2.3134\n",
            "Epoch 2/5, Loss: 2.3089\n",
            "Epoch 3/5, Loss: 2.3067\n",
            "Epoch 4/5, Loss: 2.3054\n",
            "Epoch 5/5, Loss: 2.3049\n",
            "Finished training\n",
            "\n",
            "Training ResNet18 model for 10 epochs\n",
            "Epoch 1/10, Loss: 2.4845\n",
            "Epoch 2/10, Loss: 2.3588\n",
            "Epoch 3/10, Loss: 2.3579\n",
            "Epoch 4/10, Loss: 2.3616\n",
            "Epoch 5/10, Loss: 2.3605\n",
            "Epoch 6/10, Loss: 2.3597\n",
            "Epoch 7/10, Loss: 2.3607\n",
            "Epoch 8/10, Loss: 2.3606\n",
            "Epoch 9/10, Loss: 2.3598\n",
            "Epoch 10/10, Loss: 2.3602\n",
            "Finished training\n"
          ]
        }
      ],
      "source": [
        "# Train the simple model (CIFAR-10 classification) with 'sigmoid' activation funation and 5 epochs\n",
        "simple_model_epochs = 5\n",
        "simple_model_sigmoid = SimpleModel(activation_function='sigmoid')\n",
        "print(f'Training simple model for {simple_model_epochs} epochs')\n",
        "train_model(simple_model_sigmoid, trainloader, simple_model_epochs, learning_rate=0.001)\n",
        "\n",
        "# Train the ResNet18 model with 10 epochs\n",
        "resnet18_epochs = 10\n",
        "print(f'\\nTraining ResNet18 model for {resnet18_epochs} epochs')\n",
        "train_model(resnet18, trainloader, resnet18_epochs, learning_rate=0.1)\n",
        "\n"
      ]
    },
    {
      "cell_type": "markdown",
      "metadata": {
        "id": "iSIvq1rR-Bkx"
      },
      "source": [
        "## Save the trained model\n",
        "Let save the simple_model with 'sigmoid' to the 'simple_model.pth'. And resnet18 model to resent18.pth."
      ]
    },
    {
      "cell_type": "code",
      "execution_count": 25,
      "metadata": {
        "id": "EnHPbisL-FVk"
      },
      "outputs": [],
      "source": [
        "# Save the simple_model\n",
        "torch.save(simple_model_sigmoid.state_dict(), 'simple_model.pth')\n",
        "\n",
        "# Save the resnet18 model\n",
        "torch.save(resnet18.state_dict(), 'resnet18.pth')"
      ]
    },
    {
      "cell_type": "markdown",
      "metadata": {
        "id": "BvCUhUkV_jKD"
      },
      "source": [
        "## Test the new train network and Res18Network on the test data.\n",
        "Load the modles from the trains before."
      ]
    },
    {
      "cell_type": "code",
      "execution_count": 26,
      "metadata": {
        "id": "ilNzf9Bh_x5-"
      },
      "outputs": [
        {
          "name": "stderr",
          "output_type": "stream",
          "text": [
            "c:\\Users\\benso\\anaconda3\\lib\\site-packages\\torchvision\\models\\_utils.py:208: UserWarning: The parameter 'pretrained' is deprecated since 0.13 and may be removed in the future, please use 'weights' instead.\n",
            "  warnings.warn(\n",
            "c:\\Users\\benso\\anaconda3\\lib\\site-packages\\torchvision\\models\\_utils.py:223: UserWarning: Arguments other than a weight enum or `None` for 'weights' are deprecated since 0.13 and may be removed in the future. The current behavior is equivalent to passing `weights=None`.\n",
            "  warnings.warn(msg)\n"
          ]
        },
        {
          "data": {
            "text/plain": [
              "<All keys matched successfully>"
            ]
          },
          "execution_count": 26,
          "metadata": {},
          "output_type": "execute_result"
        }
      ],
      "source": [
        "# Load the simple_model\n",
        "loaded_simple_model = SimpleModel()\n",
        "loaded_simple_model.load_state_dict(torch.load('simple_model.pth'))\n",
        "#loaded_simple_model.eval()  # Set to evaluation mode\n",
        "\n",
        "# Load the resnet18 model\n",
        "loaded_resnet18 = torchvision.models.resnet18(pretrained=False,  num_classes=num_classes)\n",
        "##loaded_resnet18.fc = nn.Linear(loaded_resnet18.fc.in_features, num_classes)\n",
        "loaded_resnet18.load_state_dict(torch.load('resnet18.pth'))\n",
        "#loaded_resnet18.eval()  # Set to evaluation mode"
      ]
    },
    {
      "cell_type": "markdown",
      "metadata": {
        "id": "yyeDwRq1BThz"
      },
      "source": [
        "### Predict with the CNN model with 'signmod' and 5 epchos"
      ]
    },
    {
      "cell_type": "code",
      "execution_count": 27,
      "metadata": {
        "id": "Lr5uRcUvDcqj"
      },
      "outputs": [
        {
          "name": "stdout",
          "output_type": "stream",
          "text": [
            "GroundTruth:  cat   dog   car   horse\n",
            "Predicted with CNN-signmod:  horse horse horse horse\n"
          ]
        }
      ],
      "source": [
        "# Print the true labels\n",
        "print('GroundTruth: ', ' '.join(f'{classes[labels[j]]:5s}' for j in range(4)))\n",
        "\n",
        "# Load the saved model and make predictions\n",
        "loaded_simple_model.eval()\n",
        "new_outputs = loaded_simple_model(images)\n",
        "\n",
        "_, predicted = torch.max(new_outputs, 1)\n",
        "print('Predicted with CNN-signmod: ', ' '.join(f'{classes[predicted[j]]:5s}' for j in range(4)))"
      ]
    },
    {
      "cell_type": "markdown",
      "metadata": {
        "id": "ux69fXMwSfn0"
      },
      "source": [
        "From the predicted result, it is not match. So lets Test it with the entire data and find the Accuracy."
      ]
    },
    {
      "cell_type": "code",
      "execution_count": 28,
      "metadata": {
        "id": "5j4o9DvSP_8Z"
      },
      "outputs": [
        {
          "name": "stdout",
          "output_type": "stream",
          "text": [
            "Accuracy of the network on the 10000 test images: 10 %\n"
          ]
        }
      ],
      "source": [
        "correct = 0\n",
        "total = 0\n",
        "\n",
        "with torch.no_grad():\n",
        "    for data in testloader:\n",
        "        images, labels = data\n",
        "        outputs = loaded_simple_model(images)\n",
        "        _, predicted = torch.max(outputs.data, 1)\n",
        "        total += labels.size(0)\n",
        "        correct += (predicted == labels).sum().item()\n",
        "\n",
        "print('Accuracy of the network on the 10000 test images: %d %%' % (100 * correct / total))\n",
        "\n"
      ]
    },
    {
      "cell_type": "markdown",
      "metadata": {
        "id": "OoKEAYHPWAa_"
      },
      "source": [
        "### Predict with the ResNet18 model"
      ]
    },
    {
      "cell_type": "code",
      "execution_count": 29,
      "metadata": {
        "id": "OFug6uBgSNlO"
      },
      "outputs": [
        {
          "name": "stdout",
          "output_type": "stream",
          "text": [
            "GroundTruth:  cat   dog   car   horse\n",
            "Predicted with ResNet18:   deer  deer  deer  deer\n"
          ]
        }
      ],
      "source": [
        "# Print the true labels\n",
        "print('GroundTruth: ', ' '.join(f'{classes[labels[j]]:5s}' for j in range(4)))\n",
        "\n",
        "# Make predictions using the loaded_resnet18 model\n",
        "outputs2 = loaded_resnet18(images)\n",
        "\n",
        "# Get the predicted class labels\n",
        "_, predicted2 = torch.max(outputs2, 1)\n",
        "\n",
        "print('Predicted with ResNet18: ', ' '.join('%5s' % classes[predicted2[j]] for j in range(4)))"
      ]
    },
    {
      "cell_type": "markdown",
      "metadata": {
        "id": "kFaP1c3pYVVF"
      },
      "source": [
        "Test ResNet18  with the entire data and find the Accuracy."
      ]
    },
    {
      "cell_type": "code",
      "execution_count": 30,
      "metadata": {
        "id": "a4L6g9krYTyR"
      },
      "outputs": [
        {
          "name": "stdout",
          "output_type": "stream",
          "text": [
            "Accuracy of the network on the 10000 test images: 10 %\n"
          ]
        }
      ],
      "source": [
        "correct = 0\n",
        "total = 0\n",
        "\n",
        "with torch.no_grad():\n",
        "    for data in testloader:\n",
        "        images, labels = data\n",
        "        outputs = loaded_resnet18(images)\n",
        "        _, predicted = torch.max(outputs.data, 1)\n",
        "        total += labels.size(0)\n",
        "        correct += (predicted == labels).sum().item()\n",
        "\n",
        "print('Accuracy of the network on the 10000 test images: %d %%' % (100 * correct / total))"
      ]
    },
    {
      "cell_type": "markdown",
      "metadata": {
        "id": "hg6V9TucY7SH"
      },
      "source": [
        "Let check the accuracy of the class of the two new Model:"
      ]
    },
    {
      "cell_type": "code",
      "execution_count": 31,
      "metadata": {
        "id": "3gwIup7WWOyh"
      },
      "outputs": [
        {
          "name": "stdout",
          "output_type": "stream",
          "text": [
            "Accuracy for model: SimpleModel\n",
            "  plane: 0.0 %\n",
            "  car  : 0.0 %\n",
            "  bird : 0.0 %\n",
            "  cat  : 0.0 %\n",
            "  deer : 0.0 %\n",
            "  dog  : 0.0 %\n",
            "  frog : 0.0 %\n",
            "  horse: 100.0 %\n",
            "  ship : 0.0 %\n",
            "  truck: 0.0 %\n",
            "\n",
            "Accuracy for model: ResNet\n",
            "  plane: 0.0 %\n",
            "  car  : 0.0 %\n",
            "  bird : 0.0 %\n",
            "  cat  : 0.0 %\n",
            "  deer : 100.0 %\n",
            "  dog  : 0.0 %\n",
            "  frog : 0.0 %\n",
            "  horse: 0.0 %\n",
            "  ship : 0.0 %\n",
            "  truck: 0.0 %\n",
            "\n"
          ]
        }
      ],
      "source": [
        "# Function to compute accuracy for each class\n",
        "def compute_class_accuracies(model, testloader, classes):\n",
        "    # prepare to count predictions for each class\n",
        "    correct_pred = {classname: 0 for classname in classes}\n",
        "    total_pred = {classname: 0 for classname in classes}\n",
        "\n",
        "    # again no gradients needed\n",
        "    with torch.no_grad():\n",
        "        for data in testloader:\n",
        "            images, labels = data\n",
        "            outputs = model(images)\n",
        "            _, predictions = torch.max(outputs, 1)\n",
        "            # collect the correct predictions for each class\n",
        "            for label, prediction in zip(labels, predictions):\n",
        "                if label == prediction:\n",
        "                    correct_pred[classes[label]] += 1\n",
        "                total_pred[classes[label]] += 1\n",
        "\n",
        "    # print accuracy for each class\n",
        "    print(f'Accuracy for model: {model.__class__.__name__}')\n",
        "    for classname, correct_count in correct_pred.items():\n",
        "        accuracy = 100 * float(correct_count) / total_pred[classname]\n",
        "        print(f'  {classname:5s}: {accuracy:.1f} %')\n",
        "    print()\n",
        "\n",
        "# Compute accuracies for simple_model\n",
        "compute_class_accuracies(loaded_simple_model, testloader, classes)\n",
        "\n",
        "# Compute accuracies for ResNet18\n",
        "compute_class_accuracies(loaded_resnet18, testloader, classes)"
      ]
    },
    {
      "attachments": {},
      "cell_type": "markdown",
      "metadata": {
        "id": "fA7h0v8VaU2C"
      },
      "source": [
        "### Conclution\n",
        "\n",
        "Based on the current performance of the SimpleModel and ResNet models, it appears that there is an issue with the training process or the evaluation of the models, as they are only predicting a single class.\n",
        "\n",
        "Here are some suggestions for the future:\n",
        "1.   Verify the training process: Make sure that the loss values during training are decreasing and that the models are converging. If the loss values are not decreasing, adjust the learning rate, batch size, and number of epochs.\n",
        "\n",
        "2.   Inspect the data: Ensure that the data is properly loaded and preprocessed. Verify that both the training and test datasets are correctly split, shuffled, and normalized. Also, make sure there are no issues with the dataset's labels.\n",
        "\n",
        "3. Experiment with hyperparameters: Try adjusting the learning rate, batch size, number of epochs, and other hyperparameters. This may improve the model's performance on the test set.\n",
        "\n",
        "4. Model architecture: For the SimpleModel, consider experimenting with different architectures or adding more layers to improve its performance. For the ResNet model, make sure the pretrained model is properly fine-tuned to the CIFAR-10 dataset.\n",
        "\n",
        "5. Regularization: If overfitting is observed, consider adding dropout layers or other regularization techniques to the models to help them generalize better to the test data.\n",
        "\n",
        "6. Data augmentation: To improve the model's generalization, you can apply data augmentation techniques, such as random rotations, translations, and flips, to the training dataset.\n",
        "\n",
        "7. Monitor the performance: Keep track of the performance metrics, such as accuracy, precision, recall, and F1-score, to gain insights into the model's behavior and potential areas for improvement.\n",
        "\n",
        "Finally, remember that deep learning model development is an iterative process. We may need to experiment with different combinations of hyperparameters, architectures, and techniques to achieve the best performance on the task at hand."
      ]
    },
    {
      "cell_type": "code",
      "execution_count": null,
      "metadata": {
        "id": "oax-eHz1aYfy"
      },
      "outputs": [],
      "source": []
    }
  ],
  "metadata": {
    "accelerator": "GPU",
    "colab": {
      "provenance": [],
      "toc_visible": true
    },
    "gpuClass": "standard",
    "kernelspec": {
      "display_name": "Python 3",
      "language": "python",
      "name": "python3"
    },
    "language_info": {
      "codemirror_mode": {
        "name": "ipython",
        "version": 3
      },
      "file_extension": ".py",
      "mimetype": "text/x-python",
      "name": "python",
      "nbconvert_exporter": "python",
      "pygments_lexer": "ipython3",
      "version": "3.10.9"
    }
  },
  "nbformat": 4,
  "nbformat_minor": 0
}
