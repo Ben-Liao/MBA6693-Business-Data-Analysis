{
 "cells": [
  {
   "cell_type": "code",
   "execution_count": 4,
   "metadata": {},
   "outputs": [
    {
     "name": "stdout",
     "output_type": "stream",
     "text": [
      "Accuracy score using entropy criterion:  0.3333333333333333\n",
      "Accuracy score using gini criterion:  0.3333333333333333\n"
     ]
    },
    {
     "name": "stderr",
     "output_type": "stream",
     "text": [
      "/Users/bliao/opt/anaconda3/lib/python3.9/site-packages/sklearn/utils/deprecation.py:87: FutureWarning: Function get_feature_names is deprecated; get_feature_names is deprecated in 1.0 and will be removed in 1.2. Please use get_feature_names_out instead.\n",
      "  warnings.warn(msg, category=FutureWarning)\n"
     ]
    }
   ],
   "source": [
    "import pandas as pd\n",
    "from sklearn.tree import DecisionTreeClassifier\n",
    "from sklearn.model_selection import train_test_split\n",
    "from sklearn.metrics import accuracy_score\n",
    "from sklearn.preprocessing import OneHotEncoder\n",
    "\n",
    "# Read in the dataset\n",
    "url = \"https://raw.githubusercontent.com/Ben-Liao/MBA6693-Business-Data-Analysis/main/i01-information-based-learning/data/tennis.txt\"\n",
    "df = pd.read_csv(url, sep=\"\\t\")\n",
    "\n",
    "# One-hot encode the categorical features\n",
    "encoder = OneHotEncoder(handle_unknown='ignore')\n",
    "X = df.drop(\"playtennis\", axis=1)\n",
    "X = pd.DataFrame(encoder.fit_transform(X).toarray(), columns=encoder.get_feature_names(input_features=X.columns))\n",
    "y = df[\"playtennis\"]\n",
    "\n",
    "# Split the dataset into training and test sets\n",
    "X_train, X_test, y_train, y_test = train_test_split(X, y, test_size=0.2, random_state=0)\n",
    "\n",
    "# Initialize the ID3 decision tree model with entropy criterion\n",
    "clf_entropy = DecisionTreeClassifier(criterion=\"entropy\", random_state=0)\n",
    "\n",
    "# Train the model on the training set\n",
    "clf_entropy.fit(X_train, y_train)\n",
    "\n",
    "# Make predictions on the test set\n",
    "y_pred = clf_entropy.predict(X_test)\n",
    "\n",
    "# Evaluate the model performance using accuracy score\n",
    "acc_entropy = accuracy_score(y_test, y_pred)\n",
    "\n",
    "# Initialize the ID3 decision tree model with gini criterion\n",
    "clf_gini = DecisionTreeClassifier(criterion=\"gini\", random_state=0)\n",
    "\n",
    "# Train the model on the training set\n",
    "clf_gini.fit(X_train, y_train)\n",
    "\n",
    "# Make predictions on the test set\n",
    "y_pred = clf_gini.predict(X_test)\n",
    "\n",
    "# Evaluate the model performance using accuracy score\n",
    "acc_gini = accuracy_score(y_test, y_pred)\n",
    "\n",
    "# Compare the performance of the two models\n",
    "print(\"Accuracy score using entropy criterion: \", acc_entropy)\n",
    "print(\"Accuracy score using gini criterion: \", acc_gini)\n"
   ]
  }
 ],
 "metadata": {
  "kernelspec": {
   "display_name": "base",
   "language": "python",
   "name": "python3"
  },
  "language_info": {
   "codemirror_mode": {
    "name": "ipython",
    "version": 3
   },
   "file_extension": ".py",
   "mimetype": "text/x-python",
   "name": "python",
   "nbconvert_exporter": "python",
   "pygments_lexer": "ipython3",
   "version": "3.9.13"
  },
  "orig_nbformat": 4,
  "vscode": {
   "interpreter": {
    "hash": "0aff702b87e6c41aa52ae67f89755b815c10e93d7284716e42f419ff98086430"
   }
  }
 },
 "nbformat": 4,
 "nbformat_minor": 2
}
