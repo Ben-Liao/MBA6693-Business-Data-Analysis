{
 "cells": [
  {
   "cell_type": "markdown",
   "source": [
    "# 1. Sourcing and loading\n",
    "## 1a. Import Packages"
   ],
   "metadata": {
    "collapsed": false
   }
  },
  {
   "cell_type": "code",
   "execution_count": 9,
   "outputs": [],
   "source": [
    "import pandas as pd\n",
    "import numpy as np\n",
    "from sklearn import tree, metrics\n",
    "from sklearn.model_selection import train_test_split\n",
    "import seaborn as sns\n",
    "import matplotlib.pyplot as plt\n",
    "from io import StringIO\n",
    "from IPython.display import Image\n",
    "import pydotplus"
   ],
   "metadata": {
    "collapsed": false
   }
  },
  {
   "cell_type": "markdown",
   "source": [
    "## 1b. Load data (tennis.txt)"
   ],
   "metadata": {
    "collapsed": false
   }
  },
  {
   "cell_type": "code",
   "execution_count": 10,
   "outputs": [],
   "source": [
    "# Read in the tennis.txt data to a variable called tennis\n",
    "tennis = pd.read_csv(\"https://raw.githubusercontent.com/Ben-Liao/MBA6693-Business-Data-Analysis/main/i01-information-based-learning/data/tennis.txt\", sep='\\t', header = (0))\n",
    "\n",
    "# Read in the titanic2.txt data to another variable called titanic, as alternative\n",
    "#titanic = pd.read_csv(\"https://raw.githubusercontent.com/Ben-Liao/MBA6693-Business-Data-Analysis/main/i01-information-based-learning/data/titanic2.txt\", sep='\\t', header = (0))\n"
   ],
   "metadata": {
    "collapsed": false
   }
  },
  {
   "cell_type": "markdown",
   "source": [
    "## 1c. Explore the tennis data"
   ],
   "metadata": {
    "collapsed": false
   }
  },
  {
   "cell_type": "code",
   "execution_count": 11,
   "outputs": [
    {
     "data": {
      "text/plain": "    outlook temperature humidity    wind playtennis\n0     sunny         hot     high    weak         no\n1     sunny         hot     high  strong         no\n2  overcast         hot     high    weak        yes\n3      rain        mild     high    weak        yes\n4      rain        cool   normal    weak        yes\n5      rain        cool   normal  strong         no\n6  overcast        cool   normal  strong        yes\n7     sunny        mild     high    weak         no",
      "text/html": "<div>\n<style scoped>\n    .dataframe tbody tr th:only-of-type {\n        vertical-align: middle;\n    }\n\n    .dataframe tbody tr th {\n        vertical-align: top;\n    }\n\n    .dataframe thead th {\n        text-align: right;\n    }\n</style>\n<table border=\"1\" class=\"dataframe\">\n  <thead>\n    <tr style=\"text-align: right;\">\n      <th></th>\n      <th>outlook</th>\n      <th>temperature</th>\n      <th>humidity</th>\n      <th>wind</th>\n      <th>playtennis</th>\n    </tr>\n  </thead>\n  <tbody>\n    <tr>\n      <th>0</th>\n      <td>sunny</td>\n      <td>hot</td>\n      <td>high</td>\n      <td>weak</td>\n      <td>no</td>\n    </tr>\n    <tr>\n      <th>1</th>\n      <td>sunny</td>\n      <td>hot</td>\n      <td>high</td>\n      <td>strong</td>\n      <td>no</td>\n    </tr>\n    <tr>\n      <th>2</th>\n      <td>overcast</td>\n      <td>hot</td>\n      <td>high</td>\n      <td>weak</td>\n      <td>yes</td>\n    </tr>\n    <tr>\n      <th>3</th>\n      <td>rain</td>\n      <td>mild</td>\n      <td>high</td>\n      <td>weak</td>\n      <td>yes</td>\n    </tr>\n    <tr>\n      <th>4</th>\n      <td>rain</td>\n      <td>cool</td>\n      <td>normal</td>\n      <td>weak</td>\n      <td>yes</td>\n    </tr>\n    <tr>\n      <th>5</th>\n      <td>rain</td>\n      <td>cool</td>\n      <td>normal</td>\n      <td>strong</td>\n      <td>no</td>\n    </tr>\n    <tr>\n      <th>6</th>\n      <td>overcast</td>\n      <td>cool</td>\n      <td>normal</td>\n      <td>strong</td>\n      <td>yes</td>\n    </tr>\n    <tr>\n      <th>7</th>\n      <td>sunny</td>\n      <td>mild</td>\n      <td>high</td>\n      <td>weak</td>\n      <td>no</td>\n    </tr>\n  </tbody>\n</table>\n</div>"
     },
     "execution_count": 11,
     "metadata": {},
     "output_type": "execute_result"
    }
   ],
   "source": [
    "# Snap peek the first 8 rows from the data set.\n",
    "tennis.head(8)"
   ],
   "metadata": {
    "collapsed": false
   }
  },
  {
   "cell_type": "code",
   "execution_count": 12,
   "outputs": [
    {
     "data": {
      "text/plain": "(14, 5)"
     },
     "execution_count": 12,
     "metadata": {},
     "output_type": "execute_result"
    }
   ],
   "source": [
    "# Check the size of the data set.\n",
    "tennis.shape"
   ],
   "metadata": {
    "collapsed": false
   }
  },
  {
   "cell_type": "markdown",
   "source": [
    "The size of the dataset is not large. It contains 14 rows of data and 5 attributes."
   ],
   "metadata": {
    "collapsed": false
   }
  },
  {
   "cell_type": "code",
   "execution_count": 13,
   "outputs": [
    {
     "name": "stdout",
     "output_type": "stream",
     "text": [
      "<class 'pandas.core.frame.DataFrame'>\n",
      "RangeIndex: 14 entries, 0 to 13\n",
      "Data columns (total 5 columns):\n",
      " #   Column       Non-Null Count  Dtype \n",
      "---  ------       --------------  ----- \n",
      " 0   outlook      14 non-null     object\n",
      " 1   temperature  14 non-null     object\n",
      " 2   humidity     14 non-null     object\n",
      " 3   wind         14 non-null     object\n",
      " 4   playtennis   14 non-null     object\n",
      "dtypes: object(5)\n",
      "memory usage: 688.0+ bytes\n"
     ]
    }
   ],
   "source": [
    "# Check the tennis dataset's attributes information.\n",
    "tennis.info()"
   ],
   "metadata": {
    "collapsed": false
   }
  },
  {
   "cell_type": "code",
   "execution_count": 14,
   "outputs": [
    {
     "data": {
      "text/plain": "       outlook temperature humidity  wind playtennis\ncount       14          14       14    14         14\nunique       3           3        2     2          2\ntop      sunny        mild     high  weak        yes\nfreq         5           6        7     8          9",
      "text/html": "<div>\n<style scoped>\n    .dataframe tbody tr th:only-of-type {\n        vertical-align: middle;\n    }\n\n    .dataframe tbody tr th {\n        vertical-align: top;\n    }\n\n    .dataframe thead th {\n        text-align: right;\n    }\n</style>\n<table border=\"1\" class=\"dataframe\">\n  <thead>\n    <tr style=\"text-align: right;\">\n      <th></th>\n      <th>outlook</th>\n      <th>temperature</th>\n      <th>humidity</th>\n      <th>wind</th>\n      <th>playtennis</th>\n    </tr>\n  </thead>\n  <tbody>\n    <tr>\n      <th>count</th>\n      <td>14</td>\n      <td>14</td>\n      <td>14</td>\n      <td>14</td>\n      <td>14</td>\n    </tr>\n    <tr>\n      <th>unique</th>\n      <td>3</td>\n      <td>3</td>\n      <td>2</td>\n      <td>2</td>\n      <td>2</td>\n    </tr>\n    <tr>\n      <th>top</th>\n      <td>sunny</td>\n      <td>mild</td>\n      <td>high</td>\n      <td>weak</td>\n      <td>yes</td>\n    </tr>\n    <tr>\n      <th>freq</th>\n      <td>5</td>\n      <td>6</td>\n      <td>7</td>\n      <td>8</td>\n      <td>9</td>\n    </tr>\n  </tbody>\n</table>\n</div>"
     },
     "execution_count": 14,
     "metadata": {},
     "output_type": "execute_result"
    }
   ],
   "source": [
    "# Get the relevant summary statistics of the tennis data.\n",
    "tennis.describe(include = 'all')"
   ],
   "metadata": {
    "collapsed": false
   }
  },
  {
   "cell_type": "markdown",
   "source": [
    "# 2. Cleaning, transforming and visualizing\n",
    "## 2a. Cleaning the data"
   ],
   "metadata": {
    "collapsed": false
   }
  }
 ],
 "metadata": {
  "kernelspec": {
   "display_name": "Python 3",
   "language": "python",
   "name": "python3"
  },
  "language_info": {
   "codemirror_mode": {
    "name": "ipython",
    "version": 2
   },
   "file_extension": ".py",
   "mimetype": "text/x-python",
   "name": "python",
   "nbconvert_exporter": "python",
   "pygments_lexer": "ipython2",
   "version": "2.7.6"
  }
 },
 "nbformat": 4,
 "nbformat_minor": 0
}
