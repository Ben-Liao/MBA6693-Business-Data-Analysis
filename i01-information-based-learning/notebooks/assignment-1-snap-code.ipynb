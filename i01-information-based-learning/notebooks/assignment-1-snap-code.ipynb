{
 "cells": [
  {
   "cell_type": "code",
   "execution_count": 1,
   "metadata": {},
   "outputs": [
    {
     "name": "stdout",
     "output_type": "stream",
     "text": [
      "Accuracy score using entropy criterion:  0.3333333333333333\n",
      "Accuracy score using gini criterion:  0.3333333333333333\n"
     ]
    },
    {
     "name": "stderr",
     "output_type": "stream",
     "text": [
      "/Users/bliao/opt/anaconda3/lib/python3.9/site-packages/sklearn/utils/deprecation.py:87: FutureWarning: Function get_feature_names is deprecated; get_feature_names is deprecated in 1.0 and will be removed in 1.2. Please use get_feature_names_out instead.\n",
      "  warnings.warn(msg, category=FutureWarning)\n"
     ]
    }
   ],
   "source": [
    "import pandas as pd\n",
    "from sklearn.tree import DecisionTreeClassifier\n",
    "from sklearn.model_selection import train_test_split\n",
    "from sklearn.metrics import accuracy_score\n",
    "from sklearn.preprocessing import OneHotEncoder\n",
    "\n",
    "# Read in the dataset\n",
    "url = \"https://raw.githubusercontent.com/Ben-Liao/MBA6693-Business-Data-Analysis/main/i01-information-based-learning/data/tennis.txt\"\n",
    "df = pd.read_csv(url, sep=\"\\t\")\n",
    "\n",
    "# One-hot encode the categorical features\n",
    "encoder = OneHotEncoder(handle_unknown='ignore')\n",
    "X = df.drop(\"playtennis\", axis=1)\n",
    "X = pd.DataFrame(encoder.fit_transform(X).toarray(), columns=encoder.get_feature_names(input_features=X.columns))\n",
    "y = df[\"playtennis\"]\n",
    "\n",
    "# Split the dataset into training and test sets\n",
    "X_train, X_test, y_train, y_test = train_test_split(X, y, test_size=0.2, random_state=0)\n",
    "\n",
    "# Initialize the ID3 decision tree model with entropy criterion\n",
    "clf_entropy = DecisionTreeClassifier(criterion=\"entropy\", random_state=0)\n",
    "\n",
    "# Train the model on the training set\n",
    "clf_entropy.fit(X_train, y_train)\n",
    "\n",
    "# Make predictions on the test set\n",
    "y_pred = clf_entropy.predict(X_test)\n",
    "\n",
    "# Evaluate the model performance using accuracy score\n",
    "acc_entropy = accuracy_score(y_test, y_pred)\n",
    "\n",
    "# Initialize the ID3 decision tree model with gini criterion\n",
    "clf_gini = DecisionTreeClassifier(criterion=\"gini\", random_state=0)\n",
    "\n",
    "# Train the model on the training set\n",
    "clf_gini.fit(X_train, y_train)\n",
    "\n",
    "# Make predictions on the test set\n",
    "y_pred = clf_gini.predict(X_test)\n",
    "\n",
    "# Evaluate the model performance using accuracy score\n",
    "acc_gini = accuracy_score(y_test, y_pred)\n",
    "\n",
    "# Compare the performance of the two models\n",
    "print(\"Accuracy score using entropy criterion: \", acc_entropy)\n",
    "print(\"Accuracy score using gini criterion: \", acc_gini)\n"
   ]
  },
  {
   "cell_type": "code",
   "execution_count": 2,
   "metadata": {},
   "outputs": [
    {
     "name": "stdout",
     "output_type": "stream",
     "text": [
      "Model Entropy - no max depth\n",
      "Accuracy: 0.3333333333333333\n",
      "Balanced accuracy: 0.3333333333333333\n",
      "Precision score: 1.0\n",
      "Recall score: 0.3333333333333333\n"
     ]
    },
    {
     "name": "stderr",
     "output_type": "stream",
     "text": [
      "/Users/bliao/opt/anaconda3/lib/python3.9/site-packages/sklearn/utils/deprecation.py:87: FutureWarning: Function get_feature_names is deprecated; get_feature_names is deprecated in 1.0 and will be removed in 1.2. Please use get_feature_names_out instead.\n",
      "  warnings.warn(msg, category=FutureWarning)\n",
      "/Users/bliao/opt/anaconda3/lib/python3.9/site-packages/sklearn/metrics/_classification.py:1987: UserWarning: y_pred contains classes not in y_true\n",
      "  warnings.warn(\"y_pred contains classes not in y_true\")\n"
     ]
    }
   ],
   "source": [
    "import pandas as pd\n",
    "from sklearn.tree import DecisionTreeClassifier\n",
    "from sklearn.model_selection import train_test_split\n",
    "from sklearn.metrics import accuracy_score, precision_score, recall_score, balanced_accuracy_score\n",
    "from sklearn.preprocessing import OneHotEncoder\n",
    "\n",
    "# Read in the dataset\n",
    "url = \"https://raw.githubusercontent.com/Ben-Liao/MBA6693-Business-Data-Analysis/main/i01-information-based-learning/data/tennis.txt\"\n",
    "df = pd.read_csv(url, sep=\"\\t\")\n",
    "\n",
    "# One-hot encode the categorical features\n",
    "encoder = OneHotEncoder(handle_unknown='ignore')\n",
    "X = df.drop(\"playtennis\", axis=1)\n",
    "X = pd.DataFrame(encoder.fit_transform(X).toarray(), columns=encoder.get_feature_names(input_features=X.columns))\n",
    "y = df[\"playtennis\"]\n",
    "\n",
    "# Convert the target classes to binary values\n",
    "y = y.replace({\"yes\": 1, \"no\": 0})\n",
    "\n",
    "# Split the dataset into training and test sets\n",
    "X_train, X_test, y_train, y_test = train_test_split(X, y, test_size=0.2, random_state=0)\n",
    "\n",
    "# Initialize the ID3 decision tree model with entropy criterion\n",
    "clf_entropy = DecisionTreeClassifier(criterion=\"entropy\", random_state=0)\n",
    "\n",
    "# Train the model on the training set\n",
    "clf_entropy.fit(X_train, y_train)\n",
    "\n",
    "# Make predictions on the test set\n",
    "y_pred_entropy = clf_entropy.predict(X_test)\n",
    "\n",
    "# Evaluate the model performance using accuracy score\n",
    "acc_entropy = accuracy_score(y_test, y_pred_entropy)\n",
    "\n",
    "# Evaluate the model performance using precision score\n",
    "prec_entropy = precision_score(y_test, y_pred_entropy)\n",
    "\n",
    "# Evaluate the model performance using recall score\n",
    "recall_entropy = recall_score(y_test, y_pred_entropy)\n",
    "\n",
    "# Evaluate the model performance using balanced accuracy score\n",
    "bal_acc_entropy = balanced_accuracy_score(y_test, y_pred_entropy)\n",
    "\n",
    "print(\"Model Entropy - no max depth\")\n",
    "print(\"Accuracy:\", acc_entropy)\n",
    "print(\"Balanced accuracy:\", bal_acc_entropy)\n",
    "print(\"Precision score:\", prec_entropy)\n",
    "print(\"Recall score:\", recall_entropy)\n",
    "\n"
   ]
  },
  {
   "cell_type": "code",
   "execution_count": 3,
   "metadata": {},
   "outputs": [
    {
     "name": "stdout",
     "output_type": "stream",
     "text": [
      "Model Gini impurity model\n",
      "Accuracy: 0.3333333333333333\n",
      "Balanced accuracy: 0.3333333333333333\n",
      "Precision score: 1.0\n",
      "Recall score: 0.3333333333333333\n"
     ]
    },
    {
     "name": "stderr",
     "output_type": "stream",
     "text": [
      "/Users/bliao/opt/anaconda3/lib/python3.9/site-packages/sklearn/metrics/_classification.py:1987: UserWarning: y_pred contains classes not in y_true\n",
      "  warnings.warn(\"y_pred contains classes not in y_true\")\n"
     ]
    }
   ],
   "source": [
    "# Initialize the ID3 decision tree model with Gini impurity criterion\n",
    "clf_gini = DecisionTreeClassifier(criterion=\"gini\", random_state=0)\n",
    "\n",
    "# Train the model on the training set\n",
    "clf_gini.fit(X_train, y_train)\n",
    "\n",
    "# Make predictions on the test set\n",
    "y_pred_gini = clf_gini.predict(X_test)\n",
    "\n",
    "# Evaluate the model performance using accuracy score\n",
    "acc_gini = accuracy_score(y_test, y_pred_gini)\n",
    "\n",
    "# Evaluate the model performance using precision score\n",
    "prec_gini = precision_score(y_test, y_pred_gini)\n",
    "\n",
    "# Evaluate the model performance using recall score\n",
    "recall_gini = recall_score(y_test, y_pred_gini)\n",
    "\n",
    "# Evaluate the model performance using balanced accuracy score\n",
    "bal_acc_gini = balanced_accuracy_score(y_test, y_pred_gini)\n",
    "\n",
    "print(\"Model Gini impurity model\")\n",
    "print(\"Accuracy:\", acc_gini)\n",
    "print(\"Balanced accuracy:\", bal_acc_gini)\n",
    "print(\"Precision score:\", prec_gini)\n",
    "print(\"Recall score:\", recall_gini)\n"
   ]
  },
  {
   "cell_type": "code",
   "execution_count": 4,
   "metadata": {},
   "outputs": [
    {
     "name": "stderr",
     "output_type": "stream",
     "text": [
      "/var/folders/hs/hsjz3kc914q798jgbjb13w6r0000gq/T/ipykernel_25207/3284730109.py:2: FutureWarning: The frame.append method is deprecated and will be removed from pandas in a future version. Use pandas.concat instead.\n",
      "  df = df.append(new_row, ignore_index=True)\n"
     ]
    }
   ],
   "source": [
    "new_row = {\"outlook\": \"sunny\", \"temperature\": \"hot\", \"humidity\": \"high\", \"wind\": \"weak\"}\n",
    "df = df.append(new_row, ignore_index=True)"
   ]
  },
  {
   "cell_type": "code",
   "execution_count": 5,
   "metadata": {},
   "outputs": [
    {
     "name": "stdout",
     "output_type": "stream",
     "text": [
      "The player is not playing tennis.\n"
     ]
    },
    {
     "name": "stderr",
     "output_type": "stream",
     "text": [
      "/Users/bliao/opt/anaconda3/lib/python3.9/site-packages/sklearn/utils/deprecation.py:87: FutureWarning: Function get_feature_names is deprecated; get_feature_names is deprecated in 1.0 and will be removed in 1.2. Please use get_feature_names_out instead.\n",
      "  warnings.warn(msg, category=FutureWarning)\n"
     ]
    }
   ],
   "source": [
    "new_row = {\"outlook\": \"sunny\", \"temperature\": \"hot\", \"humidity\": \"high\", \"wind\": \"weak\"}\n",
    "\n",
    "new_row = pd.DataFrame([new_row])\n",
    "new_row = pd.DataFrame(encoder.transform(new_row).toarray(), columns=encoder.get_feature_names(input_features=['outlook', 'temperature', 'humidity', 'wind']))\n",
    "\n",
    "\n",
    "#new_row = pd.DataFrame(encoder.transform([new_row]).toarray(), columns=encoder.get_feature_names(input_features=X.columns))\n",
    "\n",
    "prediction = clf_entropy.predict(new_row)[0]\n",
    "\n",
    "if prediction == 1:\n",
    "    print(\"The player is playing tennis.\")\n",
    "else:\n",
    "    print(\"The player is not playing tennis.\")"
   ]
  }
 ],
 "metadata": {
  "kernelspec": {
   "display_name": "base",
   "language": "python",
   "name": "python3"
  },
  "language_info": {
   "codemirror_mode": {
    "name": "ipython",
    "version": 3
   },
   "file_extension": ".py",
   "mimetype": "text/x-python",
   "name": "python",
   "nbconvert_exporter": "python",
   "pygments_lexer": "ipython3",
   "version": "3.9.13"
  },
  "orig_nbformat": 4,
  "vscode": {
   "interpreter": {
    "hash": "0aff702b87e6c41aa52ae67f89755b815c10e93d7284716e42f419ff98086430"
   }
  }
 },
 "nbformat": 4,
 "nbformat_minor": 2
}
