{
 "cells": [
  {
   "cell_type": "markdown",
   "source": [
    "<img src=\"./images/entropy_and_gini.png\" alt=\"Python Logo\" width=\"800\"/>\n",
    "\n",
    "# **Springboard Decision Tree Specialty Coffee Case Study**\n",
    "\n",
    "<img src=\"./images/gini-entropy formula.png\" alt=\"Python Logo\" width=\"800\"/>"
   ],
   "metadata": {
    "id": "-iuRLRs_27ki",
    "cell_id": "ca219cf7896542c8926431121a6c5f44",
    "deepnote_cell_type": "markdown"
   }
  },
  {
   "cell_type": "markdown",
   "source": [
    "# The Scenario\n",
    "\n",
    "Imagine you've just been hired by a rising popular specialty coffee company - RR Diner Coffee - as a data scientist.\n",
    "\n",
    "RR Diner Coffee sells two types of products:\n",
    "- specialty coffee beans, in bulk (by the kilogram only)\n",
    "- coffee equipment and merchandise (grinders, brewing equipment, mugs, books, t-shirts).\n",
    "\n",
    "RR Diner Coffee has three stores, two in Europe and one in the USA. The flagship store is in the USA, and everything is quality assessed there, before being shipped out. Customers further away from the USA flagship store have higher shipping charges. \n",
    "\n",
    "You've been taken on at RR Diner Coffee because the company are turning towards using data science and machine learning to systematically make decisions about which coffee farmers they should strike deals with. \n",
    "\n",
    "RR Diner Coffee typically buys coffee from farmers, processes it on site, brings it back to the USA, roasts it, packages it, markets it, and ships it (only in bulk, and after quality assurance) to customers internationally. These customers all own coffee shops in major cities like New York, Paris, London, Hong Kong, Tokyo, and Berlin. \n",
    "\n",
    "Now, RR Diner Coffee has a decision about whether to strike a deal with a legendary coffee farm (known as the **Hidden Farm**) in rural China: there are rumours their coffee tastes of lychee and dark chocolate, while also being as sweet as apple juice. \n",
    "\n",
    "It's a risky decision, as the deal will be expensive, and the coffee might not be bought by customers. The stakes are high: times are tough, stocks are low, farmers are reverting to old deals with the larger enterprises and the publicity of selling *Hidden Farm* coffee could save the RR Diner Coffee business. \n",
    "\n",
    "Your first job, then, is ***to build a decision tree to predict how many units of the Hidden Farm Chinese coffee will be purchased by RR Diner Coffee's most loyal customers.*** \n",
    "\n",
    "To this end, you and your team have conducted a survey of 710 of the most loyal RR Diner Coffee customers, collecting data on the customers':\n",
    "- age\n",
    "- gender \n",
    "- salary \n",
    "- whether they have bought at least one RR Diner Coffee product online\n",
    "- their distance from the flagship store in the USA (standardized to a number between 0 and 11) \n",
    "- how much they spent on RR Diner Coffee products on the week of the survey \n",
    "- how much they spent on RR Diner Coffee products in the month preceding the survey\n",
    "- the number of RR Diner coffee bean shipments each customer has ordered over the preceding year. \n",
    "\n",
    "You also asked each customer participating in the survey whether they would buy the Hidden Farm coffee, and some (but not all) of the customers gave responses to that question. \n",
    "\n",
    "You sit back and think: if more than 70% of the interviewed customers are likely to buy the Hidden Farm coffee, you will strike the deal with the local Hidden Farm farmers and sell the coffee. Otherwise, you won't strike the deal and the Hidden Farm coffee will remain in legends only. There's some doubt in your mind about whether 70% is a reasonable threshold, but it'll do for the moment. \n",
    "\n",
    "To solve the problem, then, you will build a decision tree to implement a classification solution. \n",
    "\n",
    "\n",
    "-------------------------------\n",
    "**1. Sourcing and loading** \n",
    "- Import packages\n",
    "- Load data\n",
    "- Explore the data\n",
    "\n",
    " \n",
    "**2. Cleaning, transforming and visualizing**\n",
    "- Cleaning the data\n",
    "- Train/test split\n",
    "  \n",
    "  \n",
    "**3. Modelling** \n",
    "- Model 1: Entropy model - no max_depth\n",
    "- Model 2: Gini impurity model - no max_depth\n",
    "- Model 3: Entropy model - max depth 3\n",
    "- Model 4: Gini impurity model - max depth 3\n",
    "\n",
    "\n",
    "**4. Evaluating and concluding** \n",
    "- How many customers will buy Hidden Farm coffee?\n",
    "- Decision\n",
    "\n",
    "**5. Random Forest** \n",
    "- Import necessary modules\n",
    "- Model\n",
    "- Revise conclusion\n",
    "    "
   ],
   "metadata": {
    "id": "JqX4KRR327kl",
    "cell_id": "d97b1ccf085d4284a868d942802ba6ea",
    "deepnote_cell_type": "markdown"
   }
  },
  {
   "cell_type": "markdown",
   "source": [
    "# 0. Overview\n",
    "\n",
    "This notebook uses decision trees to determine whether the factors of salary, gender, age, how much money the customer spent last week and during the preceding month on RR Diner Coffee products, how many kilogram coffee bags the customer bought over the last year, whether they have bought at least one RR Diner Coffee product online, and their distance from the flagship store in the USA, could predict whether customers would purchase the Hidden Farm coffee if a deal with its farmers were struck. "
   ],
   "metadata": {
    "id": "3zTlwi4M27km",
    "cell_id": "9a1289f0050445b9b92396a6fcd86e3d",
    "deepnote_cell_type": "markdown"
   }
  },
  {
   "cell_type": "markdown",
   "source": [
    "# 1. Sourcing and loading\n",
    "## 1a. Import Packages"
   ],
   "metadata": {
    "id": "GuKgPSPS27ko",
    "cell_id": "8995a68e8bfb4e21adcf8e35ed79dd50",
    "deepnote_cell_type": "markdown"
   }
  },
  {
   "cell_type": "code",
   "source": [
    "import pandas as pd\n",
    "import numpy as np\n",
    "from sklearn import tree, metrics\n",
    "from sklearn.model_selection import train_test_split\n",
    "import seaborn as sns\n",
    "import matplotlib.pyplot as plt\n",
    "from io import StringIO  \n",
    "from IPython.display import Image  \n",
    "import pydotplus"
   ],
   "metadata": {
    "id": "GsP21kkU27kq",
    "cell_id": "0ad22c9e1ab046b8a355e6d43d01f494",
    "source_hash": "219a1e1a",
    "execution_start": 1675780012016,
    "execution_millis": 1053,
    "deepnote_to_be_reexecuted": false,
    "deepnote_cell_type": "code"
   },
   "outputs": [],
   "execution_count": 5
  },
  {
   "cell_type": "markdown",
   "source": [
    "## 1b. Load data "
   ],
   "metadata": {
    "id": "eLV5cfvy27kx",
    "cell_id": "df455e7fe206422b93df0a325ddc86f9",
    "deepnote_cell_type": "markdown"
   }
  },
  {
   "cell_type": "code",
   "source": [
    "# Read in the data to a variable called coffeeData\n",
    "# You can fork the dataset from https://github.com/dearbharat/datasets to get the data.\n",
    "coffeeData = pd.read_csv(\"https://raw.githubusercontent.com/dearbharat/datasets/main/coffee.csv\")"
   ],
   "metadata": {
    "id": "iaAFg7J127kx",
    "cell_id": "839679a116b84bee983c32bf39cb3905",
    "allow_embed": true,
    "source_hash": "71710a00",
    "execution_start": 1675780013126,
    "execution_millis": 25,
    "deepnote_to_be_reexecuted": false,
    "deepnote_cell_type": "code"
   },
   "outputs": [],
   "execution_count": 6
  },
  {
   "cell_type": "markdown",
   "source": [
    "## 1c. Explore the data"
   ],
   "metadata": {
    "id": "tJJHzGb127k1",
    "cell_id": "81dba6e345024d43bd0f671d9cf0e6c5",
    "deepnote_cell_type": "markdown"
   }
  },
  {
   "cell_type": "markdown",
   "source": [
    "As we've seen, exploration entails doing things like checking out the **initial appearance** of the data with head(), the **dimensions** of our data with .shape, the **data types** of the variables with .info(), the **number of non-null values**, how much **memory** is being used to store the data, and finally the major summary statistcs capturing **central tendancy, dispersion and the null-excluding shape of the dataset's distribution**. \n",
    "\n",
    "How much of this can you do yourself by this point in the course? Have a real go. "
   ],
   "metadata": {
    "id": "8B-HKvF627k1",
    "cell_id": "63490c89b39d4249a01917ebef4235c0",
    "deepnote_cell_type": "markdown"
   }
  },
  {
   "cell_type": "code",
   "source": [
    "# Call head() on your data \n",
    "coffeeData.head(8)"
   ],
   "metadata": {
    "id": "5JmlDkE027k2",
    "colab": {
     "height": 300,
     "base_uri": "https://localhost:8080/"
    },
    "cell_id": "0d4d90e415634917b1d6e171c464c955",
    "outputId": "fd42cff8-2016-408a-d893-1788cf8c7f08",
    "source_hash": "f2c26a3",
    "execution_start": 1675780013193,
    "execution_millis": 51,
    "deepnote_to_be_reexecuted": false,
    "deepnote_cell_type": "code"
   },
   "outputs": [
    {
     "data": {
      "text/plain": "   Unnamed: 0  Age  Gender  num_coffeeBags_per_year  spent_week  spent_month  \\\n0           0   36  Female                        0          24           73   \n1           1   24    Male                        0          44          164   \n2           2   24    Male                        0          39          119   \n3           3   20    Male                        0          30          107   \n4           4   24  Female                        0          20           36   \n5           5   20  female                        0          23           28   \n6           6   34  Female                        0          55          202   \n7           7   24  Female                        0          20           34   \n\n   SlrAY  Distance  Online  Decision  \n0  42789  0.003168       0       1.0  \n1  74035  0.520906       0       NaN  \n2  30563  0.916005       1       1.0  \n3  13166  0.932098       1       NaN  \n4  14244  0.965881       0       1.0  \n5  14293  1.036346       1       1.0  \n6  91035  1.134851       0       1.0  \n7  17425  1.193188       0       NaN  ",
      "text/html": "<div>\n<style scoped>\n    .dataframe tbody tr th:only-of-type {\n        vertical-align: middle;\n    }\n\n    .dataframe tbody tr th {\n        vertical-align: top;\n    }\n\n    .dataframe thead th {\n        text-align: right;\n    }\n</style>\n<table border=\"1\" class=\"dataframe\">\n  <thead>\n    <tr style=\"text-align: right;\">\n      <th></th>\n      <th>Unnamed: 0</th>\n      <th>Age</th>\n      <th>Gender</th>\n      <th>num_coffeeBags_per_year</th>\n      <th>spent_week</th>\n      <th>spent_month</th>\n      <th>SlrAY</th>\n      <th>Distance</th>\n      <th>Online</th>\n      <th>Decision</th>\n    </tr>\n  </thead>\n  <tbody>\n    <tr>\n      <th>0</th>\n      <td>0</td>\n      <td>36</td>\n      <td>Female</td>\n      <td>0</td>\n      <td>24</td>\n      <td>73</td>\n      <td>42789</td>\n      <td>0.003168</td>\n      <td>0</td>\n      <td>1.0</td>\n    </tr>\n    <tr>\n      <th>1</th>\n      <td>1</td>\n      <td>24</td>\n      <td>Male</td>\n      <td>0</td>\n      <td>44</td>\n      <td>164</td>\n      <td>74035</td>\n      <td>0.520906</td>\n      <td>0</td>\n      <td>NaN</td>\n    </tr>\n    <tr>\n      <th>2</th>\n      <td>2</td>\n      <td>24</td>\n      <td>Male</td>\n      <td>0</td>\n      <td>39</td>\n      <td>119</td>\n      <td>30563</td>\n      <td>0.916005</td>\n      <td>1</td>\n      <td>1.0</td>\n    </tr>\n    <tr>\n      <th>3</th>\n      <td>3</td>\n      <td>20</td>\n      <td>Male</td>\n      <td>0</td>\n      <td>30</td>\n      <td>107</td>\n      <td>13166</td>\n      <td>0.932098</td>\n      <td>1</td>\n      <td>NaN</td>\n    </tr>\n    <tr>\n      <th>4</th>\n      <td>4</td>\n      <td>24</td>\n      <td>Female</td>\n      <td>0</td>\n      <td>20</td>\n      <td>36</td>\n      <td>14244</td>\n      <td>0.965881</td>\n      <td>0</td>\n      <td>1.0</td>\n    </tr>\n    <tr>\n      <th>5</th>\n      <td>5</td>\n      <td>20</td>\n      <td>female</td>\n      <td>0</td>\n      <td>23</td>\n      <td>28</td>\n      <td>14293</td>\n      <td>1.036346</td>\n      <td>1</td>\n      <td>1.0</td>\n    </tr>\n    <tr>\n      <th>6</th>\n      <td>6</td>\n      <td>34</td>\n      <td>Female</td>\n      <td>0</td>\n      <td>55</td>\n      <td>202</td>\n      <td>91035</td>\n      <td>1.134851</td>\n      <td>0</td>\n      <td>1.0</td>\n    </tr>\n    <tr>\n      <th>7</th>\n      <td>7</td>\n      <td>24</td>\n      <td>Female</td>\n      <td>0</td>\n      <td>20</td>\n      <td>34</td>\n      <td>17425</td>\n      <td>1.193188</td>\n      <td>0</td>\n      <td>NaN</td>\n    </tr>\n  </tbody>\n</table>\n</div>"
     },
     "execution_count": 7,
     "metadata": {},
     "output_type": "execute_result"
    }
   ],
   "execution_count": 7
  },
  {
   "cell_type": "code",
   "source": [
    "# Call .shape on your data\n",
    "coffeeData.shape"
   ],
   "metadata": {
    "id": "XBGDWgCR27k6",
    "colab": {
     "base_uri": "https://localhost:8080/"
    },
    "cell_id": "e7dd346cb78f428fbc8e9584f66e1461",
    "outputId": "51d54e1a-fffe-4586-938b-df7ef3e73145",
    "source_hash": "25ac0a93",
    "execution_start": 1675780013227,
    "execution_millis": 26,
    "deepnote_to_be_reexecuted": false,
    "deepnote_cell_type": "code"
   },
   "outputs": [
    {
     "data": {
      "text/plain": "(702, 10)"
     },
     "execution_count": 8,
     "metadata": {},
     "output_type": "execute_result"
    }
   ],
   "execution_count": 8
  },
  {
   "cell_type": "code",
   "source": [
    "# Call info() on your data\n",
    "coffeeData.info()"
   ],
   "metadata": {
    "id": "UZH6lJWU27k8",
    "colab": {
     "base_uri": "https://localhost:8080/"
    },
    "cell_id": "2af06dd1e058462abddf36705cb5be1c",
    "outputId": "5b2494ad-917b-4858-cd32-8bbf2ac6cc20",
    "source_hash": "787297fe",
    "execution_start": 1675780013227,
    "execution_millis": 26,
    "deepnote_to_be_reexecuted": false,
    "deepnote_cell_type": "code"
   },
   "outputs": [
    {
     "name": "stdout",
     "output_type": "stream",
     "text": [
      "<class 'pandas.core.frame.DataFrame'>\n",
      "RangeIndex: 702 entries, 0 to 701\n",
      "Data columns (total 10 columns):\n",
      " #   Column                   Non-Null Count  Dtype  \n",
      "---  ------                   --------------  -----  \n",
      " 0   Unnamed: 0               702 non-null    int64  \n",
      " 1   Age                      702 non-null    int64  \n",
      " 2   Gender                   702 non-null    object \n",
      " 3   num_coffeeBags_per_year  702 non-null    int64  \n",
      " 4   spent_week               702 non-null    int64  \n",
      " 5   spent_month              702 non-null    int64  \n",
      " 6   SlrAY                    702 non-null    int64  \n",
      " 7   Distance                 702 non-null    float64\n",
      " 8   Online                   702 non-null    int64  \n",
      " 9   Decision                 474 non-null    float64\n",
      "dtypes: float64(2), int64(7), object(1)\n",
      "memory usage: 55.0+ KB\n"
     ]
    }
   ],
   "execution_count": 9
  },
  {
   "cell_type": "code",
   "source": [
    "# Call describe() on your data with the parameter include = 'all' to get the relevant summary statistics for your data \n",
    "coffeeData.describe(include = 'all')"
   ],
   "metadata": {
    "id": "jqSVLUm327k_",
    "colab": {
     "height": 394,
     "base_uri": "https://localhost:8080/"
    },
    "cell_id": "43b5e03f290e4ef1936b32cf866e5f3e",
    "outputId": "e340736b-a225-47cc-b739-d1d4721ac035",
    "source_hash": "cbf1541b",
    "execution_start": 1675780013249,
    "execution_millis": 73,
    "deepnote_to_be_reexecuted": false,
    "deepnote_cell_type": "code"
   },
   "outputs": [
    {
     "data": {
      "text/plain": "        Unnamed: 0         Age Gender  num_coffeeBags_per_year  spent_week  \\\ncount   702.000000  702.000000    702               702.000000  702.000000   \nunique         NaN         NaN      9                      NaN         NaN   \ntop            NaN         NaN   Male                      NaN         NaN   \nfreq           NaN         NaN    355                      NaN         NaN   \nmean    350.500000   34.243590    NaN                 2.710826   32.853276   \nstd     202.794231   13.927945    NaN                 1.593629   15.731878   \nmin       0.000000   16.000000    NaN                 0.000000    0.000000   \n25%     175.250000   23.000000    NaN                 1.000000   24.250000   \n50%     350.500000   28.000000    NaN                 3.000000   36.000000   \n75%     525.750000   46.000000    NaN                 4.000000   43.000000   \nmax     701.000000   90.000000    NaN                 5.000000   62.000000   \n\n        spent_month          SlrAY    Distance      Online    Decision  \ncount    702.000000     702.000000  702.000000  702.000000  474.000000  \nunique          NaN            NaN         NaN         NaN         NaN  \ntop             NaN            NaN         NaN         NaN         NaN  \nfreq            NaN            NaN         NaN         NaN         NaN  \nmean     107.923077   43819.843305    4.559186    0.531339    0.639241  \nstd       55.348485   26192.626943    3.116275    0.499373    0.480728  \nmin        0.000000    1617.000000    0.003168    0.000000    0.000000  \n25%       62.000000   22812.250000    1.877812    0.000000    0.000000  \n50%      113.500000   41975.000000    4.196167    1.000000    1.000000  \n75%      150.750000   60223.000000    6.712022    1.000000    1.000000  \nmax      210.000000  182058.000000   10.986203    1.000000    1.000000  ",
      "text/html": "<div>\n<style scoped>\n    .dataframe tbody tr th:only-of-type {\n        vertical-align: middle;\n    }\n\n    .dataframe tbody tr th {\n        vertical-align: top;\n    }\n\n    .dataframe thead th {\n        text-align: right;\n    }\n</style>\n<table border=\"1\" class=\"dataframe\">\n  <thead>\n    <tr style=\"text-align: right;\">\n      <th></th>\n      <th>Unnamed: 0</th>\n      <th>Age</th>\n      <th>Gender</th>\n      <th>num_coffeeBags_per_year</th>\n      <th>spent_week</th>\n      <th>spent_month</th>\n      <th>SlrAY</th>\n      <th>Distance</th>\n      <th>Online</th>\n      <th>Decision</th>\n    </tr>\n  </thead>\n  <tbody>\n    <tr>\n      <th>count</th>\n      <td>702.000000</td>\n      <td>702.000000</td>\n      <td>702</td>\n      <td>702.000000</td>\n      <td>702.000000</td>\n      <td>702.000000</td>\n      <td>702.000000</td>\n      <td>702.000000</td>\n      <td>702.000000</td>\n      <td>474.000000</td>\n    </tr>\n    <tr>\n      <th>unique</th>\n      <td>NaN</td>\n      <td>NaN</td>\n      <td>9</td>\n      <td>NaN</td>\n      <td>NaN</td>\n      <td>NaN</td>\n      <td>NaN</td>\n      <td>NaN</td>\n      <td>NaN</td>\n      <td>NaN</td>\n    </tr>\n    <tr>\n      <th>top</th>\n      <td>NaN</td>\n      <td>NaN</td>\n      <td>Male</td>\n      <td>NaN</td>\n      <td>NaN</td>\n      <td>NaN</td>\n      <td>NaN</td>\n      <td>NaN</td>\n      <td>NaN</td>\n      <td>NaN</td>\n    </tr>\n    <tr>\n      <th>freq</th>\n      <td>NaN</td>\n      <td>NaN</td>\n      <td>355</td>\n      <td>NaN</td>\n      <td>NaN</td>\n      <td>NaN</td>\n      <td>NaN</td>\n      <td>NaN</td>\n      <td>NaN</td>\n      <td>NaN</td>\n    </tr>\n    <tr>\n      <th>mean</th>\n      <td>350.500000</td>\n      <td>34.243590</td>\n      <td>NaN</td>\n      <td>2.710826</td>\n      <td>32.853276</td>\n      <td>107.923077</td>\n      <td>43819.843305</td>\n      <td>4.559186</td>\n      <td>0.531339</td>\n      <td>0.639241</td>\n    </tr>\n    <tr>\n      <th>std</th>\n      <td>202.794231</td>\n      <td>13.927945</td>\n      <td>NaN</td>\n      <td>1.593629</td>\n      <td>15.731878</td>\n      <td>55.348485</td>\n      <td>26192.626943</td>\n      <td>3.116275</td>\n      <td>0.499373</td>\n      <td>0.480728</td>\n    </tr>\n    <tr>\n      <th>min</th>\n      <td>0.000000</td>\n      <td>16.000000</td>\n      <td>NaN</td>\n      <td>0.000000</td>\n      <td>0.000000</td>\n      <td>0.000000</td>\n      <td>1617.000000</td>\n      <td>0.003168</td>\n      <td>0.000000</td>\n      <td>0.000000</td>\n    </tr>\n    <tr>\n      <th>25%</th>\n      <td>175.250000</td>\n      <td>23.000000</td>\n      <td>NaN</td>\n      <td>1.000000</td>\n      <td>24.250000</td>\n      <td>62.000000</td>\n      <td>22812.250000</td>\n      <td>1.877812</td>\n      <td>0.000000</td>\n      <td>0.000000</td>\n    </tr>\n    <tr>\n      <th>50%</th>\n      <td>350.500000</td>\n      <td>28.000000</td>\n      <td>NaN</td>\n      <td>3.000000</td>\n      <td>36.000000</td>\n      <td>113.500000</td>\n      <td>41975.000000</td>\n      <td>4.196167</td>\n      <td>1.000000</td>\n      <td>1.000000</td>\n    </tr>\n    <tr>\n      <th>75%</th>\n      <td>525.750000</td>\n      <td>46.000000</td>\n      <td>NaN</td>\n      <td>4.000000</td>\n      <td>43.000000</td>\n      <td>150.750000</td>\n      <td>60223.000000</td>\n      <td>6.712022</td>\n      <td>1.000000</td>\n      <td>1.000000</td>\n    </tr>\n    <tr>\n      <th>max</th>\n      <td>701.000000</td>\n      <td>90.000000</td>\n      <td>NaN</td>\n      <td>5.000000</td>\n      <td>62.000000</td>\n      <td>210.000000</td>\n      <td>182058.000000</td>\n      <td>10.986203</td>\n      <td>1.000000</td>\n      <td>1.000000</td>\n    </tr>\n  </tbody>\n</table>\n</div>"
     },
     "execution_count": 10,
     "metadata": {},
     "output_type": "execute_result"
    }
   ],
   "execution_count": 10
  },
  {
   "cell_type": "markdown",
   "source": [
    "# 2. Cleaning, transforming and visualizing\n",
    "## 2a. Cleaning the data"
   ],
   "metadata": {
    "id": "IKleHghD27lC",
    "cell_id": "9f81989f4df6416aae16b78c4431c219",
    "deepnote_cell_type": "markdown"
   }
  },
  {
   "cell_type": "markdown",
   "source": [
    "Some datasets don't require any cleaning, but almost all do. This one does. We need to replace '1.0' and '0.0' in the 'Decision' column by 'YES' and 'NO' respectively, clean up the values of the 'gender' column, and change the column names to words which maximize meaning and clarity. "
   ],
   "metadata": {
    "id": "rrXQN3jK27lF",
    "cell_id": "01fc836a70254a638cf232374ca7c895",
    "deepnote_cell_type": "markdown"
   }
  },
  {
   "cell_type": "markdown",
   "source": [
    "First, let's change the name of `spent_week`, `spent_month`, and `SlrAY` to `spent_last_week` and `spent_last_month` and `salary` respectively."
   ],
   "metadata": {
    "id": "HZVP2hxf27lG",
    "cell_id": "852c0da7412644c2ba1c93e9df567413",
    "deepnote_cell_type": "markdown"
   }
  },
  {
   "cell_type": "code",
   "source": [
    "# Call .columns on your data to check out the names of our data's columns \n",
    "coffeeData.columns"
   ],
   "metadata": {
    "id": "iiR6dxn427lH",
    "colab": {
     "base_uri": "https://localhost:8080/"
    },
    "cell_id": "568f793143444d3b998dc8f765268936",
    "outputId": "85b7360b-7c4b-48e9-be7d-785b3e26af40",
    "source_hash": "a1bf1a65",
    "execution_start": 1675780013293,
    "execution_millis": 38,
    "deepnote_to_be_reexecuted": false,
    "deepnote_cell_type": "code"
   },
   "outputs": [
    {
     "data": {
      "text/plain": "Index(['Unnamed: 0', 'Age', 'Gender', 'num_coffeeBags_per_year', 'spent_week',\n       'spent_month', 'SlrAY', 'Distance', 'Online', 'Decision'],\n      dtype='object')"
     },
     "execution_count": 11,
     "metadata": {},
     "output_type": "execute_result"
    }
   ],
   "execution_count": 11
  },
  {
   "cell_type": "code",
   "source": [
    "# Using .rename(), make the relevant name changes to spent_week and spent_per_week.\n",
    "# Remember: you can either do a reassignment, or use inplace=True. Both will change the value of coffeeData\n",
    "coffeeData.rename(columns = {\"spent_month\":\"spent_last_month\", \"spent_week\":\"spent_last_week\", \"SlrAY\":\"Salary\"},\n",
    "            inplace = True)"
   ],
   "metadata": {
    "id": "AcGZ5jU527lK",
    "cell_id": "22925d3f3bc745ba86da3cd472164091",
    "source_hash": "378ca6c1",
    "execution_start": 1675780013294,
    "execution_millis": 0,
    "deepnote_to_be_reexecuted": false,
    "deepnote_cell_type": "code"
   },
   "outputs": [],
   "execution_count": 12
  },
  {
   "cell_type": "code",
   "source": [
    "# Check out the column names\n",
    "coffeeData.columns"
   ],
   "metadata": {
    "id": "V4CHOpkA27lM",
    "colab": {
     "base_uri": "https://localhost:8080/"
    },
    "cell_id": "555b7bfd4430435b9050b432c6660b39",
    "outputId": "14ba9ff7-3cc7-408a-ac83-2bbe01507adb",
    "source_hash": "f0b5c2c0",
    "execution_start": 1675780013295,
    "execution_millis": 37,
    "deepnote_to_be_reexecuted": false,
    "deepnote_cell_type": "code"
   },
   "outputs": [
    {
     "data": {
      "text/plain": "Index(['Unnamed: 0', 'Age', 'Gender', 'num_coffeeBags_per_year',\n       'spent_last_week', 'spent_last_month', 'Salary', 'Distance', 'Online',\n       'Decision'],\n      dtype='object')"
     },
     "execution_count": 13,
     "metadata": {},
     "output_type": "execute_result"
    }
   ],
   "execution_count": 13
  },
  {
   "cell_type": "code",
   "source": [
    "# Let's have a closer look at the gender column. Its values need cleaning.\n",
    "# Call describe() on the gender column \n",
    "coffeeData[\"Gender\"].describe()"
   ],
   "metadata": {
    "id": "6XuI18FV27lQ",
    "colab": {
     "base_uri": "https://localhost:8080/"
    },
    "cell_id": "bcdfec42078f4f90b67cc132973b8f9d",
    "outputId": "f5806f99-0fce-432d-e814-fe549061f3d6",
    "source_hash": "cb427c2e",
    "execution_start": 1675780013323,
    "execution_millis": 86,
    "deepnote_to_be_reexecuted": false,
    "deepnote_cell_type": "code"
   },
   "outputs": [
    {
     "data": {
      "text/plain": "count      702\nunique       9\ntop       Male\nfreq       355\nName: Gender, dtype: object"
     },
     "execution_count": 14,
     "metadata": {},
     "output_type": "execute_result"
    }
   ],
   "execution_count": 14
  },
  {
   "cell_type": "code",
   "source": [
    "# Call unique() on the gender column to see its unique values \n",
    "coffeeData[\"Gender\"].unique()"
   ],
   "metadata": {
    "id": "ZPe4W_pM27lU",
    "colab": {
     "base_uri": "https://localhost:8080/"
    },
    "cell_id": "94accbc98fdd4ac0b86986ea147d69de",
    "outputId": "7f55f0eb-a199-49c8-b08e-29b19e1c1ef6",
    "source_hash": "42d6734c",
    "execution_start": 1675780013324,
    "execution_millis": 85,
    "deepnote_to_be_reexecuted": false,
    "deepnote_cell_type": "code"
   },
   "outputs": [
    {
     "data": {
      "text/plain": "array(['Female', 'Male', 'female', 'F', 'f ', 'FEMALE', 'MALE', 'male',\n       'M'], dtype=object)"
     },
     "execution_count": 15,
     "metadata": {},
     "output_type": "execute_result"
    }
   ],
   "execution_count": 15
  },
  {
   "cell_type": "markdown",
   "source": [
    "We can see a bunch of inconsistency here.\n",
    "\n",
    "Use replace() to make the values of the `gender` column just `Female` and `Male`."
   ],
   "metadata": {
    "id": "NwEMG7MB27lY",
    "cell_id": "4132a60eeba74a068bfbfcd30dcf3a2b",
    "deepnote_cell_type": "markdown"
   }
  },
  {
   "cell_type": "code",
   "source": [
    "# Use the function .replace() on the column \"gender\"; replace all alternate values with 'Female'\n",
    "coffeeData[\"Gender\"] = coffeeData[\"Gender\"].replace([\"female\", \"f \", \"FEMALE\", \"F\"], \"Female\")"
   ],
   "metadata": {
    "id": "II50etW127lZ",
    "cell_id": "f8fe853b6bb045e49bc6c18fb541a6f7",
    "source_hash": "af6f781c",
    "execution_start": 1675780013360,
    "execution_millis": 1,
    "deepnote_to_be_reexecuted": false,
    "deepnote_cell_type": "code"
   },
   "outputs": [],
   "execution_count": 16
  },
  {
   "cell_type": "code",
   "source": [
    "# Let's check the unique values of the column \"gender\"\n",
    "coffeeData[\"Gender\"].unique()"
   ],
   "metadata": {
    "id": "5N3wcWjO27lb",
    "colab": {
     "base_uri": "https://localhost:8080/"
    },
    "cell_id": "276077fb2000466aa533d81b89109a8e",
    "outputId": "ddb53bea-ff4f-4065-f452-234493666cff",
    "source_hash": "22d926e",
    "execution_start": 1675780013361,
    "execution_millis": 114,
    "deepnote_to_be_reexecuted": false,
    "deepnote_cell_type": "code"
   },
   "outputs": [
    {
     "data": {
      "text/plain": "array(['Female', 'Male', 'MALE', 'male', 'M'], dtype=object)"
     },
     "execution_count": 17,
     "metadata": {},
     "output_type": "execute_result"
    }
   ],
   "execution_count": 17
  },
  {
   "cell_type": "code",
   "source": [
    "# Use the function .replace() on the column \"gender\"; replace all alternate values with \"Male\"\n",
    "coffeeData[\"Gender\"] = coffeeData[\"Gender\"].replace([\"MALE\", \"male\", \"M\"], \"Male\")"
   ],
   "metadata": {
    "id": "nlpMhrAR27le",
    "cell_id": "e6b5b925c86b4e97907ec4256f517114",
    "source_hash": "e65ad1c7",
    "execution_start": 1675780013362,
    "execution_millis": 0,
    "deepnote_to_be_reexecuted": false,
    "deepnote_cell_type": "code"
   },
   "outputs": [],
   "execution_count": 18
  },
  {
   "cell_type": "code",
   "source": [
    "# Let's check the unique values of the column \"gender\"\n",
    "coffeeData[\"Gender\"].unique()"
   ],
   "metadata": {
    "id": "nAoMxGNb27lh",
    "colab": {
     "base_uri": "https://localhost:8080/"
    },
    "cell_id": "388d4dd9d5814bf9bc0c8ca1d1507eb9",
    "outputId": "012302ba-124a-46f9-e4a0-b7ddaf3e5f96",
    "source_hash": "22d926e",
    "execution_start": 1675780013363,
    "execution_millis": 122,
    "deepnote_to_be_reexecuted": false,
    "deepnote_cell_type": "code"
   },
   "outputs": [
    {
     "data": {
      "text/plain": "array(['Female', 'Male'], dtype=object)"
     },
     "execution_count": 19,
     "metadata": {},
     "output_type": "execute_result"
    }
   ],
   "execution_count": 19
  },
  {
   "cell_type": "code",
   "source": [
    "# Check out the unique values of the column 'Decision':\n",
    "coffeeData[\"Decision\"].unique()"
   ],
   "metadata": {
    "id": "VOurxC7n27lj",
    "colab": {
     "base_uri": "https://localhost:8080/"
    },
    "cell_id": "366bb40b14ac4701bed2e12f839a80ce",
    "outputId": "87505e7b-3231-4821-86f9-fe25ffe09f66",
    "source_hash": "513d5fa6",
    "execution_start": 1675780013386,
    "execution_millis": 108,
    "deepnote_to_be_reexecuted": false,
    "deepnote_cell_type": "code"
   },
   "outputs": [
    {
     "data": {
      "text/plain": "array([ 1., nan,  0.])"
     },
     "execution_count": 20,
     "metadata": {},
     "output_type": "execute_result"
    }
   ],
   "execution_count": 20
  },
  {
   "cell_type": "markdown",
   "source": [
    "We now want to replace `1.0` and `0.0` in the `Decision` column by `YES` and `NO` respectively."
   ],
   "metadata": {
    "id": "13DjAqVR27lm",
    "cell_id": "f5240f9d3b454fcfbcbf9898dc119af9",
    "deepnote_cell_type": "markdown"
   }
  },
  {
   "cell_type": "code",
   "source": [
    "# Call replace() on the Decision column to replace 'Yes' and 'No' by 1 and 0\n",
    "coffeeData[\"Decision\"] = coffeeData[\"Decision\"].replace(1.0, \"YES\")\n",
    "coffeeData[\"Decision\"] = coffeeData[\"Decision\"].replace(0.0, \"NO\")\n",
    "coffeeData.info()"
   ],
   "metadata": {
    "id": "PZH3aTEt27lm",
    "colab": {
     "base_uri": "https://localhost:8080/"
    },
    "cell_id": "797025d5cbac4440a02b976fcbf18b82",
    "outputId": "14ac841e-9175-4f1b-a448-3c7955105b77",
    "source_hash": "d241c726",
    "execution_start": 1675780013387,
    "execution_millis": 107,
    "deepnote_to_be_reexecuted": false,
    "deepnote_cell_type": "code"
   },
   "outputs": [
    {
     "name": "stdout",
     "output_type": "stream",
     "text": [
      "<class 'pandas.core.frame.DataFrame'>\n",
      "RangeIndex: 702 entries, 0 to 701\n",
      "Data columns (total 10 columns):\n",
      " #   Column                   Non-Null Count  Dtype  \n",
      "---  ------                   --------------  -----  \n",
      " 0   Unnamed: 0               702 non-null    int64  \n",
      " 1   Age                      702 non-null    int64  \n",
      " 2   Gender                   702 non-null    object \n",
      " 3   num_coffeeBags_per_year  702 non-null    int64  \n",
      " 4   spent_last_week          702 non-null    int64  \n",
      " 5   spent_last_month         702 non-null    int64  \n",
      " 6   Salary                   702 non-null    int64  \n",
      " 7   Distance                 702 non-null    float64\n",
      " 8   Online                   702 non-null    int64  \n",
      " 9   Decision                 474 non-null    object \n",
      "dtypes: float64(1), int64(7), object(2)\n",
      "memory usage: 55.0+ KB\n"
     ]
    }
   ],
   "execution_count": 21
  },
  {
   "cell_type": "code",
   "source": [
    "# Check that our replacing those values with 'YES' and 'NO' worked, with unique()\n",
    "coffeeData[\"Decision\"].unique()"
   ],
   "metadata": {
    "id": "EfyWNmGu27lt",
    "colab": {
     "base_uri": "https://localhost:8080/"
    },
    "cell_id": "e010020958d64f0389a89ad5bca7a511",
    "outputId": "300fc537-c6c0-426c-92a6-58a5f042ffd0",
    "source_hash": "2b8ef820",
    "execution_start": 1675780013388,
    "execution_millis": 139,
    "deepnote_to_be_reexecuted": false,
    "deepnote_cell_type": "code"
   },
   "outputs": [
    {
     "data": {
      "text/plain": "array(['YES', nan, 'NO'], dtype=object)"
     },
     "execution_count": 22,
     "metadata": {},
     "output_type": "execute_result"
    }
   ],
   "execution_count": 22
  },
  {
   "cell_type": "markdown",
   "source": [
    "## 2b. Train/test split\n",
    "To execute the train/test split properly, we need to do five things: \n",
    "1. Drop all rows with a null value in the `Decision` column, and save the result as NOPrediction: a dataset that will contain all known values for the decision \n",
    "2. Visualize the data using scatter and boxplots of several variables in the y-axis and the decision on the x-axis\n",
    "3. Get the subset of coffeeData with null values in the `Decision` column, and save that subset as Prediction\n",
    "4. Divide the NOPrediction subset into X and y, and then further divide those subsets into train and test subsets for X and y respectively\n",
    "5. Create dummy variables to deal with categorical inputs"
   ],
   "metadata": {
    "id": "uSpkk4Er27ly",
    "cell_id": "c22ec7f5390c4637affb02e6dee9884b",
    "deepnote_cell_type": "markdown"
   }
  },
  {
   "cell_type": "markdown",
   "source": [
    "### 1. Drop all null values within the `Decision` column, and save the result as NoPrediction"
   ],
   "metadata": {
    "id": "UuNUdVC027ly",
    "cell_id": "74af0d4f35fb4f4fa43437a45d46c6c9",
    "deepnote_cell_type": "markdown"
   }
  },
  {
   "cell_type": "code",
   "source": [
    "# NoPrediction will contain all known values for the decision\n",
    "# Call dropna() on coffeeData, and store the result in a variable NOPrediction \n",
    "# Call describe() on the Decision column of NoPrediction after calling dropna() on coffeeData\n",
    "NOPrediction = coffeeData.dropna()\n",
    "NOPrediction[\"Decision\"].describe()"
   ],
   "metadata": {
    "id": "kYEjdjQi27lz",
    "colab": {
     "base_uri": "https://localhost:8080/"
    },
    "cell_id": "89a050f6c90b44efa2ed5198aa9192a2",
    "outputId": "4270f075-de26-4d53-d2d8-02588c099efc",
    "source_hash": "e45f67c",
    "execution_start": 1675780013410,
    "execution_millis": 119,
    "deepnote_to_be_reexecuted": false,
    "deepnote_cell_type": "code"
   },
   "outputs": [
    {
     "data": {
      "text/plain": "count     474\nunique      2\ntop       YES\nfreq      303\nName: Decision, dtype: object"
     },
     "execution_count": 23,
     "metadata": {},
     "output_type": "execute_result"
    }
   ],
   "execution_count": 23
  },
  {
   "cell_type": "markdown",
   "source": [
    "### 2. Visualize the data using scatter and boxplots of several variables in the y-axis and the decision on the x-axis"
   ],
   "metadata": {
    "id": "3pppAJIZ27l1",
    "cell_id": "9af7fbd7e59c4105b52c8ec940fca58d",
    "deepnote_cell_type": "markdown"
   }
  },
  {
   "cell_type": "code",
   "source": [
    "# Exploring our new NOPrediction dataset\n",
    "# Call boxplot() on our Seaborn object sns, and plug y=\"spent_today\", x= \"Decision\", data=NOPrediction\n",
    "# Don't forget to call plt.show() after that \n",
    "sns.boxplot(y=\"spent_last_week\", x= \"Decision\", data=NOPrediction)\n",
    "plt.show()"
   ],
   "metadata": {
    "id": "GpJlIyNU27l2",
    "colab": {
     "base_uri": "https://localhost:8080/"
    },
    "cell_id": "4b6088a83f63483ba410e39145d18944",
    "outputId": "d2530d99-0443-409f-9896-73ada892dcc7",
    "source_hash": "c81b9d17",
    "execution_start": 1675780013451,
    "execution_millis": 263,
    "deepnote_to_be_reexecuted": false,
    "deepnote_cell_type": "code"
   },
   "outputs": [
    {
     "data": {
      "text/plain": "<Figure size 640x480 with 1 Axes>",
      "image/png": "[encoded data removed]"
     },
     "metadata": {},
     "output_type": "display_data"
    }
   ],
   "execution_count": 24
  },
  {
   "cell_type": "markdown",
   "source": [
    "Can you admissibly conclude anything from this boxplot? Write your answer here:"
   ],
   "metadata": {
    "id": "Ulje1R9b27l4",
    "cell_id": "f65bcc67f3b04f16a71d694ebb0d8b46",
    "deepnote_cell_type": "markdown"
   }
  },
  {
   "cell_type": "code",
   "source": [
    "# Call scatterplot() on our Seaborn object sns, and plug in y=\"spent_last_month\", x= \"distance\", hue = \"Decision\", data =NOPrediction.\n",
    "sns.scatterplot(y=\"spent_last_month\", x= \"Distance\", hue = \"Decision\", data =NOPrediction)"
   ],
   "metadata": {
    "id": "HWrGiTkW27l5",
    "colab": {
     "base_uri": "https://localhost:8080/"
    },
    "cell_id": "bdc2b595d1d340a293fde134fa529af4",
    "outputId": "17606022-c193-45e6-afee-f81fd462c202",
    "source_hash": "16f2a843",
    "execution_start": 1675780013721,
    "execution_millis": 334,
    "deepnote_to_be_reexecuted": false,
    "deepnote_cell_type": "code"
   },
   "outputs": [
    {
     "data": {
      "text/plain": "<AxesSubplot:xlabel='Distance', ylabel='spent_last_month'>"
     },
     "execution_count": 25,
     "metadata": {},
     "output_type": "execute_result"
    },
    {
     "data": {
      "text/plain": "<Figure size 640x480 with 1 Axes>",
      "image/png": "[encoded data removed]"
     },
     "metadata": {},
     "output_type": "display_data"
    }
   ],
   "execution_count": 25
  },
  {
   "cell_type": "markdown",
   "source": [
    "Can you admissibly conclude anything from this scatterplot? Remember: we are trying to build a tree to classify unseen examples. Write your answer here:"
   ],
   "metadata": {
    "id": "JRNoE4Tb27l8",
    "cell_id": "de77d5b5242b471f94590d5ee95a0055",
    "deepnote_cell_type": "markdown"
   }
  },
  {
   "cell_type": "markdown",
   "source": [
    "### 3. Get the subset of coffeeData with null values in the Decision column, and save that subset as Prediction"
   ],
   "metadata": {
    "id": "XL6yGmQY27l8",
    "cell_id": "a215868282154a6c878ad05accae3cf3",
    "deepnote_cell_type": "markdown"
   }
  },
  {
   "cell_type": "code",
   "source": [
    "# Get just those rows whose value for the Decision column is null. There are lots of ways to do this.\n",
    "# One way is to subset on pd.isnull(data['Decision']). Use square brackets, and plug that in as parameter.\n",
    "# Store the result in a variable called Prediction \n",
    "# Call a head() on the result to see it's worked out alright \n",
    "Prediction = coffeeData[pd.isnull(coffeeData[\"Decision\"])]\n",
    "Prediction.head()"
   ],
   "metadata": {
    "id": "EO9pctLS27l9",
    "colab": {
     "base_uri": "https://localhost:8080/"
    },
    "cell_id": "e05e9479ea044de88c05ea17f8739a92",
    "outputId": "37ab799b-1c5c-4f43-eeee-51fc5298acd9",
    "source_hash": "891b7a53",
    "execution_start": 1675780014066,
    "execution_millis": 78,
    "deepnote_to_be_reexecuted": false,
    "deepnote_cell_type": "code"
   },
   "outputs": [
    {
     "data": {
      "text/plain": "    Unnamed: 0  Age  Gender  num_coffeeBags_per_year  spent_last_week  \\\n1            1   24    Male                        0               44   \n3            3   20    Male                        0               30   \n7            7   24  Female                        0               20   \n11          11   24  Female                        0               40   \n12          12   21  Female                        0               38   \n\n    spent_last_month  Salary  Distance  Online Decision  \n1                164   74035  0.520906       0      NaN  \n3                107   13166  0.932098       1      NaN  \n7                 34   17425  1.193188       0      NaN  \n11               153   84803  1.655096       1      NaN  \n12               122   42338  1.714179       1      NaN  ",
      "text/html": "<div>\n<style scoped>\n    .dataframe tbody tr th:only-of-type {\n        vertical-align: middle;\n    }\n\n    .dataframe tbody tr th {\n        vertical-align: top;\n    }\n\n    .dataframe thead th {\n        text-align: right;\n    }\n</style>\n<table border=\"1\" class=\"dataframe\">\n  <thead>\n    <tr style=\"text-align: right;\">\n      <th></th>\n      <th>Unnamed: 0</th>\n      <th>Age</th>\n      <th>Gender</th>\n      <th>num_coffeeBags_per_year</th>\n      <th>spent_last_week</th>\n      <th>spent_last_month</th>\n      <th>Salary</th>\n      <th>Distance</th>\n      <th>Online</th>\n      <th>Decision</th>\n    </tr>\n  </thead>\n  <tbody>\n    <tr>\n      <th>1</th>\n      <td>1</td>\n      <td>24</td>\n      <td>Male</td>\n      <td>0</td>\n      <td>44</td>\n      <td>164</td>\n      <td>74035</td>\n      <td>0.520906</td>\n      <td>0</td>\n      <td>NaN</td>\n    </tr>\n    <tr>\n      <th>3</th>\n      <td>3</td>\n      <td>20</td>\n      <td>Male</td>\n      <td>0</td>\n      <td>30</td>\n      <td>107</td>\n      <td>13166</td>\n      <td>0.932098</td>\n      <td>1</td>\n      <td>NaN</td>\n    </tr>\n    <tr>\n      <th>7</th>\n      <td>7</td>\n      <td>24</td>\n      <td>Female</td>\n      <td>0</td>\n      <td>20</td>\n      <td>34</td>\n      <td>17425</td>\n      <td>1.193188</td>\n      <td>0</td>\n      <td>NaN</td>\n    </tr>\n    <tr>\n      <th>11</th>\n      <td>11</td>\n      <td>24</td>\n      <td>Female</td>\n      <td>0</td>\n      <td>40</td>\n      <td>153</td>\n      <td>84803</td>\n      <td>1.655096</td>\n      <td>1</td>\n      <td>NaN</td>\n    </tr>\n    <tr>\n      <th>12</th>\n      <td>12</td>\n      <td>21</td>\n      <td>Female</td>\n      <td>0</td>\n      <td>38</td>\n      <td>122</td>\n      <td>42338</td>\n      <td>1.714179</td>\n      <td>1</td>\n      <td>NaN</td>\n    </tr>\n  </tbody>\n</table>\n</div>"
     },
     "execution_count": 26,
     "metadata": {},
     "output_type": "execute_result"
    }
   ],
   "execution_count": 26
  },
  {
   "cell_type": "code",
   "source": [
    "# Call describe() on Prediction\n",
    "Prediction.describe()"
   ],
   "metadata": {
    "id": "LAEU5mem27l_",
    "colab": {
     "base_uri": "https://localhost:8080/"
    },
    "cell_id": "d8ed352983c14796b6fda91e479100fc",
    "outputId": "b5b53c66-3cc4-4797-9153-6d6ab4f66074",
    "source_hash": "ecd3f6f6",
    "execution_start": 1675780014094,
    "execution_millis": 83,
    "deepnote_to_be_reexecuted": false,
    "deepnote_cell_type": "code"
   },
   "outputs": [
    {
     "data": {
      "text/plain": "       Unnamed: 0         Age  num_coffeeBags_per_year  spent_last_week  \\\ncount  228.000000  228.000000               228.000000       228.000000   \nmean   372.298246   31.802632                 2.960526        33.394737   \nstd    206.993602   14.302293                 1.585514        15.697930   \nmin      1.000000   16.000000                 0.000000         0.000000   \n25%    221.500000   22.000000                 2.000000        25.750000   \n50%    369.500000   25.000000                 3.000000        37.000000   \n75%    543.000000   39.000000                 4.000000        44.000000   \nmax    700.000000   67.000000                 5.000000        62.000000   \n\n       spent_last_month         Salary    Distance      Online  \ncount        228.000000     228.000000  228.000000  228.000000  \nmean         110.407895   41923.741228    3.428836    0.570175  \nstd           53.786536   27406.768360    2.153102    0.496140  \nmin            0.000000    1617.000000    0.010048    0.000000  \n25%           65.000000   15911.500000    1.699408    0.000000  \n50%          113.500000   40987.500000    3.208673    1.000000  \n75%          151.250000   58537.000000    5.261184    1.000000  \nmax          210.000000  182058.000000   10.871566    1.000000  ",
      "text/html": "<div>\n<style scoped>\n    .dataframe tbody tr th:only-of-type {\n        vertical-align: middle;\n    }\n\n    .dataframe tbody tr th {\n        vertical-align: top;\n    }\n\n    .dataframe thead th {\n        text-align: right;\n    }\n</style>\n<table border=\"1\" class=\"dataframe\">\n  <thead>\n    <tr style=\"text-align: right;\">\n      <th></th>\n      <th>Unnamed: 0</th>\n      <th>Age</th>\n      <th>num_coffeeBags_per_year</th>\n      <th>spent_last_week</th>\n      <th>spent_last_month</th>\n      <th>Salary</th>\n      <th>Distance</th>\n      <th>Online</th>\n    </tr>\n  </thead>\n  <tbody>\n    <tr>\n      <th>count</th>\n      <td>228.000000</td>\n      <td>228.000000</td>\n      <td>228.000000</td>\n      <td>228.000000</td>\n      <td>228.000000</td>\n      <td>228.000000</td>\n      <td>228.000000</td>\n      <td>228.000000</td>\n    </tr>\n    <tr>\n      <th>mean</th>\n      <td>372.298246</td>\n      <td>31.802632</td>\n      <td>2.960526</td>\n      <td>33.394737</td>\n      <td>110.407895</td>\n      <td>41923.741228</td>\n      <td>3.428836</td>\n      <td>0.570175</td>\n    </tr>\n    <tr>\n      <th>std</th>\n      <td>206.993602</td>\n      <td>14.302293</td>\n      <td>1.585514</td>\n      <td>15.697930</td>\n      <td>53.786536</td>\n      <td>27406.768360</td>\n      <td>2.153102</td>\n      <td>0.496140</td>\n    </tr>\n    <tr>\n      <th>min</th>\n      <td>1.000000</td>\n      <td>16.000000</td>\n      <td>0.000000</td>\n      <td>0.000000</td>\n      <td>0.000000</td>\n      <td>1617.000000</td>\n      <td>0.010048</td>\n      <td>0.000000</td>\n    </tr>\n    <tr>\n      <th>25%</th>\n      <td>221.500000</td>\n      <td>22.000000</td>\n      <td>2.000000</td>\n      <td>25.750000</td>\n      <td>65.000000</td>\n      <td>15911.500000</td>\n      <td>1.699408</td>\n      <td>0.000000</td>\n    </tr>\n    <tr>\n      <th>50%</th>\n      <td>369.500000</td>\n      <td>25.000000</td>\n      <td>3.000000</td>\n      <td>37.000000</td>\n      <td>113.500000</td>\n      <td>40987.500000</td>\n      <td>3.208673</td>\n      <td>1.000000</td>\n    </tr>\n    <tr>\n      <th>75%</th>\n      <td>543.000000</td>\n      <td>39.000000</td>\n      <td>4.000000</td>\n      <td>44.000000</td>\n      <td>151.250000</td>\n      <td>58537.000000</td>\n      <td>5.261184</td>\n      <td>1.000000</td>\n    </tr>\n    <tr>\n      <th>max</th>\n      <td>700.000000</td>\n      <td>67.000000</td>\n      <td>5.000000</td>\n      <td>62.000000</td>\n      <td>210.000000</td>\n      <td>182058.000000</td>\n      <td>10.871566</td>\n      <td>1.000000</td>\n    </tr>\n  </tbody>\n</table>\n</div>"
     },
     "execution_count": 27,
     "metadata": {},
     "output_type": "execute_result"
    }
   ],
   "execution_count": 27
  },
  {
   "cell_type": "markdown",
   "source": [
    "### 4. Divide the NOPrediction subset into X and y"
   ],
   "metadata": {
    "id": "c3HLaOFk27mB",
    "cell_id": "ad72f4e1c2a6404e86149b3092d5aa36",
    "deepnote_cell_type": "markdown"
   }
  },
  {
   "cell_type": "code",
   "source": [
    "# First of all, let's check the names of the columns of NOPrediction\n",
    "NOPrediction.columns"
   ],
   "metadata": {
    "id": "bkD9WISM27mC",
    "colab": {
     "base_uri": "https://localhost:8080/"
    },
    "cell_id": "04c5a7be06d24d08bcf664d4b607c286",
    "outputId": "074aa692-855c-438a-e0bd-c7b654c819b9",
    "source_hash": "95069dd2",
    "execution_start": 1675780014126,
    "execution_millis": 159,
    "deepnote_to_be_reexecuted": false,
    "deepnote_cell_type": "code"
   },
   "outputs": [
    {
     "data": {
      "text/plain": "Index(['Unnamed: 0', 'Age', 'Gender', 'num_coffeeBags_per_year',\n       'spent_last_week', 'spent_last_month', 'Salary', 'Distance', 'Online',\n       'Decision'],\n      dtype='object')"
     },
     "execution_count": 28,
     "metadata": {},
     "output_type": "execute_result"
    }
   ],
   "execution_count": 28
  },
  {
   "cell_type": "code",
   "source": [
    "# Let's do our feature selection.\n",
    "# Make a variable called 'features', and a list containing the strings of every column except \"Decision\"; that is:\n",
    "# [\"age\", \"gender\", \"num_coffeeBags_per_year\", \"spent_last_week\", \"spent_last_month\", \"Salary\", \"Distance\", \"Online\"]\n",
    "features = [\"Age\", \"Gender\", \"num_coffeeBags_per_year\", \"spent_last_week\", \"spent_last_month\",\n",
    "       \"Salary\", \"Distance\", \"Online\"]\n",
    "\n",
    "\n",
    "# Make an explanatory variable called X, and assign it: NoPrediction[features]\n",
    "X = NOPrediction[features]\n",
    "\n",
    "# Make a dependent variable called y, and assign it: NoPrediction.Decision\n",
    "y = NOPrediction.Decision"
   ],
   "metadata": {
    "id": "O8ndj3ZB27mE",
    "cell_id": "8b6da3a50c16444aa2ea4a71f80e6f05",
    "source_hash": "9acb5aac",
    "execution_start": 1675780014143,
    "execution_millis": 35,
    "deepnote_to_be_reexecuted": false,
    "deepnote_cell_type": "code"
   },
   "outputs": [],
   "execution_count": 29
  },
  {
   "cell_type": "markdown",
   "source": [
    "### 4. Further divide those subsets into train and test subsets for X and y respectively: X_train, X_test, y_train, y_test"
   ],
   "metadata": {
    "id": "GdigaqRI27mG",
    "cell_id": "e03d8493b7f041db9d745afb52263090",
    "deepnote_cell_type": "markdown"
   }
  },
  {
   "cell_type": "code",
   "source": [
    "# Call train_test_split on X, y, test_size = 0.25, and random_state = 246\n",
    "# Make new variables called X_train, X_test, y_train, and y_test\n",
    "X_train, X_test, y_train, y_test=train_test_split(X, y, \n",
    "                                                  test_size = 0.25,\n",
    "                                                  random_state = 246)"
   ],
   "metadata": {
    "id": "E8aJs3PL27mG",
    "cell_id": "54b2f5c045904cbe84e2a31fcb848614",
    "source_hash": "1d5dfc10",
    "execution_start": 1675780014178,
    "execution_millis": 1,
    "deepnote_to_be_reexecuted": false,
    "deepnote_cell_type": "code"
   },
   "outputs": [],
   "execution_count": 30
  },
  {
   "cell_type": "markdown",
   "source": [
    "### 5. Create dummy variables to deal with categorical inputs\n",
    "One-hot encoding replaces each unique value of a given column with a new column, and puts a 1 in the new column for a given row just if its initial value for the original column matches the new column. Check out [this resource](https://hackernoon.com/what-is-one-hot-encoding-why-and-when-do-you-have-to-use-it-e3c6186d008f) if you haven't seen one-hot-encoding before. "
   ],
   "metadata": {
    "id": "dzZUinX-27mK",
    "cell_id": "39b19fe290234b17a3aa97989f2b0f44",
    "deepnote_cell_type": "markdown"
   }
  },
  {
   "cell_type": "code",
   "source": [
    "# One-hot encoding all features in training set.\n",
    "# Call get_dummies() on our Pandas object pd, and pass X_train to it. Reassign the result back to X_train. \n",
    "X_train = pd.get_dummies(X_train)\n",
    "\n",
    "# Do the same, but for X_test\n",
    "X_test = pd.get_dummies(X_test)"
   ],
   "metadata": {
    "id": "pZTpJpBX27mL",
    "cell_id": "7f1b2b419a5a4669a8ad33d3afc22802",
    "source_hash": "2c121cc8",
    "execution_start": 1675780014179,
    "execution_millis": 0,
    "deepnote_to_be_reexecuted": false,
    "deepnote_cell_type": "code"
   },
   "outputs": [],
   "execution_count": 31
  },
  {
   "cell_type": "markdown",
   "source": [
    "# 3. Modelling\n",
    "It's useful to look at the scikit-learn documentation on decision trees https://scikit-learn.org/stable/modules/tree.html before launching into applying them. If you haven't seen them before, take a look at that link, in particular the section `1.10.5.` "
   ],
   "metadata": {
    "id": "cp0ibTlP27mN",
    "cell_id": "5d5afb363e9948738787a2dcdd4cfc56",
    "deepnote_cell_type": "markdown"
   }
  },
  {
   "cell_type": "markdown",
   "source": [
    "## Model 1: Entropy model - no max_depth\n",
    "\n",
    "We'll give you a little more guidance here, as the Python is hard to deduce, and scikitlearn takes some getting used to.\n",
    "\n",
    "Theoretically, let's remind ourselves of what's going on with a decision tree implementing an entropy model.\n",
    "\n",
    "Ross Quinlan's **ID3 Algorithm** was one of the first, and one of the most basic, to use entropy as a metric.\n",
    "\n",
    "**Entropy** is a measure of how uncertain we are about which category the data-points fall into at a given point in the tree. The **Information gain** of a specific feature with a threshold (such as 'spent_last_month <= 138.0') is the difference in entropy that exists before and after splitting on that feature; i.e., the information we gain about the categories of the data-points by splitting on that feature and that threshold. \n",
    "\n",
    "Naturally, we want to minimize entropy and maximize information gain. Quinlan's ID3 algorithm is designed to output a tree such that the features at each node, starting from the root, and going all the way down to the leaves, have maximial information gain. We want a tree whose leaves have elements that are *homogeneous*, that is, all of the same category. \n",
    "\n",
    "The first model will be the hardest. Persevere and you'll reap the rewards: you can use almost exactly the same code for the other models. "
   ],
   "metadata": {
    "id": "4TxsvBr-27mN",
    "cell_id": "c4487d87a1fb496a965b6a09c20db905",
    "deepnote_cell_type": "markdown"
   }
  },
  {
   "cell_type": "code",
   "source": [
    "# Declare a variable called entr_model, and assign it: tree.DecisionTreeClassifier(criterion=\"entropy\", random_state = 1234)\n",
    "entr_model = tree.DecisionTreeClassifier(criterion=\"entropy\", random_state = 1234)\n",
    "\n",
    "# Call fit() on entr_model, and pass in X_train and y_train, in that order \n",
    "entr_model.fit(X_train, y_train)\n",
    "\n",
    "# Call predict() on entr_model with X_test passed to it, and assign the result to a variable y_pred \n",
    "y_pred = entr_model.predict(X_test)\n",
    "\n",
    "# Assign y_pred the following: pd.Series(y_pred)\n",
    "y_pred = pd.Series(y_pred)\n",
    "\n",
    "# Check out entr_model\n",
    "entr_model"
   ],
   "metadata": {
    "id": "dn_gV-_k27mO",
    "colab": {
     "base_uri": "https://localhost:8080/"
    },
    "cell_id": "4052889d66c34dc9ab35f2c2e92f33b3",
    "outputId": "c589da2e-5717-4ea4-f51c-cb2a24164909",
    "source_hash": "b57a1e7c",
    "execution_start": 1675780014180,
    "execution_millis": 186,
    "deepnote_to_be_reexecuted": false,
    "deepnote_cell_type": "code"
   },
   "outputs": [
    {
     "data": {
      "text/plain": "DecisionTreeClassifier(criterion='entropy', random_state=1234)"
     },
     "execution_count": 32,
     "metadata": {},
     "output_type": "execute_result"
    }
   ],
   "execution_count": 32
  },
  {
   "cell_type": "code",
   "source": [
    "# Now we want to visualize the tree\n",
    "dot_data = StringIO()\n",
    "\n",
    "# We can do so with export_graphviz\n",
    "tree.export_graphviz(entr_model, out_file=dot_data,  \n",
    "                filled=True, rounded=True,\n",
    "                special_characters=True, feature_names=X_train.columns,class_names = [\"NO\", \"YES\"]) \n",
    "\n",
    "# Alternatively for class_names use entr_model.classes_\n",
    "graph = pydotplus.graph_from_dot_data(dot_data.getvalue())  \n",
    "Image(graph.create_png())"
   ],
   "metadata": {
    "id": "Bk61p9Bu27mQ",
    "colab": {
     "base_uri": "https://localhost:8080/"
    },
    "cell_id": "9eeef497c63e48858c50051ae60bbf7b",
    "outputId": "5b02a185-8da2-4b57-c333-058b2f91a2db",
    "source_hash": "e0dd6202",
    "execution_start": 1675780014223,
    "execution_millis": 528,
    "deepnote_to_be_reexecuted": false,
    "deepnote_cell_type": "code"
   },
   "outputs": [
    {
     "ename": "InvocationException",
     "evalue": "GraphViz's executables not found",
     "output_type": "error",
     "traceback": [
      "\u001B[0;31m---------------------------------------------------------------------------\u001B[0m",
      "\u001B[0;31mInvocationException\u001B[0m                       Traceback (most recent call last)",
      "\u001B[0;32m/var/folders/hs/hsjz3kc914q798jgbjb13w6r0000gq/T/ipykernel_4777/3331883792.py\u001B[0m in \u001B[0;36m<module>\u001B[0;34m\u001B[0m\n\u001B[1;32m      9\u001B[0m \u001B[0;31m# Alternatively for class_names use entr_model.classes_\u001B[0m\u001B[0;34m\u001B[0m\u001B[0;34m\u001B[0m\u001B[0m\n\u001B[1;32m     10\u001B[0m \u001B[0mgraph\u001B[0m \u001B[0;34m=\u001B[0m \u001B[0mpydotplus\u001B[0m\u001B[0;34m.\u001B[0m\u001B[0mgraph_from_dot_data\u001B[0m\u001B[0;34m(\u001B[0m\u001B[0mdot_data\u001B[0m\u001B[0;34m.\u001B[0m\u001B[0mgetvalue\u001B[0m\u001B[0;34m(\u001B[0m\u001B[0;34m)\u001B[0m\u001B[0;34m)\u001B[0m\u001B[0;34m\u001B[0m\u001B[0;34m\u001B[0m\u001B[0m\n\u001B[0;32m---> 11\u001B[0;31m \u001B[0mImage\u001B[0m\u001B[0;34m(\u001B[0m\u001B[0mgraph\u001B[0m\u001B[0;34m.\u001B[0m\u001B[0mcreate_png\u001B[0m\u001B[0;34m(\u001B[0m\u001B[0;34m)\u001B[0m\u001B[0;34m)\u001B[0m\u001B[0;34m\u001B[0m\u001B[0;34m\u001B[0m\u001B[0m\n\u001B[0m",
      "\u001B[0;32m~/opt/anaconda3/lib/python3.9/site-packages/pydotplus/graphviz.py\u001B[0m in \u001B[0;36m<lambda>\u001B[0;34m(f, prog)\u001B[0m\n\u001B[1;32m   1795\u001B[0m             self.__setattr__(\n\u001B[1;32m   1796\u001B[0m                 \u001B[0;34m'create_'\u001B[0m \u001B[0;34m+\u001B[0m \u001B[0mfrmt\u001B[0m\u001B[0;34m,\u001B[0m\u001B[0;34m\u001B[0m\u001B[0;34m\u001B[0m\u001B[0m\n\u001B[0;32m-> 1797\u001B[0;31m                 \u001B[0;32mlambda\u001B[0m \u001B[0mf\u001B[0m\u001B[0;34m=\u001B[0m\u001B[0mfrmt\u001B[0m\u001B[0;34m,\u001B[0m \u001B[0mprog\u001B[0m\u001B[0;34m=\u001B[0m\u001B[0mself\u001B[0m\u001B[0;34m.\u001B[0m\u001B[0mprog\u001B[0m\u001B[0;34m:\u001B[0m \u001B[0mself\u001B[0m\u001B[0;34m.\u001B[0m\u001B[0mcreate\u001B[0m\u001B[0;34m(\u001B[0m\u001B[0mformat\u001B[0m\u001B[0;34m=\u001B[0m\u001B[0mf\u001B[0m\u001B[0;34m,\u001B[0m \u001B[0mprog\u001B[0m\u001B[0;34m=\u001B[0m\u001B[0mprog\u001B[0m\u001B[0;34m)\u001B[0m\u001B[0;34m\u001B[0m\u001B[0;34m\u001B[0m\u001B[0m\n\u001B[0m\u001B[1;32m   1798\u001B[0m             )\n\u001B[1;32m   1799\u001B[0m             \u001B[0mf\u001B[0m \u001B[0;34m=\u001B[0m \u001B[0mself\u001B[0m\u001B[0;34m.\u001B[0m\u001B[0m__dict__\u001B[0m\u001B[0;34m[\u001B[0m\u001B[0;34m'create_'\u001B[0m \u001B[0;34m+\u001B[0m \u001B[0mfrmt\u001B[0m\u001B[0;34m]\u001B[0m\u001B[0;34m\u001B[0m\u001B[0;34m\u001B[0m\u001B[0m\n",
      "\u001B[0;32m~/opt/anaconda3/lib/python3.9/site-packages/pydotplus/graphviz.py\u001B[0m in \u001B[0;36mcreate\u001B[0;34m(self, prog, format)\u001B[0m\n\u001B[1;32m   1957\u001B[0m             \u001B[0mself\u001B[0m\u001B[0;34m.\u001B[0m\u001B[0mprogs\u001B[0m \u001B[0;34m=\u001B[0m \u001B[0mfind_graphviz\u001B[0m\u001B[0;34m(\u001B[0m\u001B[0;34m)\u001B[0m\u001B[0;34m\u001B[0m\u001B[0;34m\u001B[0m\u001B[0m\n\u001B[1;32m   1958\u001B[0m             \u001B[0;32mif\u001B[0m \u001B[0mself\u001B[0m\u001B[0;34m.\u001B[0m\u001B[0mprogs\u001B[0m \u001B[0;32mis\u001B[0m \u001B[0;32mNone\u001B[0m\u001B[0;34m:\u001B[0m\u001B[0;34m\u001B[0m\u001B[0;34m\u001B[0m\u001B[0m\n\u001B[0;32m-> 1959\u001B[0;31m                 raise InvocationException(\n\u001B[0m\u001B[1;32m   1960\u001B[0m                     'GraphViz\\'s executables not found')\n\u001B[1;32m   1961\u001B[0m \u001B[0;34m\u001B[0m\u001B[0m\n",
      "\u001B[0;31mInvocationException\u001B[0m: GraphViz's executables not found"
     ]
    }
   ],
   "execution_count": 33
  },
  {
   "cell_type": "markdown",
   "source": [
    "## Model 1: Entropy model - no max_depth: Interpretation and evaluation"
   ],
   "metadata": {
    "id": "G4KbEX0827mV",
    "cell_id": "8415d237defc4aa18dd6d81cd72246aa",
    "deepnote_cell_type": "markdown"
   }
  },
  {
   "cell_type": "code",
   "source": [
    "# Run this block for model evaluation metrics \n",
    "print(\"Model Entropy - no max depth\")\n",
    "print(\"Accuracy:\", metrics.accuracy_score(y_test,y_pred))\n",
    "print(\"Balanced accuracy:\", metrics.balanced_accuracy_score(y_test,y_pred))\n",
    "print('Precision score for \"Yes\"' , metrics.precision_score(y_test,y_pred, pos_label = \"YES\"))\n",
    "print('Precision score for \"No\"' , metrics.precision_score(y_test,y_pred, pos_label = \"NO\"))\n",
    "print('Recall score for \"Yes\"' , metrics.recall_score(y_test,y_pred, pos_label = \"YES\"))\n",
    "print('Recall score for \"No\"' , metrics.recall_score(y_test,y_pred, pos_label = \"NO\"))"
   ],
   "metadata": {
    "id": "O7wTOJqo27mW",
    "colab": {
     "base_uri": "https://localhost:8080/"
    },
    "cell_id": "af277a7d0b9f4133be3b11af9837420b",
    "outputId": "3616734f-6335-4ffd-d711-a634b40b29d0",
    "source_hash": "23d80693",
    "execution_start": 1675780014472,
    "execution_millis": 316,
    "deepnote_to_be_reexecuted": false,
    "deepnote_cell_type": "code"
   },
   "outputs": [],
   "execution_count": null
  },
  {
   "cell_type": "markdown",
   "source": [
    "What can you infer from these results? Write your conclusions here:"
   ],
   "metadata": {
    "id": "ptzUYFpt27mY",
    "cell_id": "dc62c9c8c583461799e9313fc16a6416",
    "deepnote_cell_type": "markdown"
   }
  },
  {
   "cell_type": "markdown",
   "source": [
    "## Model 2: Gini impurity model - no max_depth\n",
    "\n",
    "Gini impurity, like entropy, is a measure of how well a given feature (and threshold) splits the data into categories.\n",
    "\n",
    "Their equations are similar, but Gini impurity doesn't require logorathmic functions, which can be computationally expensive. "
   ],
   "metadata": {
    "id": "oe4kkpM027ma",
    "cell_id": "bad0b9dc15b948e9b856c29a96f6c425",
    "deepnote_cell_type": "markdown"
   }
  },
  {
   "cell_type": "code",
   "source": [
    "# Make a variable called gini_model, and assign it exactly what you assigned entr_model with above, but with the\n",
    "# criterion changed to 'gini'\n",
    "\n",
    "gini_model= tree.DecisionTreeClassifier(criterion=\"gini\", random_state = 1234)\n",
    "\n",
    "# Call fit() on the gini_model as you did with the entr_model\n",
    "gini_model.fit(X_train , y_train)\n",
    "\n",
    "# Call predict() on the gini_model as you did with the entr_model \n",
    "y_pred = gini_model.predict(X_test)\n",
    "\n",
    "# Turn y_pred into a series, as before\n",
    "y_pred = pd.Series(y_pred)\n",
    "\n",
    "# Check out gini_model\n",
    "gini_model"
   ],
   "metadata": {
    "id": "9d4WO4lt27ma",
    "colab": {
     "base_uri": "https://localhost:8080/"
    },
    "cell_id": "55cffd48bd74434daed521881f44d222",
    "outputId": "7ebd3cb2-543e-4527-b31f-3cd0f53cdbf8",
    "source_hash": "7d7db936",
    "execution_start": 1675780014486,
    "execution_millis": 335,
    "deepnote_to_be_reexecuted": false,
    "deepnote_cell_type": "code"
   },
   "outputs": [],
   "execution_count": null
  },
  {
   "cell_type": "code",
   "source": [
    "# As before, but make the model name gini_model\n",
    "dot_data = StringIO()\n",
    "tree.export_graphviz(gini_model, out_file=dot_data,  \n",
    "                filled=True, rounded=True,\n",
    "                special_characters=True, feature_names=X_train.columns,class_names = [\"NO\", \"YES\"])\n",
    "\n",
    "# Alternatively for class_names use gini_model.classes_\n",
    "graph = pydotplus.graph_from_dot_data(dot_data.getvalue())  \n",
    "Image(graph.create_png())"
   ],
   "metadata": {
    "id": "cdWfcr7n27mc",
    "colab": {
     "base_uri": "https://localhost:8080/"
    },
    "cell_id": "62edb6db4ab84d259980667bf42f37bd",
    "outputId": "e93b7730-b1eb-41a7-c2d6-6f00aadb2fab",
    "source_hash": "9a37bd89",
    "execution_start": 1675780014495,
    "execution_millis": 502,
    "deepnote_to_be_reexecuted": false,
    "deepnote_cell_type": "code"
   },
   "outputs": [],
   "execution_count": null
  },
  {
   "cell_type": "code",
   "source": [
    "# Run this block for model evaluation\n",
    "print(\"Model Gini impurity model\")\n",
    "print(\"Accuracy:\", metrics.accuracy_score(y_test,y_pred))\n",
    "print(\"Balanced accuracy:\", metrics.balanced_accuracy_score(y_test,y_pred))\n",
    "print('Precision score' , metrics.precision_score(y_test,y_pred, pos_label = \"YES\"))\n",
    "print('Recall score' , metrics.recall_score(y_test,y_pred, pos_label = \"NO\"))"
   ],
   "metadata": {
    "id": "yCgKCQEM27me",
    "colab": {
     "base_uri": "https://localhost:8080/"
    },
    "cell_id": "404e7a1f8ea241408964648da593c1a5",
    "outputId": "b2f4dff5-a276-41ae-d3b1-c89141f19648",
    "source_hash": "34f420d1",
    "execution_start": 1675780014821,
    "execution_millis": 235,
    "deepnote_to_be_reexecuted": false,
    "deepnote_cell_type": "code"
   },
   "outputs": [],
   "execution_count": null
  },
  {
   "cell_type": "markdown",
   "source": [
    "How do the results here compare to the previous model? Write your judgements here: "
   ],
   "metadata": {
    "id": "FgCPZf0c27mh",
    "cell_id": "3b9a624602fc4cef8bfd6df9f1435332",
    "deepnote_cell_type": "markdown"
   }
  },
  {
   "cell_type": "markdown",
   "source": [
    "## Model 3: Entropy model - max depth 3\n",
    "We're going to try to limit the depth of our decision tree, using entropy first.  \n",
    "\n",
    "As you know, we need to strike a balance with tree depth. \n",
    "\n",
    "Insufficiently deep, and we're not giving the tree the opportunity to spot the right patterns in the training data.\n",
    "\n",
    "Excessively deep, and we're probably going to make a tree that overfits to the training data, at the cost of very high error on the (hitherto unseen) test data. \n",
    "\n",
    "Sophisticated data scientists use methods like random search with cross-validation to systematically find a good depth for their tree. We'll start with picking 3, and see how that goes. "
   ],
   "metadata": {
    "id": "88xuZI4927mi",
    "cell_id": "212393a7f363487ba6d552850cf68165",
    "deepnote_cell_type": "markdown"
   }
  },
  {
   "cell_type": "code",
   "source": [
    "# Made a model as before, but call it entr_model2, and make the max_depth parameter equal to 3. \n",
    "# Execute the fitting, predicting, and Series operations as before\n",
    "entr_model2 = tree.DecisionTreeClassifier(criterion=\"entropy\", max_depth = 3, random_state = 1234)\n",
    "entr_model2.fit(X_train, y_train)\n",
    "y_pred = entr_model2.predict(X_test)\n",
    "y_pred = pd.Series(y_pred)\n",
    "entr_model2"
   ],
   "metadata": {
    "id": "sIqsFSm127mj",
    "colab": {
     "base_uri": "https://localhost:8080/"
    },
    "cell_id": "05151c7270d14541b0d3cd7b37429802",
    "outputId": "3632f9c0-31bd-4681-9360-157adf5aee82",
    "source_hash": "ca4a1fe5",
    "execution_start": 1675780014846,
    "execution_millis": 239,
    "deepnote_to_be_reexecuted": false,
    "deepnote_cell_type": "code"
   },
   "outputs": [],
   "execution_count": null
  },
  {
   "cell_type": "code",
   "source": [
    "# As before, we need to visualize the tree to grasp its nature\n",
    "dot_data = StringIO()\n",
    "tree.export_graphviz(entr_model2, out_file=dot_data,  \n",
    "                filled=True, rounded=True,\n",
    "                special_characters=True, feature_names=X_train.columns,class_names = [\"NO\", \"YES\"])\n",
    "\n",
    "# Alternatively for class_names use entr_model2.classes_\n",
    "graph = pydotplus.graph_from_dot_data(dot_data.getvalue())  \n",
    "Image(graph.create_png())"
   ],
   "metadata": {
    "id": "jQMihcyY27ml",
    "colab": {
     "base_uri": "https://localhost:8080/"
    },
    "cell_id": "a1f39e1b48284a42ab69f2248c22e614",
    "outputId": "1d0c0615-004f-40a3-b2b7-b6f78f4c5e0d",
    "source_hash": "d8d3ffb4",
    "execution_start": 1675780014890,
    "execution_millis": 321,
    "deepnote_to_be_reexecuted": false,
    "deepnote_cell_type": "code"
   },
   "outputs": [],
   "execution_count": null
  },
  {
   "cell_type": "code",
   "source": [
    "# Run this block for model evaluation \n",
    "print(\"Model Entropy model max depth 3\")\n",
    "print(\"Accuracy:\", metrics.accuracy_score(y_test,y_pred))\n",
    "print(\"Balanced accuracy:\", metrics.balanced_accuracy_score(y_test,y_pred))\n",
    "print('Precision score for \"Yes\"' , metrics.precision_score(y_test,y_pred, pos_label = \"YES\"))\n",
    "print('Recall score for \"No\"' , metrics.recall_score(y_test,y_pred, pos_label = \"NO\"))"
   ],
   "metadata": {
    "id": "FUnwNy3w27mn",
    "colab": {
     "base_uri": "https://localhost:8080/"
    },
    "cell_id": "712b80ee725249c494ba6f9fc7c8b5d5",
    "outputId": "bf11f83d-d48b-4e4f-fe4d-5173e5b79367",
    "source_hash": "dd1d16b1",
    "execution_start": 1675780014984,
    "execution_millis": 279,
    "deepnote_to_be_reexecuted": false,
    "deepnote_cell_type": "code"
   },
   "outputs": [],
   "execution_count": null
  },
  {
   "cell_type": "markdown",
   "source": [
    "So our accuracy decreased, but is this certainly an inferior tree to the max depth original tree we did with Model 1? Write your conclusions here: "
   ],
   "metadata": {
    "id": "d5U22BCW27mv",
    "cell_id": "380fb73afbf242cbbc88393671ee697a",
    "deepnote_cell_type": "markdown"
   }
  },
  {
   "cell_type": "markdown",
   "source": [
    "## Model 4: Gini impurity  model - max depth 3\n",
    "We're now going to try the same with the Gini impurity model. "
   ],
   "metadata": {
    "id": "Iy9DmgIG27mw",
    "cell_id": "ad3ed12abeb3467a9e3862f4ccf02ef6",
    "deepnote_cell_type": "markdown"
   }
  },
  {
   "cell_type": "code",
   "source": [
    "# As before, make a variable, but call it gini_model2, and ensure the max_depth parameter is set to 3\n",
    "gini_model2 = tree.DecisionTreeClassifier(criterion='gini', random_state = 1234, max_depth = 3)\n",
    "\n",
    "# Do the fit, predict, and series transformations as before. \n",
    "gini_model2.fit(X_train, y_train)\n",
    "y_pred = gini_model2.predict(X_test)\n",
    "y_pred = pd.Series(y_pred)\n",
    "gini_model2"
   ],
   "metadata": {
    "id": "QB-UrxQv27mw",
    "colab": {
     "base_uri": "https://localhost:8080/"
    },
    "cell_id": "b34af660396f4ad294aa7ec9886c752a",
    "outputId": "301eae15-ed4e-4ca4-c4c5-356d594ce203",
    "source_hash": "d52e3df",
    "execution_start": 1675780014992,
    "execution_millis": 292,
    "deepnote_to_be_reexecuted": false,
    "deepnote_cell_type": "code"
   },
   "outputs": [],
   "execution_count": null
  },
  {
   "cell_type": "code",
   "source": [
    "dot_data = StringIO()\n",
    "tree.export_graphviz(gini_model2, out_file=dot_data,  \n",
    "                filled=True, rounded=True,\n",
    "                special_characters=True, feature_names=X_train.columns,class_names = [\"NO\", \"YES\"])\n",
    "\n",
    "# Alternatively for class_names use gini_model2.classes_\n",
    "graph = pydotplus.graph_from_dot_data(dot_data.getvalue())  \n",
    "Image(graph.create_png())"
   ],
   "metadata": {
    "id": "xgAGJ8Aw27mz",
    "colab": {
     "base_uri": "https://localhost:8080/"
    },
    "cell_id": "028032e341c64a1cbee3f63d1275b481",
    "outputId": "0e8827c4-aadb-4a1d-84c6-30af4ac7e972",
    "source_hash": "ce5823db",
    "execution_start": 1675780015043,
    "execution_millis": 422,
    "deepnote_to_be_reexecuted": false,
    "deepnote_cell_type": "code"
   },
   "outputs": [],
   "execution_count": null
  },
  {
   "cell_type": "code",
   "source": [
    "print(\"Gini impurity  model - max depth 3\")\n",
    "print(\"Accuracy:\", metrics.accuracy_score(y_test,y_pred))\n",
    "print(\"Balanced accuracy:\", metrics.balanced_accuracy_score(y_test,y_pred))\n",
    "print('Precision score' , metrics.precision_score(y_test,y_pred, pos_label = \"YES\"))\n",
    "print('Recall score' , metrics.recall_score(y_test,y_pred, pos_label = \"NO\"))"
   ],
   "metadata": {
    "id": "HKNGp4-127m0",
    "colab": {
     "base_uri": "https://localhost:8080/"
    },
    "cell_id": "e4b540f0ea6747daa08821fec30b8d46",
    "outputId": "0b8b731d-e081-4cee-89a6-b99e4408fe2a",
    "source_hash": "3c853287",
    "execution_start": 1675780015213,
    "execution_millis": 262,
    "deepnote_to_be_reexecuted": false,
    "deepnote_cell_type": "code"
   },
   "outputs": [],
   "execution_count": null
  },
  {
   "cell_type": "markdown",
   "source": [
    "Now this is an elegant tree. Its accuracy might not be the highest, but it's still the best model we've produced so far. Why is that? Write your answer here: "
   ],
   "metadata": {
    "id": "KCgp_QEh27m2",
    "cell_id": "773d6e40ff274e06988f137b2b85b802",
    "deepnote_cell_type": "markdown"
   }
  },
  {
   "cell_type": "markdown",
   "source": [
    "# 4. Evaluating and concluding\n",
    "## 4a. How many customers will buy Hidden Farm coffee? \n",
    "Let's first ascertain how many loyal customers claimed, in the survey, that they will purchase the Hidden Farm coffee. "
   ],
   "metadata": {
    "id": "XNwLDdpq27m3",
    "cell_id": "f3857d5a3c144528a6f62145f345ffd8",
    "deepnote_cell_type": "markdown"
   }
  },
  {
   "cell_type": "code",
   "source": [
    "# Call value_counts() on the 'Decision' column of the original coffeeData\n",
    "coffeeData[\"Decision\"].value_counts()"
   ],
   "metadata": {
    "id": "pxCzly1T27m7",
    "colab": {
     "base_uri": "https://localhost:8080/"
    },
    "cell_id": "b62da0f92334480981249094a05a04dc",
    "outputId": "897be102-4f77-4138-be43-849483f5a22e",
    "source_hash": "fd1cc336",
    "execution_start": 1675780015214,
    "execution_millis": 270,
    "deepnote_to_be_reexecuted": false,
    "deepnote_cell_type": "code"
   },
   "outputs": [],
   "execution_count": null
  },
  {
   "cell_type": "markdown",
   "source": [
    "Let's now determine the number of people that, according to the model, will be willing to buy the Hidden Farm coffee. \n",
    "1. First we subset the Prediction dataset into `new_X` considering all the variables except `Decision` \n",
    "2. Use that dataset to predict a new variable called `potential_buyers`"
   ],
   "metadata": {
    "id": "a01RQxef27m9",
    "cell_id": "f810b96eed474567828aee6161511d17",
    "deepnote_cell_type": "markdown"
   }
  },
  {
   "cell_type": "code",
   "source": [
    "# Feature selection\n",
    "# Make a variable called feature_cols, and assign it a list containing all the column names except 'Decision'\n",
    "feature_cols = [\"Age\", \"Gender\", \"num_coffeeBags_per_year\", \"spent_last_week\", \"spent_last_month\",\n",
    "       \"Salary\", \"Distance\", \"Online\"]\n",
    "\n",
    "# Make a variable called new_X, and assign it the subset of Prediction, containing just the feature_cols \n",
    "new_X = Prediction[feature_cols]"
   ],
   "metadata": {
    "id": "sN4Z56Sb27m9",
    "cell_id": "d2eb1c6943f843aa92ac459cf32936cd",
    "source_hash": "3bec7031",
    "execution_start": 1675780015256,
    "execution_millis": 0,
    "deepnote_to_be_reexecuted": false,
    "deepnote_cell_type": "code"
   },
   "outputs": [],
   "execution_count": null
  },
  {
   "cell_type": "code",
   "source": [
    "# Call get_dummies() on the Pandas object pd, with new_X plugged in, to one-hot encode all features in the training set\n",
    "new_X = pd.get_dummies(new_X)\n",
    "\n",
    "# Make a variable called potential_buyers, and assign it the result of calling predict() on a model of your choice; \n",
    "# don't forget to pass new_X to predict()\n",
    "potential_buyers = gini_model2.predict(new_X)"
   ],
   "metadata": {
    "id": "hJtAgLwI27m_",
    "cell_id": "a53d346016494aa9a6225cc9c40428a8",
    "source_hash": "c0600a62",
    "execution_start": 1675780015257,
    "execution_millis": 0,
    "deepnote_to_be_reexecuted": false,
    "deepnote_cell_type": "code"
   },
   "outputs": [],
   "execution_count": null
  },
  {
   "cell_type": "code",
   "source": [
    "# Let's get the numbers of YES's and NO's in the potential buyers \n",
    "# Call unique() on np, and pass potential_buyers and return_counts=True \n",
    "np.unique(potential_buyers, return_counts=True)"
   ],
   "metadata": {
    "id": "sRHlWr6227nB",
    "colab": {
     "base_uri": "https://localhost:8080/"
    },
    "cell_id": "c4c8b3fa0a9847dbbb60e9ec2df9b6f3",
    "outputId": "237e7fcf-8b96-4e7a-e303-15bddac1767f",
    "source_hash": "fca82cf8",
    "execution_start": 1675780015259,
    "execution_millis": 1,
    "deepnote_to_be_reexecuted": false,
    "deepnote_cell_type": "code"
   },
   "outputs": [],
   "execution_count": null
  },
  {
   "cell_type": "markdown",
   "source": [
    "The total number of potential buyers is 303 + 183 = 486"
   ],
   "metadata": {
    "id": "80ZWqWGs27nD",
    "cell_id": "0060d23c6d9d43d3a3e133c149c4099f",
    "deepnote_cell_type": "markdown"
   }
  },
  {
   "cell_type": "code",
   "source": [
    "# Print the total number of surveyed people \n",
    "print(\"The total number of surveyed people was\", coffeeData.Salary.count())\n",
    "\n"
   ],
   "metadata": {
    "id": "lMCYZ27Y27nD",
    "colab": {
     "base_uri": "https://localhost:8080/"
    },
    "cell_id": "d9b9a2326d90497aaf6f2afb440a9a1b",
    "outputId": "d77c30a4-f6ce-4197-b4cd-0deb9fb4200a",
    "source_hash": "49a378db",
    "execution_start": 1675780015282,
    "execution_millis": 286,
    "deepnote_to_be_reexecuted": false,
    "deepnote_cell_type": "code"
   },
   "outputs": [],
   "execution_count": null
  },
  {
   "cell_type": "code",
   "source": [
    "# Let's calculate the proportion of buyers\n",
    "486/702"
   ],
   "metadata": {
    "id": "oYM3t5JF27nF",
    "colab": {
     "base_uri": "https://localhost:8080/"
    },
    "cell_id": "0a7e70efa8214601b14812d6429bfd9a",
    "outputId": "f56a9e08-bbe5-4228-e83a-c5ddf2f65893",
    "source_hash": "2bead0c2",
    "execution_start": 1675780015283,
    "execution_millis": 110499,
    "deepnote_to_be_reexecuted": false,
    "deepnote_cell_type": "code"
   },
   "outputs": [],
   "execution_count": null
  },
  {
   "cell_type": "code",
   "source": [
    "# Print the percentage of people who want to buy the Hidden Farm coffee, by our model \n",
    "print(\"Only \", round((486/702)*100, 2), \"% of people want to buy the Hidden Farm coffee.\" )\n",
    "\n",
    "\n"
   ],
   "metadata": {
    "id": "3jJDAZaC27nH",
    "colab": {
     "base_uri": "https://localhost:8080/"
    },
    "cell_id": "814422f06128400a9620689a82ccbb56",
    "outputId": "4f0604c3-ff7b-4b00-a817-a35f5ab4ff41",
    "source_hash": "2c811845",
    "execution_start": 1675780015283,
    "execution_millis": 334,
    "deepnote_to_be_reexecuted": false,
    "deepnote_cell_type": "code"
   },
   "outputs": [],
   "execution_count": null
  },
  {
   "cell_type": "markdown",
   "source": [
    "## 4b. Decision\n",
    "Remember how you thought at the start: if more than 70% of the interviewed customers are likely to buy the Hidden Farm coffee, you will strike the deal with the local Hidden Farm farmers and sell the coffee. Otherwise, you won't strike the deal and the Hidden Farm coffee will remain in legends only. Well now's crunch time. Are you going to go ahead with that idea? If so, you won't be striking the deal with the Chinese farmers. \n",
    "\n",
    "They're called `decision trees`, aren't they? So where's the decision? What should you do? (Cue existential cat emoji). \n",
    "\n",
    "Ultimately, though, we can't write an algorithm to actually *make the business decision* for us. This is because such decisions depend on our values, what risks we are willing to take, the stakes of our decisions, and how important it us for us to *know* that we will succeed. What are you going to do with the models you've made? Are you going to risk everything, strike the deal with the *Hidden Farm* farmers, and sell the coffee? \n",
    "\n",
    "The philosopher of language Jason Stanley once wrote that the number of doubts our evidence has to rule out in order for us to know a given proposition depends on our stakes: the higher our stakes, the more doubts our evidence has to rule out, and therefore the harder it is for us to know things. We can end up paralyzed in predicaments; sometimes, we can act to better our situation only if we already know certain things, which we can only if our stakes were lower and we'd *already* bettered our situation. \n",
    "\n",
    "Data science and machine learning can't solve such problems. But what it can do is help us make great use of our data to help *inform* our decisions."
   ],
   "metadata": {
    "id": "kZwXNtjh27nK",
    "cell_id": "71387a83fb2749c0998d6f2d3da8201f",
    "deepnote_cell_type": "markdown"
   }
  },
  {
   "cell_type": "markdown",
   "source": [
    "## 5. Random Forest\n",
    "You might have noticed an important fact about decision trees. Each time we run a given decision tree algorithm to make a prediction (such as whether customers will buy the Hidden Farm coffee) we will actually get a slightly different result. This might seem weird, but it has a simple explanation: machine learning algorithms are by definition ***stochastic***, in that their output is at least partly determined by randomness. \n",
    "\n",
    "To account for this variability and ensure that we get the most accurate prediction, we might want to actually make lots of decision trees, and get a value that captures the centre or average of the outputs of those trees. Luckily, there's a method for this, known as the ***Random Forest***. \n",
    "\n",
    "Essentially, Random Forest involves making lots of trees with similar properties, and then performing summary statistics on the outputs of those trees to reach that central value. Random forests are hugely powerful classifers, and they can improve predictive accuracy and control over-fitting. \n",
    "\n",
    "Why not try to inform your decision with random forest? You'll need to make use of the RandomForestClassifier function within the sklearn.ensemble module, found [here](https://scikit-learn.org/stable/modules/generated/sklearn.ensemble.RandomForestClassifier.html). "
   ],
   "metadata": {
    "id": "crWWrpdox8i-",
    "cell_id": "8dba709324a84f41817c0582bdb76cd3",
    "deepnote_cell_type": "markdown"
   }
  },
  {
   "cell_type": "markdown",
   "source": [
    "### 5a. Import necessary modules"
   ],
   "metadata": {
    "id": "fI4fiVWq0IH9",
    "cell_id": "5a704ebcdd5e4d12ad2a132f448919b4",
    "deepnote_cell_type": "markdown"
   }
  },
  {
   "cell_type": "code",
   "source": [
    "from sklearn.ensemble import RandomForestClassifier\n",
    "from sklearn.datasets import make_classification"
   ],
   "metadata": {
    "id": "vSRTnHnD0D-O",
    "cell_id": "cd8f4932ab0f4a349fdc75fae4678e93",
    "source_hash": "39608d92",
    "execution_start": 1675780015285,
    "execution_millis": 525,
    "deepnote_to_be_reexecuted": false,
    "deepnote_cell_type": "code"
   },
   "outputs": [],
   "execution_count": null
  },
  {
   "cell_type": "markdown",
   "source": [
    "### 5b. Model\n",
    "You'll use your X_train and y_train variables just as before.\n",
    "\n",
    "You'll then need to make a variable (call it firstRFModel) to store your new Random Forest model. You'll assign this variable the result of calling RandomForestClassifier().\n",
    "\n",
    "Then, just as before, you'll call fit() on that firstRFModel variable, and plug in X_train and y_train.\n",
    "\n",
    "Finally, you should make a variable called y_pred, and assign it the result of calling the predict() method on your new firstRFModel, with the X_test data passed to it. "
   ],
   "metadata": {
    "id": "jKmFvvjb0WB9",
    "cell_id": "7b4486b8cb4249cdb55018e0a40fe6e2",
    "deepnote_cell_type": "markdown"
   }
  },
  {
   "cell_type": "code",
   "source": [
    "# Plug in appropriate max_depth and random_state parameters \n",
    "firstRFModel =RandomForestClassifier(max_depth= 3, random_state= 1234)\n",
    "firstRFModel.fit(X_train, y_train)\n"
   ],
   "metadata": {
    "id": "OQEeTiRG1aSm",
    "colab": {
     "base_uri": "https://localhost:8080/"
    },
    "cell_id": "4d1b22b92cf34a7eaf992de9b06fe835",
    "outputId": "1e6e5254-a29a-4838-c4b4-79dc43224904",
    "source_hash": "7053dbea",
    "execution_start": 1675780015423,
    "execution_millis": 415,
    "deepnote_to_be_reexecuted": false,
    "deepnote_cell_type": "code"
   },
   "outputs": [],
   "execution_count": null
  },
  {
   "cell_type": "markdown",
   "source": [
    "### 5c. Revise conclusion\n",
    "\n",
    "Has your conclusion changed? Or is the result of executing random forest the same as your best model reached by a single decision tree? "
   ],
   "metadata": {
    "id": "sCIt6pyn1zpb",
    "cell_id": "dd5e3afee70347d09c18214d149316e9",
    "deepnote_cell_type": "markdown"
   }
  },
  {
   "cell_type": "markdown",
   "source": [
    "<a style='text-decoration:none;line-height:16px;display:flex;color:#5B5B62;padding:10px;justify-content:end;' href='https://deepnote.com?utm_source=created-in-deepnote-cell&projectId=c633c656-abbc-4122-8847-d0df1a741540' target=\"_blank\">\n",
    "<img alt='Created in deepnote.com' style='display:inline;max-height:16px;margin:0px;margin-right:7.5px;' src='data:image/svg+xml;base64,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' > </img>\n",
    "Created in <span style='font-weight:600;margin-left:4px;'>Deepnote</span></a>"
   ],
   "metadata": {
    "tags": [],
    "created_in_deepnote_cell": true,
    "deepnote_cell_type": "markdown"
   }
  }
 ],
 "nbformat": 4,
 "nbformat_minor": 0,
 "metadata": {
  "colab": {
   "provenance": [],
   "collapsed_sections": [
    "uSpkk4Er27ly",
    "UuNUdVC027ly",
    "3pppAJIZ27l1",
    "XL6yGmQY27l8",
    "c3HLaOFk27mB",
    "GdigaqRI27mG",
    "dzZUinX-27mK",
    "4TxsvBr-27mN",
    "G4KbEX0827mV",
    "oe4kkpM027ma",
    "88xuZI4927mi",
    "Iy9DmgIG27mw"
   ]
  },
  "deepnote": {},
  "kernelspec": {
   "name": "python3",
   "language": "python",
   "display_name": "Python 3"
  },
  "language_info": {
   "name": "python",
   "version": "3.8.6",
   "mimetype": "text/x-python",
   "file_extension": ".py",
   "pygments_lexer": "ipython3",
   "codemirror_mode": {
    "name": "ipython",
    "version": 3
   },
   "nbconvert_exporter": "python"
  },
  "deepnote_notebook_id": "7ea5fe3404e8405aae838ce6db72fb96",
  "deepnote_execution_queue": [],
  "deepnote_persisted_session": {
   "createdAt": "2023-02-02T17:31:48.502Z"
  }
 }
}
