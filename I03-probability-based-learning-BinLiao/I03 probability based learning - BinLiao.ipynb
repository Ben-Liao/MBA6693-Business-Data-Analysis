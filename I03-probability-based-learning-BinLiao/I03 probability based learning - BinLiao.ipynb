{
 "cells": [
  {
   "attachments": {},
   "cell_type": "markdown",
   "metadata": {},
   "source": [
    "# Individual Assignments 3 - Probability Based Learning\n",
    "    Author: Bin Liao\n",
    "    Student ID: 3109220\n",
    "\n",
    "## 1. Instructions:\n",
    "The Centers for Medicare & Medicaid Services (CMS) rates hospitals in the U.S. on a scale of 1-5 to make it easier for patients and consumers to compare the quality of services offered by hospitals. The tasks of this assignment is to build a classification model to but a tool to help patients choose a hospital.\n",
    "\n",
    "### 1.1 Data source:\n",
    "The data necessary for the building the model is available in **hospital.csv** and **hospital_not_yet_rated.csv** on https://github.com/dearbharat/datasets\n",
    "\n",
    "### 1.2 Data Dictionary:\n",
    "- **Hospital Demographic Information**: This includes Provider ID (or, in other words, the Hospital ID), Hospital Name, Zip, Area, State, etc.\n",
    "- **Hospital overall rating**: Overall rating of the hospital. By default, CMS rates hospitals on ratings 1-5.\n",
    "- **Hospital Quality Information**: These are the columns that describe the scores received by hospitals based on different quality measures. These quality measures as defined by CMS (as per the year when the data was collected) are as follows:\n",
    "    - Mortality\n",
    "    - Safety of Care\n",
    "    - Readmission\n",
    "    - Patient Experience\n",
    "    - Effectiveness of Care\n",
    "    - Timeliness of Care\n",
    "    - Efficient Use of Medical Imaging   \n",
    "\n",
    "- Each qualitative measure has been quantified in 2 ways:\n",
    "    - **Measure national comparison**: For e.g., for a hospital's Mortality score, you can refer to the column 'Mortality National Comparison'. The score information can be understood as follows:\n",
    "        - A score of 2 indicates the hospital performs better than the national average\n",
    "        - A score of 1 indicates the hospital's performance is similar to the national average\n",
    "        - A score of 0 indicates the hospital's performance is worse than the national average\n",
    "    - **Sub-Measure** level information: For each of the measures, you also have the information of their sub-measures and their respective scores as well. This has been encoded in the following format: For e.g., for a hospital's Mortality sub-measure, you can find them in all the columns which have a MORT prefix in them (like MORT_30_AMI_Score). Each of the sub-measures has a  combined effect on the overall measure rating of a hospital.\n",
    "\n",
    "### 1.3 Import the library"
   ]
  },
  {
   "cell_type": "code",
   "execution_count": 67,
   "metadata": {},
   "outputs": [],
   "source": [
    "import pandas as pd\n",
    "from sklearn.naive_bayes import GaussianNB\n",
    "from sklearn.model_selection import train_test_split\n",
    "from sklearn.tree import DecisionTreeClassifier\n",
    "from sklearn.metrics import classification_report, accuracy_score, precision_score, recall_score, f1_score\n",
    "from sklearn.preprocessing import StandardScaler\n",
    "import matplotlib.pyplot as plt\n",
    "import seaborn as sns\n"
   ]
  },
  {
   "attachments": {},
   "cell_type": "markdown",
   "metadata": {},
   "source": [
    "## 2. Undestand the data\n",
    "\n",
    "### 2.1 Load the data"
   ]
  },
  {
   "cell_type": "code",
   "execution_count": 68,
   "metadata": {},
   "outputs": [
    {
     "name": "stdout",
     "output_type": "stream",
     "text": [
      "Index(['Provider ID', 'Hospital Name', 'Address', 'City', 'State', 'ZIP Code',\n",
      "       'County Name', 'Phone Number', 'Hospital Ownership',\n",
      "       'Emergency Services', 'Hospital overall rating',\n",
      "       'Mortality national comparison', 'Safety of care national comparison',\n",
      "       'Readmission national comparison',\n",
      "       'Patient experience national comparison',\n",
      "       'Effectiveness of care national comparison',\n",
      "       'Timeliness of care national comparison',\n",
      "       'Efficient use of medical imaging national comparison',\n",
      "       'MORT_30_AMI_Score', 'MORT_30_CABG_Score', 'MORT_30_COPD_Score',\n",
      "       'MORT_30_HF_Score', 'MORT_30_PN_Score', 'MORT_30_STK_Score',\n",
      "       'rating_group', 'READM_30_AMI_Score', 'READM_30_CABG_Score',\n",
      "       'READM_30_COPD_Score', 'READM_30_HF_Score', 'READM_30_HIP_KNEE_Score',\n",
      "       'READM_30_HOSP_WIDE_Score', 'READM_30_PN_Score', 'READM_30_STK_Score',\n",
      "       'TIME_OP_21_Score', 'TIME_OP_5_Score', 'EFF_EDV_Score',\n",
      "       'EFF_ED_1b_Score', 'EFF_ED_2b_Score', 'EFF_IMM_2_Score',\n",
      "       'EFF_IMM_3_OP_27_FAC_ADHPCT_Score', 'EFF_OP_18b_Score',\n",
      "       'EFF_OP_20_Score', 'EFF_OP_22_Score', 'EFF_OP_29_Score',\n",
      "       'EFF_OP_30_Score', 'EFF_OP_4_Score', 'EFF_PC_01_Score',\n",
      "       'EFF_STK_1_Score', 'EFF_STK_10_Score', 'EFF_STK_2_Score',\n",
      "       'EFF_STK_4_Score', 'EFF_STK_5_Score', 'EFF_STK_6_Score',\n",
      "       'EFF_VTE_1_Score', 'EFF_VTE_2_Score', 'EFF_VTE_3_Score',\n",
      "       'EFF_VTE_5_Score', 'EFF_VTE_6_Score', 'EXP_H_CLEAN_STAR_RATING_Score',\n",
      "       'EXP_H_COMP_1_STAR_RATING_Score', 'EXP_H_COMP_2_STAR_RATING_Score',\n",
      "       'EXP_H_COMP_3_STAR_RATING_Score', 'EXP_H_COMP_4_STAR_RATING_Score',\n",
      "       'EXP_H_COMP_5_STAR_RATING_Score', 'EXP_H_COMP_6_STAR_RATING_Score',\n",
      "       'EXP_H_COMP_7_STAR_RATING_Score', 'EXP_H_HSP_RATING_STAR_RATING_Score',\n",
      "       'EXP_H_QUIET_STAR_RATING_Score', 'EXP_H_RECMND_STAR_RATING_Score',\n",
      "       'EXP_H_STAR_RATING_Score', 'SAFETY_COMP_HIP_KNEE_Score',\n",
      "       'SAFETY_PSI_12_POSTOP_PULMEMB_DVT_Score',\n",
      "       'SAFETY_PSI_13_POST_SEPSIS_Score', 'SAFETY_PSI_14_POSTOP_DEHIS_Score',\n",
      "       'SAFETY_PSI_15_ACC_LAC_Score', 'SAFETY_PSI_3_ULCER_Score',\n",
      "       'SAFETY_PSI_4_SURG_COMP_Score', 'SAFETY_PSI_6_IAT_PTX_Score',\n",
      "       'SAFETY_PSI_7_CVCBI_Score', 'SAFETY_PSI_90_SAFETY_Score',\n",
      "       'SAFETY_HAI_1_SIR_Score', 'SAFETY_HAI_1a_SIR_Score',\n",
      "       'SAFETY_HAI_2_SIR_Score', 'SAFETY_HAI_2a_SIR_Score',\n",
      "       'SAFETY_HAI_3_SIR_Score', 'SAFETY_HAI_4_SIR_Score',\n",
      "       'SAFETY_HAI_5_SIR_Score', 'SAFETY_HAI_6_SIR_Score', 'MED_OP_10_Score',\n",
      "       'MED_OP_11_Score', 'MED_OP_13_Score', 'MED_OP_14_Score',\n",
      "       'MED_OP_8_Score', 'MED_OP_9_Score'],\n",
      "      dtype='object')\n"
     ]
    }
   ],
   "source": [
    "# load the hospital data\n",
    "hospital_df = pd.read_csv(\"https://raw.githubusercontent.com/dearbharat/datasets/main/hospital.csv\")\n",
    "\n",
    "# load the hospital not yet rated data\n",
    "not_rated_df = pd.read_csv(\"https://raw.githubusercontent.com/dearbharat/datasets/main/hospital_not_yet_rated.csv\")\n",
    "\n",
    "# inspect the key variables\n",
    "print(hospital_df.columns)\n"
   ]
  },
  {
   "cell_type": "code",
   "execution_count": 69,
   "metadata": {},
   "outputs": [
    {
     "data": {
      "text/html": [
       "<div>\n",
       "<style scoped>\n",
       "    .dataframe tbody tr th:only-of-type {\n",
       "        vertical-align: middle;\n",
       "    }\n",
       "\n",
       "    .dataframe tbody tr th {\n",
       "        vertical-align: top;\n",
       "    }\n",
       "\n",
       "    .dataframe thead th {\n",
       "        text-align: right;\n",
       "    }\n",
       "</style>\n",
       "<table border=\"1\" class=\"dataframe\">\n",
       "  <thead>\n",
       "    <tr style=\"text-align: right;\">\n",
       "      <th></th>\n",
       "      <th>Provider ID</th>\n",
       "      <th>Hospital Name</th>\n",
       "      <th>Address</th>\n",
       "      <th>City</th>\n",
       "      <th>State</th>\n",
       "      <th>ZIP Code</th>\n",
       "      <th>County Name</th>\n",
       "      <th>Phone Number</th>\n",
       "      <th>Hospital Ownership</th>\n",
       "      <th>Emergency Services</th>\n",
       "      <th>...</th>\n",
       "      <th>SAFETY_HAI_3_SIR_Score</th>\n",
       "      <th>SAFETY_HAI_4_SIR_Score</th>\n",
       "      <th>SAFETY_HAI_5_SIR_Score</th>\n",
       "      <th>SAFETY_HAI_6_SIR_Score</th>\n",
       "      <th>MED_OP_10_Score</th>\n",
       "      <th>MED_OP_11_Score</th>\n",
       "      <th>MED_OP_13_Score</th>\n",
       "      <th>MED_OP_14_Score</th>\n",
       "      <th>MED_OP_8_Score</th>\n",
       "      <th>MED_OP_9_Score</th>\n",
       "    </tr>\n",
       "  </thead>\n",
       "  <tbody>\n",
       "    <tr>\n",
       "      <th>0</th>\n",
       "      <td>10001</td>\n",
       "      <td>SOUTHEAST ALABAMA MEDICAL CENTER</td>\n",
       "      <td>1108 ROSS CLARK CIRCLE</td>\n",
       "      <td>DOTHAN</td>\n",
       "      <td>AL</td>\n",
       "      <td>36301</td>\n",
       "      <td>HOUSTON</td>\n",
       "      <td>3347938701</td>\n",
       "      <td>Government</td>\n",
       "      <td>Yes</td>\n",
       "      <td>...</td>\n",
       "      <td>-1.87000</td>\n",
       "      <td>-0.000000</td>\n",
       "      <td>-0.422000</td>\n",
       "      <td>-0.787</td>\n",
       "      <td>-6.4</td>\n",
       "      <td>-0.900000</td>\n",
       "      <td>-7.100000</td>\n",
       "      <td>-2.400000</td>\n",
       "      <td>-38.100000</td>\n",
       "      <td>-6.9</td>\n",
       "    </tr>\n",
       "    <tr>\n",
       "      <th>1</th>\n",
       "      <td>10005</td>\n",
       "      <td>MARSHALL MEDICAL CENTER SOUTH</td>\n",
       "      <td>2505 U S HIGHWAY 431 NORTH</td>\n",
       "      <td>BOAZ</td>\n",
       "      <td>AL</td>\n",
       "      <td>35957</td>\n",
       "      <td>MARSHALL</td>\n",
       "      <td>2565938310</td>\n",
       "      <td>Government</td>\n",
       "      <td>Yes</td>\n",
       "      <td>...</td>\n",
       "      <td>-0.38600</td>\n",
       "      <td>-0.871177</td>\n",
       "      <td>-1.388000</td>\n",
       "      <td>-0.405</td>\n",
       "      <td>-13.3</td>\n",
       "      <td>-10.200000</td>\n",
       "      <td>-5.300000</td>\n",
       "      <td>-4.000000</td>\n",
       "      <td>-42.800000</td>\n",
       "      <td>-5.1</td>\n",
       "    </tr>\n",
       "    <tr>\n",
       "      <th>2</th>\n",
       "      <td>10006</td>\n",
       "      <td>ELIZA COFFEE MEMORIAL HOSPITAL</td>\n",
       "      <td>205 MARENGO STREET</td>\n",
       "      <td>FLORENCE</td>\n",
       "      <td>AL</td>\n",
       "      <td>35631</td>\n",
       "      <td>LAUDERDALE</td>\n",
       "      <td>2567688400</td>\n",
       "      <td>Government</td>\n",
       "      <td>Yes</td>\n",
       "      <td>...</td>\n",
       "      <td>-0.31000</td>\n",
       "      <td>-0.871177</td>\n",
       "      <td>-1.261000</td>\n",
       "      <td>-0.513</td>\n",
       "      <td>-11.8</td>\n",
       "      <td>-4.600000</td>\n",
       "      <td>-0.000000</td>\n",
       "      <td>-4.600000</td>\n",
       "      <td>-45.600000</td>\n",
       "      <td>-9.1</td>\n",
       "    </tr>\n",
       "    <tr>\n",
       "      <th>3</th>\n",
       "      <td>10007</td>\n",
       "      <td>MIZELL MEMORIAL HOSPITAL</td>\n",
       "      <td>702 N MAIN ST</td>\n",
       "      <td>OPP</td>\n",
       "      <td>AL</td>\n",
       "      <td>36467</td>\n",
       "      <td>COVINGTON</td>\n",
       "      <td>3344933541</td>\n",
       "      <td>Voluntary</td>\n",
       "      <td>Yes</td>\n",
       "      <td>...</td>\n",
       "      <td>-0.96398</td>\n",
       "      <td>-0.871177</td>\n",
       "      <td>-0.987212</td>\n",
       "      <td>-0.000</td>\n",
       "      <td>-24.3</td>\n",
       "      <td>-6.100000</td>\n",
       "      <td>-4.716942</td>\n",
       "      <td>-2.964405</td>\n",
       "      <td>-39.964766</td>\n",
       "      <td>-20.7</td>\n",
       "    </tr>\n",
       "    <tr>\n",
       "      <th>4</th>\n",
       "      <td>10008</td>\n",
       "      <td>CRENSHAW COMMUNITY HOSPITAL</td>\n",
       "      <td>101 HOSPITAL CIRCLE</td>\n",
       "      <td>LUVERNE</td>\n",
       "      <td>AL</td>\n",
       "      <td>36049</td>\n",
       "      <td>CRENSHAW</td>\n",
       "      <td>3343353374</td>\n",
       "      <td>Others</td>\n",
       "      <td>Yes</td>\n",
       "      <td>...</td>\n",
       "      <td>-0.96398</td>\n",
       "      <td>-0.871177</td>\n",
       "      <td>-0.987212</td>\n",
       "      <td>-0.585</td>\n",
       "      <td>-3.6</td>\n",
       "      <td>-2.936245</td>\n",
       "      <td>-4.716942</td>\n",
       "      <td>-0.600000</td>\n",
       "      <td>-39.964766</td>\n",
       "      <td>-8.2</td>\n",
       "    </tr>\n",
       "  </tbody>\n",
       "</table>\n",
       "<p>5 rows × 94 columns</p>\n",
       "</div>"
      ],
      "text/plain": [
       "   Provider ID                     Hospital Name                     Address  \\\n",
       "0        10001  SOUTHEAST ALABAMA MEDICAL CENTER      1108 ROSS CLARK CIRCLE   \n",
       "1        10005     MARSHALL MEDICAL CENTER SOUTH  2505 U S HIGHWAY 431 NORTH   \n",
       "2        10006    ELIZA COFFEE MEMORIAL HOSPITAL          205 MARENGO STREET   \n",
       "3        10007          MIZELL MEMORIAL HOSPITAL               702 N MAIN ST   \n",
       "4        10008       CRENSHAW COMMUNITY HOSPITAL         101 HOSPITAL CIRCLE   \n",
       "\n",
       "       City State  ZIP Code County Name  Phone Number Hospital Ownership  \\\n",
       "0    DOTHAN    AL     36301     HOUSTON    3347938701         Government   \n",
       "1      BOAZ    AL     35957    MARSHALL    2565938310         Government   \n",
       "2  FLORENCE    AL     35631  LAUDERDALE    2567688400         Government   \n",
       "3       OPP    AL     36467   COVINGTON    3344933541          Voluntary   \n",
       "4   LUVERNE    AL     36049    CRENSHAW    3343353374             Others   \n",
       "\n",
       "  Emergency Services  ...  SAFETY_HAI_3_SIR_Score  SAFETY_HAI_4_SIR_Score  \\\n",
       "0                Yes  ...                -1.87000               -0.000000   \n",
       "1                Yes  ...                -0.38600               -0.871177   \n",
       "2                Yes  ...                -0.31000               -0.871177   \n",
       "3                Yes  ...                -0.96398               -0.871177   \n",
       "4                Yes  ...                -0.96398               -0.871177   \n",
       "\n",
       "   SAFETY_HAI_5_SIR_Score  SAFETY_HAI_6_SIR_Score  MED_OP_10_Score  \\\n",
       "0               -0.422000                  -0.787             -6.4   \n",
       "1               -1.388000                  -0.405            -13.3   \n",
       "2               -1.261000                  -0.513            -11.8   \n",
       "3               -0.987212                  -0.000            -24.3   \n",
       "4               -0.987212                  -0.585             -3.6   \n",
       "\n",
       "   MED_OP_11_Score  MED_OP_13_Score  MED_OP_14_Score  MED_OP_8_Score  \\\n",
       "0        -0.900000        -7.100000        -2.400000      -38.100000   \n",
       "1       -10.200000        -5.300000        -4.000000      -42.800000   \n",
       "2        -4.600000        -0.000000        -4.600000      -45.600000   \n",
       "3        -6.100000        -4.716942        -2.964405      -39.964766   \n",
       "4        -2.936245        -4.716942        -0.600000      -39.964766   \n",
       "\n",
       "   MED_OP_9_Score  \n",
       "0            -6.9  \n",
       "1            -5.1  \n",
       "2            -9.1  \n",
       "3           -20.7  \n",
       "4            -8.2  \n",
       "\n",
       "[5 rows x 94 columns]"
      ]
     },
     "execution_count": 69,
     "metadata": {},
     "output_type": "execute_result"
    }
   ],
   "source": [
    "# explore the hostpital datasets\n",
    "hospital_df.head()"
   ]
  },
  {
   "attachments": {},
   "cell_type": "markdown",
   "metadata": {},
   "source": [
    "### 2.2 Data Exploration\n",
    "- The dataset consistns of 96 columns and 3057 of rows.\n",
    "- Apart from the \"Hospital Demographic Information\" columns, columns are either floats or integers.\n",
    "- Our target columns is \"Hospital overall rating\"."
   ]
  },
  {
   "cell_type": "code",
   "execution_count": 70,
   "metadata": {},
   "outputs": [
    {
     "name": "stdout",
     "output_type": "stream",
     "text": [
      "<class 'pandas.core.frame.DataFrame'>\n",
      "RangeIndex: 3057 entries, 0 to 3056\n",
      "Data columns (total 94 columns):\n",
      " #   Column                                                Non-Null Count  Dtype  \n",
      "---  ------                                                --------------  -----  \n",
      " 0   Provider ID                                           3057 non-null   int64  \n",
      " 1   Hospital Name                                         3057 non-null   object \n",
      " 2   Address                                               3057 non-null   object \n",
      " 3   City                                                  3057 non-null   object \n",
      " 4   State                                                 3057 non-null   object \n",
      " 5   ZIP Code                                              3057 non-null   int64  \n",
      " 6   County Name                                           3057 non-null   object \n",
      " 7   Phone Number                                          3057 non-null   int64  \n",
      " 8   Hospital Ownership                                    3057 non-null   object \n",
      " 9   Emergency Services                                    3057 non-null   object \n",
      " 10  Hospital overall rating                               3057 non-null   int64  \n",
      " 11  Mortality national comparison                         3057 non-null   int64  \n",
      " 12  Safety of care national comparison                    3057 non-null   int64  \n",
      " 13  Readmission national comparison                       3057 non-null   int64  \n",
      " 14  Patient experience national comparison                3057 non-null   int64  \n",
      " 15  Effectiveness of care national comparison             3057 non-null   int64  \n",
      " 16  Timeliness of care national comparison                3057 non-null   int64  \n",
      " 17  Efficient use of medical imaging national comparison  3057 non-null   int64  \n",
      " 18  MORT_30_AMI_Score                                     3057 non-null   float64\n",
      " 19  MORT_30_CABG_Score                                    3057 non-null   float64\n",
      " 20  MORT_30_COPD_Score                                    3057 non-null   float64\n",
      " 21  MORT_30_HF_Score                                      3057 non-null   float64\n",
      " 22  MORT_30_PN_Score                                      3057 non-null   float64\n",
      " 23  MORT_30_STK_Score                                     3057 non-null   float64\n",
      " 24  rating_group                                          3057 non-null   float64\n",
      " 25  READM_30_AMI_Score                                    3057 non-null   float64\n",
      " 26  READM_30_CABG_Score                                   3057 non-null   float64\n",
      " 27  READM_30_COPD_Score                                   3057 non-null   float64\n",
      " 28  READM_30_HF_Score                                     3057 non-null   float64\n",
      " 29  READM_30_HIP_KNEE_Score                               3057 non-null   float64\n",
      " 30  READM_30_HOSP_WIDE_Score                              3057 non-null   float64\n",
      " 31  READM_30_PN_Score                                     3057 non-null   float64\n",
      " 32  READM_30_STK_Score                                    3057 non-null   float64\n",
      " 33  TIME_OP_21_Score                                      3057 non-null   float64\n",
      " 34  TIME_OP_5_Score                                       3057 non-null   float64\n",
      " 35  EFF_EDV_Score                                         3057 non-null   float64\n",
      " 36  EFF_ED_1b_Score                                       3057 non-null   float64\n",
      " 37  EFF_ED_2b_Score                                       3057 non-null   float64\n",
      " 38  EFF_IMM_2_Score                                       3057 non-null   float64\n",
      " 39  EFF_IMM_3_OP_27_FAC_ADHPCT_Score                      3057 non-null   float64\n",
      " 40  EFF_OP_18b_Score                                      3057 non-null   float64\n",
      " 41  EFF_OP_20_Score                                       3057 non-null   float64\n",
      " 42  EFF_OP_22_Score                                       3057 non-null   float64\n",
      " 43  EFF_OP_29_Score                                       3057 non-null   float64\n",
      " 44  EFF_OP_30_Score                                       3057 non-null   float64\n",
      " 45  EFF_OP_4_Score                                        3057 non-null   float64\n",
      " 46  EFF_PC_01_Score                                       3057 non-null   float64\n",
      " 47  EFF_STK_1_Score                                       3057 non-null   float64\n",
      " 48  EFF_STK_10_Score                                      3057 non-null   float64\n",
      " 49  EFF_STK_2_Score                                       3057 non-null   float64\n",
      " 50  EFF_STK_4_Score                                       3057 non-null   float64\n",
      " 51  EFF_STK_5_Score                                       3057 non-null   float64\n",
      " 52  EFF_STK_6_Score                                       3057 non-null   float64\n",
      " 53  EFF_VTE_1_Score                                       3057 non-null   float64\n",
      " 54  EFF_VTE_2_Score                                       3057 non-null   float64\n",
      " 55  EFF_VTE_3_Score                                       3057 non-null   float64\n",
      " 56  EFF_VTE_5_Score                                       3057 non-null   float64\n",
      " 57  EFF_VTE_6_Score                                       3057 non-null   float64\n",
      " 58  EXP_H_CLEAN_STAR_RATING_Score                         3057 non-null   float64\n",
      " 59  EXP_H_COMP_1_STAR_RATING_Score                        3057 non-null   float64\n",
      " 60  EXP_H_COMP_2_STAR_RATING_Score                        3057 non-null   float64\n",
      " 61  EXP_H_COMP_3_STAR_RATING_Score                        3057 non-null   float64\n",
      " 62  EXP_H_COMP_4_STAR_RATING_Score                        3057 non-null   float64\n",
      " 63  EXP_H_COMP_5_STAR_RATING_Score                        3057 non-null   float64\n",
      " 64  EXP_H_COMP_6_STAR_RATING_Score                        3057 non-null   float64\n",
      " 65  EXP_H_COMP_7_STAR_RATING_Score                        3057 non-null   float64\n",
      " 66  EXP_H_HSP_RATING_STAR_RATING_Score                    3057 non-null   float64\n",
      " 67  EXP_H_QUIET_STAR_RATING_Score                         3057 non-null   float64\n",
      " 68  EXP_H_RECMND_STAR_RATING_Score                        3057 non-null   float64\n",
      " 69  EXP_H_STAR_RATING_Score                               3057 non-null   float64\n",
      " 70  SAFETY_COMP_HIP_KNEE_Score                            3057 non-null   float64\n",
      " 71  SAFETY_PSI_12_POSTOP_PULMEMB_DVT_Score                3057 non-null   float64\n",
      " 72  SAFETY_PSI_13_POST_SEPSIS_Score                       3057 non-null   float64\n",
      " 73  SAFETY_PSI_14_POSTOP_DEHIS_Score                      3057 non-null   float64\n",
      " 74  SAFETY_PSI_15_ACC_LAC_Score                           3057 non-null   float64\n",
      " 75  SAFETY_PSI_3_ULCER_Score                              3057 non-null   float64\n",
      " 76  SAFETY_PSI_4_SURG_COMP_Score                          3057 non-null   float64\n",
      " 77  SAFETY_PSI_6_IAT_PTX_Score                            3057 non-null   float64\n",
      " 78  SAFETY_PSI_7_CVCBI_Score                              3057 non-null   float64\n",
      " 79  SAFETY_PSI_90_SAFETY_Score                            3057 non-null   float64\n",
      " 80  SAFETY_HAI_1_SIR_Score                                3057 non-null   float64\n",
      " 81  SAFETY_HAI_1a_SIR_Score                               3057 non-null   float64\n",
      " 82  SAFETY_HAI_2_SIR_Score                                3057 non-null   float64\n",
      " 83  SAFETY_HAI_2a_SIR_Score                               3057 non-null   float64\n",
      " 84  SAFETY_HAI_3_SIR_Score                                3057 non-null   float64\n",
      " 85  SAFETY_HAI_4_SIR_Score                                3057 non-null   float64\n",
      " 86  SAFETY_HAI_5_SIR_Score                                3057 non-null   float64\n",
      " 87  SAFETY_HAI_6_SIR_Score                                3057 non-null   float64\n",
      " 88  MED_OP_10_Score                                       3057 non-null   float64\n",
      " 89  MED_OP_11_Score                                       3057 non-null   float64\n",
      " 90  MED_OP_13_Score                                       3057 non-null   float64\n",
      " 91  MED_OP_14_Score                                       3057 non-null   float64\n",
      " 92  MED_OP_8_Score                                        3057 non-null   float64\n",
      " 93  MED_OP_9_Score                                        3057 non-null   float64\n",
      "dtypes: float64(76), int64(11), object(7)\n",
      "memory usage: 2.2+ MB\n",
      "None\n"
     ]
    }
   ],
   "source": [
    "# The hospital dataset info\n",
    "print(hospital_df.info())"
   ]
  },
  {
   "attachments": {},
   "cell_type": "markdown",
   "metadata": {},
   "source": [
    "### 2.3 \"hospital overall ratings\" insights"
   ]
  },
  {
   "cell_type": "code",
   "execution_count": 71,
   "metadata": {},
   "outputs": [
    {
     "name": "stdout",
     "output_type": "stream",
     "text": [
      "count    3057.000000\n",
      "mean        3.025842\n",
      "std         0.869600\n",
      "min         1.000000\n",
      "25%         2.000000\n",
      "50%         3.000000\n",
      "75%         4.000000\n",
      "max         5.000000\n",
      "Name: Hospital overall rating, dtype: float64\n"
     ]
    }
   ],
   "source": [
    "# summary statistics of hospital overall rating\n",
    "print(hospital_df['Hospital overall rating'].describe())"
   ]
  },
  {
   "cell_type": "code",
   "execution_count": 72,
   "metadata": {},
   "outputs": [
    {
     "data": {
      "image/png": "[encoded data removed]",
      "text/plain": [
       "<Figure size 640x480 with 1 Axes>"
      ]
     },
     "metadata": {},
     "output_type": "display_data"
    }
   ],
   "source": [
    "# distribution of hospital overall rating\n",
    "sns.countplot(x='Hospital overall rating', data=hospital_df)\n",
    "plt.show()"
   ]
  },
  {
   "attachments": {},
   "cell_type": "markdown",
   "metadata": {},
   "source": [
    "- The distribution of hospital overall ratings is slightly skewed to the right, with a larger proportion of hospitals having an overall rating of 3 or higher. This suggests that most hospitals in the dataset are performing relatively well in terms of the quality measures considered by CMS."
   ]
  },
  {
   "cell_type": "code",
   "execution_count": 73,
   "metadata": {},
   "outputs": [
    {
     "data": {
      "image/png": "[encoded data removed]",
      "text/plain": [
       "<Figure size 640x480 with 1 Axes>"
      ]
     },
     "metadata": {},
     "output_type": "display_data"
    }
   ],
   "source": [
    "# distribution of hospital overall rating by state\n",
    "sns.countplot(x='Hospital overall rating', hue='State', data=hospital_df)\n",
    "plt.show()"
   ]
  },
  {
   "attachments": {},
   "cell_type": "markdown",
   "metadata": {},
   "source": [
    "- The distribution of hospital overall ratings varies across different states. Some states have a higher proportion of hospitals with higher overall ratings, while other states have a higher proportion of hospitals with lower overall ratings. For example, California has a higher proportion of hospitals with overall rating 3 or higher, while Texas has a higher proportion of hospitals with overall rating 2 or lower."
   ]
  },
  {
   "cell_type": "code",
   "execution_count": 74,
   "metadata": {},
   "outputs": [
    {
     "data": {
      "image/png": "[encoded data removed]",
      "text/plain": [
       "<Figure size 640x480 with 1 Axes>"
      ]
     },
     "metadata": {},
     "output_type": "display_data"
    }
   ],
   "source": [
    "# distribution of hospital overall rating by Hospital Ownership\n",
    "sns.countplot(x='Hospital overall rating', hue='Hospital Ownership', data=hospital_df)\n",
    "plt.show()"
   ]
  },
  {
   "attachments": {},
   "cell_type": "markdown",
   "metadata": {},
   "source": [
    "- The distribution of hospital overall ratings varies 'Hospital Ownership' indicates that the hopital owns by voluntary tend to have a higher proporitiron of higher over all ratings, compared to hospitals that owned by the government or others."
   ]
  },
  {
   "attachments": {},
   "cell_type": "markdown",
   "metadata": {},
   "source": [
    "## 3. Building Machine Learning Models\n",
    "### 3.1 Building the model\n",
    "- Remove all the demographic columns and other unnecessary features\n",
    "- Instead of 1 - 5 ratings, convert it to 0 and 1 using 1,2,3 as 0 and 4,5: 1\n",
    "- Create the dummy variables for categorical columns as necessary.\n",
    "- Split the data into train and test sets (70-30 split)\n",
    "- Scale the numerical columns using StandardScaler."
   ]
  },
  {
   "cell_type": "code",
   "execution_count": 75,
   "metadata": {},
   "outputs": [],
   "source": [
    "# select relevant columns and convert overall rating to binary\n",
    "X = hospital_df[['Mortality national comparison', 'Safety of care national comparison',\n",
    "       'Readmission national comparison', 'Patient experience national comparison',\n",
    "       'Effectiveness of care national comparison', 'Timeliness of care national comparison',\n",
    "       'Efficient use of medical imaging national comparison']]\n",
    "y = hospital_df['Hospital overall rating'].apply(lambda x: 0 if x <= 3 else 1)\n",
    "\n",
    "# create dummy variables for categorical columns\n",
    "X = pd.get_dummies(X, drop_first=True)\n",
    "\n",
    "# split data into train and test sets (70-30 split)\n",
    "X_train, X_test, y_train, y_test = train_test_split(X, y, test_size=0.3, random_state=42)\n",
    "\n",
    "# scale numerical columns\n",
    "scaler = StandardScaler()\n",
    "X_train = scaler.fit_transform(X_train)\n",
    "X_test = scaler.transform(X_test)\n"
   ]
  },
  {
   "attachments": {},
   "cell_type": "markdown",
   "metadata": {},
   "source": [
    "### 3.2 Fitting the Model\n",
    "\n",
    "Instantiate the Gaussian Naive Bayes model and Decision Tree classifers, then fit it on the train dataset"
   ]
  },
  {
   "cell_type": "code",
   "execution_count": 76,
   "metadata": {},
   "outputs": [
    {
     "data": {
      "text/plain": [
       "DecisionTreeClassifier(random_state=42)"
      ]
     },
     "execution_count": 76,
     "metadata": {},
     "output_type": "execute_result"
    }
   ],
   "source": [
    "# build Naive Bayes classifier\n",
    "nb_clf = GaussianNB()\n",
    "nb_clf.fit(X_train, y_train)\n",
    "\n",
    "# build Decision Tree classifier\n",
    "dt_clf = DecisionTreeClassifier(random_state=42)\n",
    "dt_clf.fit(X_train, y_train)\n",
    "\n"
   ]
  },
  {
   "attachments": {},
   "cell_type": "markdown",
   "metadata": {},
   "source": [
    "### 3.3 Model Prediction\n",
    "\n",
    "Evaluate with the **Naive Bayes** and **Decision Tree** classifiers on the the test dataset."
   ]
  },
  {
   "cell_type": "code",
   "execution_count": 77,
   "metadata": {},
   "outputs": [
    {
     "name": "stdout",
     "output_type": "stream",
     "text": [
      "Naive Bayes Classifier Performance:\n",
      "Accuracy:  0.8660130718954249\n",
      "Precision:  0.7811158798283262\n",
      "Recall:  0.7165354330708661\n",
      "F1-Score:  0.7474332648870636\n",
      "\n",
      "Naive Bayes Classifier classification reposrt:\n",
      "              precision    recall  f1-score   support\n",
      "\n",
      "           0       0.89      0.92      0.91       664\n",
      "           1       0.78      0.72      0.75       254\n",
      "\n",
      "    accuracy                           0.87       918\n",
      "   macro avg       0.84      0.82      0.83       918\n",
      "weighted avg       0.86      0.87      0.86       918\n",
      "\n",
      "\n",
      "Decision Tree Classifier Performance:\n",
      "Accuracy:  0.8616557734204793\n",
      "Precision:  0.7748917748917749\n",
      "Recall:  0.7047244094488189\n",
      "F1-Score:  0.7381443298969071\n",
      "\n",
      "Decision Tree Classifier classification reposrt:\n",
      "              precision    recall  f1-score   support\n",
      "\n",
      "           0       0.89      0.92      0.91       664\n",
      "           1       0.77      0.70      0.74       254\n",
      "\n",
      "    accuracy                           0.86       918\n",
      "   macro avg       0.83      0.81      0.82       918\n",
      "weighted avg       0.86      0.86      0.86       918\n",
      "\n"
     ]
    }
   ],
   "source": [
    "# evaluate model performance on test set\n",
    "nb_preds = nb_clf.predict(X_test)\n",
    "dt_preds = dt_clf.predict(X_test)\n",
    "\n",
    "\n",
    "print(\"Naive Bayes Classifier Performance:\")\n",
    "print(\"Accuracy: \", accuracy_score(y_test, nb_preds))\n",
    "print(\"Precision: \", precision_score(y_test, nb_preds))\n",
    "print(\"Recall: \", recall_score(y_test, nb_preds))\n",
    "print(\"F1-Score: \", f1_score(y_test, nb_preds))\n",
    "print(\"\\nNaive Bayes Classifier classification reposrt:\")\n",
    "print(classification_report (y_test, nb_preds))\n",
    "\n",
    "print(\"\\nDecision Tree Classifier Performance:\")\n",
    "print(\"Accuracy: \", accuracy_score(y_test, dt_preds))\n",
    "print(\"Precision: \", precision_score(y_test, dt_preds))\n",
    "print(\"Recall: \", recall_score(y_test, dt_preds))\n",
    "print(\"F1-Score: \", f1_score(y_test, dt_preds))\n",
    "print(\"\\nDecision Tree Classifier classification reposrt:\")\n",
    "print(classification_report (y_test, dt_preds))\n"
   ]
  },
  {
   "attachments": {},
   "cell_type": "markdown",
   "metadata": {},
   "source": [
    "### 3.4 Outcome\n",
    "\n",
    "1. Both the Naive Bayes and Decision Tree classifiers have similar overall performance, with an accuracy of around 86% on the test set. Indeed, the accuracy of Navive Bayes is 86.6%, and the accuracy of Dcision Tree classfiers is 86.1%.\n",
    "\n",
    "2. The Naive Bayes classifier has a slightly higher precision score than the Decision Tree classifier for the positive class (hospital overall rating of 4 or 5), while the Decision Tree classifier has a slightly higher recall score for the positive class.\n",
    "\n",
    "3. Both classifiers have relatively high precision and recall scores for the negative class (hospital overall rating of 1, 2, or 3), with the Naive Bayes classifier performing slightly better in terms of recall.\n",
    "\n",
    "4. The F1-scores for both classifiers are also similar, with the Naive Bayes classifier having a slightly higher F1-score for the positive class and the Decision Tree classifier having a slightly higher F1-score for the negative class.\n",
    "\n",
    "Overall, both classifiers have reasonably good performance in predicting hospital overall ratings. The Naive Bayes has a slightly better perfomace. So we will choose the Naive Bayes for the next task on recomendation.\n"
   ]
  },
  {
   "attachments": {},
   "cell_type": "markdown",
   "metadata": {},
   "source": [
    "## 4. Recomandations\n",
    "According to the classification report result from the previous task, we will choose the Naive Bayes to make the recommendation.\n",
    "\n",
    "### 4.1 Hospital Rating Predictor:"
   ]
  },
  {
   "cell_type": "code",
   "execution_count": 78,
   "metadata": {},
   "outputs": [
    {
     "name": "stdout",
     "output_type": "stream",
     "text": [
      "[1 1 0 0 0 0]\n"
     ]
    }
   ],
   "source": [
    "# select relevant columns from the not rated data file and create dummy variables\n",
    "X_new = not_rated_df [['Mortality national comparison', 'Safety of care national comparison',\n",
    "       'Readmission national comparison', 'Patient experience national comparison',\n",
    "       'Effectiveness of care national comparison', 'Timeliness of care national comparison',\n",
    "       'Efficient use of medical imaging national comparison']]\n",
    "X_new = pd.get_dummies(X_new, drop_first=True)\n",
    "\n",
    "# scale numerical columns\n",
    "scaler = StandardScaler()\n",
    "X_new = scaler.fit_transform(X_new)\n",
    "\n",
    "# use Naive Bayes classifier to predict hospital ratings\n",
    "new_ratings = nb_clf.predict(X_new)\n",
    "\n",
    "# print predicted hospital ratings\n",
    "print(new_ratings)\n",
    "\n"
   ]
  },
  {
   "cell_type": "code",
   "execution_count": 79,
   "metadata": {},
   "outputs": [
    {
     "name": "stdout",
     "output_type": "stream",
     "text": [
      "   Provider ID  Predicted Rating\n",
      "0       520139                 1\n",
      "1       520189                 1\n",
      "2       370029                 0\n",
      "3       370032                 0\n",
      "4       370036                 0\n",
      "5       370037                 0\n"
     ]
    }
   ],
   "source": [
    "# combine predicted ratings with Provider ID and Hospital Name columns\n",
    "not_rated_df['Predicted Rating'] = new_ratings\n",
    "\n",
    "# print results as table\n",
    "print(not_rated_df[['Provider ID','Predicted Rating']])"
   ]
  },
  {
   "attachments": {},
   "cell_type": "markdown",
   "metadata": {},
   "source": [
    "### 4.2 Hospital Improvement Plan:"
   ]
  },
  {
   "cell_type": "code",
   "execution_count": 80,
   "metadata": {},
   "outputs": [
    {
     "name": "stdout",
     "output_type": "stream",
     "text": [
      "Identify hospitals with a rating of 3 or below.\n",
      "    Provider ID                     Hospital Name  Predicted Rating\n",
      "0         10001  SOUTHEAST ALABAMA MEDICAL CENTER                 1\n",
      "1         10005     MARSHALL MEDICAL CENTER SOUTH                 1\n",
      "2         10006    ELIZA COFFEE MEMORIAL HOSPITAL                 1\n",
      "3         10007          MIZELL MEMORIAL HOSPITAL                 1\n",
      "4         10008       CRENSHAW COMMUNITY HOSPITAL                 1\n",
      "5         10011                 ST VINCENT'S EAST                 1\n",
      "6         10012    DEKALB REGIONAL MEDICAL CENTER                 1\n",
      "7         10016     SHELBY BAPTIST MEDICAL CENTER                 1\n",
      "8         10019    HELEN KELLER MEMORIAL HOSPITAL                 0\n",
      "10        10022           CHEROKEE MEDICAL CENTER                 1\n"
     ]
    },
    {
     "name": "stderr",
     "output_type": "stream",
     "text": [
      "/Users/binliao/opt/anaconda3/lib/python3.9/site-packages/sklearn/base.py:443: UserWarning: X has feature names, but GaussianNB was fitted without feature names\n",
      "  warnings.warn(\n",
      "/var/folders/xf/ndnycc4j18x9kc8tx40krlw80000gn/T/ipykernel_75345/2773831890.py:23: SettingWithCopyWarning: \n",
      "A value is trying to be set on a copy of a slice from a DataFrame.\n",
      "Try using .loc[row_indexer,col_indexer] = value instead\n",
      "\n",
      "See the caveats in the documentation: https://pandas.pydata.org/pandas-docs/stable/user_guide/indexing.html#returning-a-view-versus-a-copy\n",
      "  low_ratings_df.loc[:, 'Predicted Rating'] = nb_clf.predict(pd.get_dummies(low_ratings_df[X.columns], drop_first=True))\n"
     ]
    }
   ],
   "source": [
    "# identify hospitals with 0 ratings\n",
    "zero_ratings_df = hospital_df[hospital_df['Hospital overall rating'] == 0]\n",
    "\n",
    "# identify hospitals with 0 ratings\n",
    "zero_ratings_df = hospital_df[hospital_df['Hospital overall rating'] == 0]\n",
    "\n",
    "if not zero_ratings_df.empty:\n",
    "    # add predicted ratings to zero_ratings_df\n",
    "    zero_ratings_df['Predicted Rating'] = nb_clf.predict(pd.get_dummies(zero_ratings_df[X.columns], drop_first=True))\n",
    "\n",
    "    # combine with hospital demographics\n",
    "    new_ratings = zero_ratings_df[['Provider ID', 'Hospital Name', 'Predicted Rating']]\n",
    "\n",
    "    # print out as a table\n",
    "    print(\"Identify hospitals with a rating of 0.\")\n",
    "    print(new_ratings)\n",
    "else:\n",
    "    # identify hospitals with ratings of 3 or below\n",
    "    low_ratings_df = hospital_df[hospital_df['Hospital overall rating'] <= 3]\n",
    "\n",
    "    if not low_ratings_df.empty:\n",
    "        # predict ratings for low-rated hospitals\n",
    "        low_ratings_df.loc[:, 'Predicted Rating'] = nb_clf.predict(pd.get_dummies(low_ratings_df[X.columns], drop_first=True))\n",
    "\n",
    "        # combine with hospital demographics\n",
    "        new_ratings = low_ratings_df[['Provider ID', 'Hospital Name', 'Predicted Rating']]\n",
    "\n",
    "        # print out as a table\n",
    "        print(\"Identify hospitals with a rating of 3 or below.\")\n",
    "        print(new_ratings.head(10))\n",
    "    else:\n",
    "        print(\"No hospitals with 0 ratings or ratings of 3 or below were found.\")\n",
    "\n"
   ]
  },
  {
   "attachments": {},
   "cell_type": "markdown",
   "metadata": {},
   "source": [
    "From the result, there is no hospital with 0 ratings. So we choose the hosiptal with a rating of 3 or below to apply on the Naive Bayes classification.\n",
    "\n",
    "#### 4.2.1 'MARSHALL MEDICAL CENTER SOUTH' recommandation\n",
    "\n",
    "As the result, we select the 'MARSHALL MEDICAL CENTER SOUTH' Hosipital with the Provider Id **10005** to do the recommandation."
   ]
  },
  {
   "cell_type": "code",
   "execution_count": 81,
   "metadata": {},
   "outputs": [
    {
     "name": "stdout",
     "output_type": "stream",
     "text": [
      "Quality Measures for Hospital 10005:\n",
      "Mortality Score: 0\n",
      "Safety of Care Score: 1\n",
      "Readmission Score: 2\n",
      "Patient Experience Score: 1\n",
      "Effectiveness of Care Score: 1\n",
      "Timeliness of Care Score: 2\n",
      "Efficient Use of Medical Imaging Score: 0\n"
     ]
    }
   ],
   "source": [
    "hospital_10005 = hospital_df[hospital_df['Provider ID'] == 10005]\n",
    "\n",
    "# print out the scores for the different quality measures\n",
    "print(\"Quality Measures for Hospital 10005:\")\n",
    "print(\"Mortality Score:\", hospital_10005['Mortality national comparison'].values[0])\n",
    "print(\"Safety of Care Score:\", hospital_10005['Safety of care national comparison'].values[0])\n",
    "print(\"Readmission Score:\", hospital_10005['Readmission national comparison'].values[0])\n",
    "print(\"Patient Experience Score:\", hospital_10005['Patient experience national comparison'].values[0])\n",
    "print(\"Effectiveness of Care Score:\", hospital_10005['Effectiveness of care national comparison'].values[0])\n",
    "print(\"Timeliness of Care Score:\", hospital_10005['Timeliness of care national comparison'].values[0])\n",
    "print(\"Efficient Use of Medical Imaging Score:\", hospital_10005['Efficient use of medical imaging national comparison'].values[0])"
   ]
  },
  {
   "attachments": {},
   "cell_type": "markdown",
   "metadata": {},
   "source": [
    "Based on the data, it seems like the MARSHALL MEDICAL CENTER SOUTH hospital has lower scores in the following measures:\n",
    "\n",
    "- Mortality\n",
    "- Efficient use of medical imaging\n",
    "\n",
    "To improve the ratings, the hospital could focus on the following areas:\n",
    "1. Mortality Score:\n",
    "    - Improve training and resources for staff in emergency response and critical care to reduce the likelihood of patient deaths.\n",
    "    - Ensure sufficient staffing levels to provide high-quality care and monitor patient conditions regularly.\n",
    "    - Increase patient education and communication to encourage adherence to treatment plans and promote self-care to reduce complications and readmissions.\n",
    "\n",
    "2. Efficient Use of Medical Imaging Score:\n",
    "    - Implement best practices and evidence-based guidelines for appropriate use of medical imaging to avoid unnecessary testing and reduce costs.\n",
    "    - Provide continuing education for physicians and other medical staff to keep them up-to-date on the latest research and techniques in medical imaging.\n",
    "    - Utilize decision support tools and technology to help physicians make informed decisions about medical imaging tests based on patient conditions and medical history.\n",
    "\n",
    "These recommendations can help improve the quality of care provided by Marshall Medical Center South, potentially leading to higher scores in these categories and an overall improvement in the hospital's rating."
   ]
  },
  {
   "attachments": {},
   "cell_type": "markdown",
   "metadata": {},
   "source": [
    "#### 4.2.2 'CRENSHAW COMMUNITY HOSPITAL' recommandation\n",
    "\n",
    "Then, we select the CRENSHAW COMMUNITY HOSPITAL' Hosipital with the Provider Id **10008** to do the recommandation."
   ]
  },
  {
   "cell_type": "code",
   "execution_count": 82,
   "metadata": {},
   "outputs": [
    {
     "name": "stdout",
     "output_type": "stream",
     "text": [
      "Quality Measures for Hospital 10008:  CRENSHAW COMMUNITY HOSPITAL\n",
      "Mortality Score: 1\n",
      "Safety of Care Score: 1\n",
      "Readmission Score: 1\n",
      "Patient Experience Score: 1\n",
      "Effectiveness of Care Score: 1\n",
      "Timeliness of Care Score: 2\n",
      "Efficient Use of Medical Imaging Score: 1\n"
     ]
    }
   ],
   "source": [
    "hospital_10008 = hospital_df[hospital_df['Provider ID'] == 10008]\n",
    "\n",
    "# print out the scores for the different quality measures\n",
    "print(\"Quality Measures for Hospital 10008: \", hospital_10008['Hospital Name'].values[0] )\n",
    "print(\"Mortality Score:\", hospital_10008['Mortality national comparison'].values[0])\n",
    "print(\"Safety of Care Score:\", hospital_10008['Safety of care national comparison'].values[0])\n",
    "print(\"Readmission Score:\", hospital_10008['Readmission national comparison'].values[0])\n",
    "print(\"Patient Experience Score:\", hospital_10008['Patient experience national comparison'].values[0])\n",
    "print(\"Effectiveness of Care Score:\", hospital_10008['Effectiveness of care national comparison'].values[0])\n",
    "print(\"Timeliness of Care Score:\", hospital_10008['Timeliness of care national comparison'].values[0])\n",
    "print(\"Efficient Use of Medical Imaging Score:\", hospital_10008['Efficient use of medical imaging national comparison'].values[0])"
   ]
  },
  {
   "attachments": {},
   "cell_type": "markdown",
   "metadata": {},
   "source": [
    "There are some recommendations based on the qulity measures for the CRENSHAW COMMUNITY HOSPITAL:\n",
    "\n",
    "1. Mortality Score: The hospital should focus on reducing mortality rates. They can invest in training staff in advanced life support, developing guidelines for managing medical emergencies and ensuring that staff follow them, improving communication and collaboration between healthcare teams, and monitoring patient outcomes to identify areas for improvement.\n",
    "\n",
    "2. Safety of Care Score: The hospital should work on reducing the incidence of medical errors and adverse events. They can implement a comprehensive patient safety program that includes identifying and reporting errors, investigating their causes, and implementing measures to prevent them from recurring. This can include improving staff training, using technology to reduce errors, and involving patients and families in their care.\n",
    "\n",
    "3. Readmission Score: The hospital can work on reducing the rate of readmissions. They can ensure that patients are discharged with clear instructions on how to manage their condition, including medication management, follow-up appointments, and symptom monitoring. They can also implement a follow-up program to check in with patients after discharge, identify any issues, and address them promptly.\n",
    "\n",
    "4. Patient Experience Score: The hospital should focus on improving patient satisfaction. They can improve communication between staff and patients, ensure that patients are informed about their treatment options and involved in decision-making, and provide a comfortable and welcoming environment. They can also implement a patient feedback program to gather feedback and use it to make improvements.\n",
    "\n",
    "5. Effectiveness of Care Score: The hospital can work on improving the effectiveness of care provided to patients. They can focus on ensuring that patients receive evidence-based treatments and that care is delivered in a timely and efficient manner. They can also implement measures to improve care coordination between healthcare teams, reduce wait times for appointments and tests, and improve the use of technology to support care delivery.\n",
    "\n",
    "6. Timeliness of Care Score: The Timeliness of Care Score is already over the average. The hospital can focus on maintaining and improving their current performance in this measure. This can involve ensuring that their appointment scheduling and testing processes are efficient and that patients are seen in a timely manner. They can also consider implementing technologies such as telemedicine to further improve access to care. Additionally, they can gather feedback from patients to identify any areas for improvement and make necessary changes to improve the patient experience.\n",
    "\n",
    "7. Efficient Use of Medical Imaging Score: The hospital can work on improving the efficient use of medical imaging. They can ensure that imaging tests are ordered only when necessary, that the appropriate imaging test is used, and that the results are communicated promptly to patients and their healthcare teams. They can also implement measures to reduce radiation exposure to patients.\n",
    "\n",
    "By focusing on these areas, \"CRENSHAW COMMUNITY HOSPITAL\" can improve their ratings and provide better care to their patients.\n"
   ]
  },
  {
   "attachments": {},
   "cell_type": "markdown",
   "metadata": {},
   "source": [
    "#### 4.2.3 'HELEN KELLER MEMORIAL HOSPITAL' recommandation\n",
    "\n",
    "At last, we select the 'HELEN KELLER MEMORIAL HOSPITALL' Hosipital with the Provider Id **10019** to do the recommandation."
   ]
  },
  {
   "cell_type": "code",
   "execution_count": 83,
   "metadata": {},
   "outputs": [
    {
     "name": "stdout",
     "output_type": "stream",
     "text": [
      "Quality Measures for Hospital 10019:  HELEN KELLER MEMORIAL HOSPITAL\n",
      "Mortality Score: 0\n",
      "Safety of Care Score: 0\n",
      "Readmission Score: 0\n",
      "Patient Experience Score: 0\n",
      "Effectiveness of Care Score: 1\n",
      "Timeliness of Care Score: 2\n",
      "Efficient Use of Medical Imaging Score: 0\n"
     ]
    }
   ],
   "source": [
    "hospital_10019 = hospital_df[hospital_df['Provider ID'] == 10019]\n",
    "\n",
    "# print out the scores for the different quality measures\n",
    "print(\"Quality Measures for Hospital 10019: \", hospital_10019['Hospital Name'].values[0] )\n",
    "print(\"Mortality Score:\", hospital_10019['Mortality national comparison'].values[0])\n",
    "print(\"Safety of Care Score:\", hospital_10019['Safety of care national comparison'].values[0])\n",
    "print(\"Readmission Score:\", hospital_10019['Readmission national comparison'].values[0])\n",
    "print(\"Patient Experience Score:\", hospital_10019['Patient experience national comparison'].values[0])\n",
    "print(\"Effectiveness of Care Score:\", hospital_10008['Effectiveness of care national comparison'].values[0])\n",
    "print(\"Timeliness of Care Score:\", hospital_10019['Timeliness of care national comparison'].values[0])\n",
    "print(\"Efficient Use of Medical Imaging Score:\", hospital_10019['Efficient use of medical imaging national comparison'].values[0])"
   ]
  },
  {
   "attachments": {},
   "cell_type": "markdown",
   "metadata": {},
   "source": [
    "Based on the provided quality measures for Helen Keller Memorial Hospital, the following recommendations can be made to improve their ratings:\n",
    "\n",
    "1. Mortality Score: The hospital should focus on improving their mortality rate by implementing evidence-based clinical practices and protocols. They should also invest in training programs for their staff to ensure they are up to date on the latest medical advancements and technologies.\n",
    "\n",
    "2. Safety of Care Score: The hospital can improve their safety of care score by implementing patient safety initiatives, such as hand hygiene protocols, fall prevention programs, and medication error reduction strategies. They should also create a culture of safety and encourage staff to report any safety concerns or incidents.\n",
    "\n",
    "3. Readmission Score: The hospital should focus on reducing readmissions by improving the discharge planning process and ensuring patients have access to appropriate follow-up care. They can also collaborate with community healthcare providers to develop seamless transitions of care for patients.\n",
    "\n",
    "4. Patient Experience Score: The hospital can improve their patient experience score by focusing on patient-centered care. They can create a welcoming and comfortable environment, provide clear communication with patients and their families, and involve patients in their care decisions.\n",
    "\n",
    "5. Effectiveness of Care Score: The hospital can continue to improve their effectiveness of care score by implementing evidence-based clinical practices and protocols. They should also invest in training programs for their staff to ensure they are up to date on the latest medical advancements and technologies.\n",
    "\n",
    "6. Timeliness of Care Score: The hospital should work on improving the timeliness of care provided to patients. They can implement measures to reduce wait times for appointments, tests, and treatments. They can also improve the use of technology to support care delivery, such as electronic health records and telemedicine.\n",
    "\n",
    "7. Efficient Use of Medical Imaging Score: The hospital should focus on appropriate utilization of medical imaging to reduce unnecessary radiation exposure for patients. They can implement evidence-based protocols for imaging orders and ensure that their imaging equipment is up to date and functioning properly.\n",
    "\n",
    "By implementing these recommendations, Helen Keller Memorial Hospital can work towards improving their overall ratings and providing high-quality care to their patients."
   ]
  }
 ],
 "metadata": {
  "kernelspec": {
   "display_name": "base",
   "language": "python",
   "name": "python3"
  },
  "language_info": {
   "codemirror_mode": {
    "name": "ipython",
    "version": 3
   },
   "file_extension": ".py",
   "mimetype": "text/x-python",
   "name": "python",
   "nbconvert_exporter": "python",
   "pygments_lexer": "ipython3",
   "version": "3.9.13"
  },
  "orig_nbformat": 4,
  "vscode": {
   "interpreter": {
    "hash": "3b2c0966adefe3e64a61b914cd2201c945cff9a55fedfbf295ec89500c203030"
   }
  }
 },
 "nbformat": 4,
 "nbformat_minor": 2
}
